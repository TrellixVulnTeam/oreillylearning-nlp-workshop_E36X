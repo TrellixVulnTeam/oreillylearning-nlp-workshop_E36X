{
 "cells": [
  {
   "cell_type": "code",
   "execution_count": 1,
   "id": "0a8199ca-5877-4eda-b7e3-d0bd8d066cf7",
   "metadata": {},
   "outputs": [],
   "source": [
    "from sklearn.datasets import fetch_20newsgroups\n",
    "from scipy.cluster.hierarchy import ward, dendrogram\n",
    "import matplotlib as mpl\n",
    "from scipy.cluster.hierarchy import fcluster\n",
    "from sklearn.metrics.pairwise import cosine_similarity\n",
    "import pandas as pd\n",
    "import numpy as np\n",
    "import matplotlib.pyplot as plt\n",
    "%matplotlib inline\n",
    "import re\n",
    "import string\n",
    "from nltk import word_tokenize\n",
    "from nltk.corpus import stopwords\n",
    "from nltk.stem import WordNetLemmatizer\n",
    "from sklearn.feature_extraction.text import TfidfVectorizer\n",
    "from collections import Counter\n",
    "from pylab import *\n",
    "import nltk\n",
    "import warnings\n",
    "warnings.filterwarnings('ignore')"
   ]
  },
  {
   "cell_type": "code",
   "execution_count": 2,
   "id": "dd4aa54c-ec4d-4be0-a594-b57091e19262",
   "metadata": {},
   "outputs": [
    {
     "name": "stdout",
     "output_type": "stream",
     "text": [
      "0123456789abcdefghijklmnopqrstuvwxyzABCDEFGHIJKLMNOPQRSTUVWXYZ!\"#$%&'()*+,-./:;<=>?@[\\]^_`{|}~ \t\n",
      "\u000b",
      "\f",
      "\n"
     ]
    }
   ],
   "source": [
    "print(string.printable)"
   ]
  },
  {
   "cell_type": "code",
   "execution_count": 3,
   "id": "cebc9ef8-0a4c-41a1-8ffb-0552c92f3335",
   "metadata": {},
   "outputs": [
    {
     "name": "stderr",
     "output_type": "stream",
     "text": [
      "[nltk_data] Downloading package stopwords to\n",
      "[nltk_data]     /Users/LNonyane/nltk_data...\n",
      "[nltk_data]   Package stopwords is already up-to-date!\n",
      "[nltk_data] Downloading package wordnet to\n",
      "[nltk_data]     /Users/LNonyane/nltk_data...\n",
      "[nltk_data]   Package wordnet is already up-to-date!\n"
     ]
    }
   ],
   "source": [
    "nltk.download('stopwords')\n",
    "stop_words = stopwords.words('english')\n",
    "stop_words = stop_words+list(string.printable)\n",
    "nltk.download('wordnet')\n",
    "lemmatizer = WordNetLemmatizer()"
   ]
  },
  {
   "cell_type": "code",
   "execution_count": 4,
   "id": "521d1f8f-3df6-4562-b8bc-03b56bba65df",
   "metadata": {},
   "outputs": [],
   "source": [
    "# Categories: \"For sale\", \"Electronics\", \"Religion\"\n",
    "categories = ['misc.forsale', 'sci.electronics', 'talk.religion.misc']"
   ]
  },
  {
   "cell_type": "code",
   "execution_count": 5,
   "id": "1f4c0a34-9aea-4791-a2ec-f88ebd004455",
   "metadata": {},
   "outputs": [],
   "source": [
    "# Fetch dataset\n",
    "news_data = fetch_20newsgroups(subset='train', categories=categories, shuffle=True, random_state=42, download_if_missing=True)"
   ]
  },
  {
   "cell_type": "code",
   "execution_count": 6,
   "id": "927c9e2c-b586-4088-9dbf-25025effbe18",
   "metadata": {},
   "outputs": [
    {
     "data": {
      "text/plain": [
       "['From: Steve@Busop.cit.wayne.edu (Steve Teolis)\\nSubject: Re: *** TurboGrafx System For SALE ***\\nOrganization: Wayne State University\\nLines: 38\\nDistribution: na\\nNNTP-Posting-Host: 141.217.75.24\\n\\n>TurboGrafx-16 Base Unit (works like new) with:\\n>       1 Controller\\n>       AC Adapter\\n>       Antenna hookup\\n>     * Games:\\n>         Kieth Courage\\n>         Victory Run\\n>         Fantasy Zone\\n>         Military Madness\\n>         Battle Royal\\n>         Legendary Axe\\n>         Blazing Lasers\\n>         Bloody Wolf\\n>\\n>  --------------------------------------\\n>* Will sell games separatley at $25 each\\n>  --------------------------------------\\n\\nYour kidding, $210.00, man o man, you can buy the system new for $49.00 at \\nElectronic Boutique and those games are only about $15 - $20.00 brand new.  \\nMaybe you should think about that price again if you REALLY need the money.\\n\\n\\n\\n\\n\\n\\n                        \\n                        \\n                        -=-=-=-=-=-=-=-=-=-=-=-=-=-=-\\n                            Wayne State University      \\n                                                       \\n                                Steve Teolis            \\n                             6050 Cass Ave. # 238       \\n                              Detroit, MI  48202        \\n                                                        \\n                           Steve@Busop.cit.wayne.edu    \\n                        -=-=-=-=-=-=-=-=-=-=-=-=-=-=-=-\\n',\n",
       " 'From: jks2x@holmes.acc.Virginia.EDU (Jason K. Schechner)\\nSubject: Foot switches for sale\\nOrganization: University of Virginia\\nLines: 11\\n\\n\\n\\tI have 2 foot switches for sale.  They\\'re great for guitar\\namps, and keyboards.  Each is about 1\" in diameter with a 6\\' (or so)\\ncable.  I\\'d like $15 for both, but make me an offer, who knows...\\n\\n-Jason\\n-- \\nSettle down, raise a family join the PTA, \\nbuy some sensible shoes, and a Chevrolet\\nAnd party \\'till you\\'re broke and they drag you away. It\\'s ok.\\n\\t\\t\\t\\t\\tAl Yankovic\\n',\n",
       " \"From: wayne@uva386.schools.virginia.edu (Tony Wayne)\\nSubject: Pink Noise\\nOrganization: Virginia's Public Education Network (Charlottesville)\\nLines: 4\\n\\nWhat is Pink noise and how is it used in sound experiments?\\n-tony\\n wayne@uva386.schools.virginia.edu\\n\\n\",\n",
       " \"From: lihan@ccwf.cc.utexas.edu (Bruce G. Bostwick)\\nSubject: Re: Membrane keypad with custom legend.\\nOrganization: The University of Texas at Austin, Austin TX\\nLines: 21\\nDistribution: usa\\nNNTP-Posting-Host: doc.cc.utexas.edu\\n\\nIn article <1993Apr21.125530.18387@texhrc.uucp> pyeatt@Texaco.com (Larry D. Pyeatt) writes:\\n>I had a catalog with membrane keypads, but I dunno what\\n>happened to it, and it was so long ago that I forget the\\n>name of the company.  Anyway, you could make your own\\n>legend and slip it behind the bezel.  Really nice and \\n>reasonably priced.  Can anyone tell me where to get some\\n>more of these critters?\\n\\nFor some reason the name Grayhill springs to mind -- saw something\\nlike that in a Grayhill catalog, along with options for custom printed\\noverlays and a neat little electroluuminescent backing that would make\\nthe whole shebang glow a nice shade of green ..\\n\\nmighty handy if you're trying to key a door combination in the dark\\nand don't want to TURN ON THE &%#$!! LIGHT ..\\n\\n-- \\n<BGB>\\nlihan@ccwf.cc.utexas.edu        /   The only reason the world hasn't\\n(really Bruce Bostwick)        /   dissolved into total chaos is that\\nfrom the great state of TEXAS /   Murphy's Law also applies to Murphy.\\n\",\n",
       " \"From: myoakam@cis.ohio-state.edu (micah r yoakam)\\nSubject: BOAT for SALE\\nOrganization: The Ohio State University Dept. of Computer and Info. Science\\nLines: 14\\nDistribution: USA\\nExpires: +60days\\nNNTP-Posting-Host: eucalyptus.cis.ohio-state.edu\\n\\nBOAT For SALE\\n1989 23' IMPERIAL FISHERMAN featuring\\n        Walkaround Cuddy Cabin, 305 V8 with VOLVO DUO PROP OUTDRIVE /\\\\/\\\\/\\\\/\\nAM-FM Cassette Stereo, VHF RADIO, 4x6 HUMMINGBIRD Fishfinder, ALL  Safty\\nequipment, Covers, and MUCH MORE.  \\n        18000 LB.  Capacity\\n        includes Storage Trailer\\n        Hardly used:  LESS Than 100 Hrs\\n\\nAsking: $15,000 OR Best OFFER.\\nFor Further information contact Gerald at 1-(419)-756-2950\\n                                        Mansfield, OH\\n\\n\\n\"]"
      ]
     },
     "execution_count": 6,
     "metadata": {},
     "output_type": "execute_result"
    }
   ],
   "source": [
    "news_data['data'][:5]"
   ]
  },
  {
   "cell_type": "raw",
   "id": "58106e74-e319-41e6-ad01-8ee53b859b52",
   "metadata": {},
   "source": [
    "The first 5 articles"
   ]
  },
  {
   "cell_type": "code",
   "execution_count": 7,
   "id": "c5a123ef-6a38-4050-8312-035d044965de",
   "metadata": {},
   "outputs": [
    {
     "name": "stdout",
     "output_type": "stream",
     "text": [
      "[0 0 1 ... 0 1 0]\n"
     ]
    }
   ],
   "source": [
    "# Check the categories of the news articles\n",
    "print(news_data.target)"
   ]
  },
  {
   "cell_type": "markdown",
   "id": "7854728a-1888-4713-8ed0-15ae6e816fa2",
   "metadata": {},
   "source": [
    "The target is the variable that we predict by making use of the rest of the variables in a dataset.\n",
    "\n",
    "Here, 0 refers to misc.forsale, 1 refers to sci.electronics, and 2 refers to talk.religion.misc."
   ]
  },
  {
   "cell_type": "code",
   "execution_count": 8,
   "id": "42f1b771-0427-436b-92d7-b1645119bf96",
   "metadata": {},
   "outputs": [
    {
     "data": {
      "text/html": [
       "<div>\n",
       "<style scoped>\n",
       "    .dataframe tbody tr th:only-of-type {\n",
       "        vertical-align: middle;\n",
       "    }\n",
       "\n",
       "    .dataframe tbody tr th {\n",
       "        vertical-align: top;\n",
       "    }\n",
       "\n",
       "    .dataframe thead th {\n",
       "        text-align: right;\n",
       "    }\n",
       "</style>\n",
       "<table border=\"1\" class=\"dataframe\">\n",
       "  <thead>\n",
       "    <tr style=\"text-align: right;\">\n",
       "      <th></th>\n",
       "      <th>text</th>\n",
       "      <th>category</th>\n",
       "    </tr>\n",
       "  </thead>\n",
       "  <tbody>\n",
       "    <tr>\n",
       "      <th>0</th>\n",
       "      <td>From: Steve@Busop.cit.wayne.edu (Steve Teolis)...</td>\n",
       "      <td>0</td>\n",
       "    </tr>\n",
       "    <tr>\n",
       "      <th>1</th>\n",
       "      <td>From: jks2x@holmes.acc.Virginia.EDU (Jason K. ...</td>\n",
       "      <td>0</td>\n",
       "    </tr>\n",
       "    <tr>\n",
       "      <th>2</th>\n",
       "      <td>From: wayne@uva386.schools.virginia.edu (Tony ...</td>\n",
       "      <td>1</td>\n",
       "    </tr>\n",
       "    <tr>\n",
       "      <th>3</th>\n",
       "      <td>From: lihan@ccwf.cc.utexas.edu (Bruce G. Bostw...</td>\n",
       "      <td>1</td>\n",
       "    </tr>\n",
       "    <tr>\n",
       "      <th>4</th>\n",
       "      <td>From: myoakam@cis.ohio-state.edu (micah r yoak...</td>\n",
       "      <td>0</td>\n",
       "    </tr>\n",
       "  </tbody>\n",
       "</table>\n",
       "</div>"
      ],
      "text/plain": [
       "                                                text  category\n",
       "0  From: Steve@Busop.cit.wayne.edu (Steve Teolis)...         0\n",
       "1  From: jks2x@holmes.acc.Virginia.EDU (Jason K. ...         0\n",
       "2  From: wayne@uva386.schools.virginia.edu (Tony ...         1\n",
       "3  From: lihan@ccwf.cc.utexas.edu (Bruce G. Bostw...         1\n",
       "4  From: myoakam@cis.ohio-state.edu (micah r yoak...         0"
      ]
     },
     "execution_count": 8,
     "metadata": {},
     "output_type": "execute_result"
    }
   ],
   "source": [
    "# To store news_data and the corresponding categories in a pandas DataFrame and view it, write the following code\n",
    "news_data_df = pd.DataFrame({'text' : news_data['data'], 'category' : news_data.target})\n",
    "news_data_df.head()"
   ]
  },
  {
   "cell_type": "code",
   "execution_count": 9,
   "id": "4b771812-1e82-4dce-b5b7-08b2cfe1bd66",
   "metadata": {},
   "outputs": [
    {
     "data": {
      "text/plain": [
       "1    591\n",
       "0    585\n",
       "2    377\n",
       "Name: category, dtype: int64"
      ]
     },
     "execution_count": 9,
     "metadata": {},
     "output_type": "execute_result"
    }
   ],
   "source": [
    "# Count the number of occurrences of each category\n",
    "news_data_df['category'].value_counts()"
   ]
  },
  {
   "cell_type": "markdown",
   "id": "c0275990-f87f-4004-9063-a936e7269ff0",
   "metadata": {},
   "source": [
    "Use a lambda function to extract tokens from each \"text\" of the news_data_df DataFrame. Check whether any of these tokens is a stop word, lemmatize the ones that are not stop words, and then concatenate them to recreate the sentence. Make use of the join function to concatenate a list of words into a single sentence. To replace anything other than letters, digits, and whitespaces with blank space, use a regular expression (re)."
   ]
  },
  {
   "cell_type": "code",
   "execution_count": 10,
   "id": "af277ce9-1038-4a39-9020-c2058fe8c628",
   "metadata": {},
   "outputs": [],
   "source": [
    "news_data_df['cleaned_text'] = news_data_df['text']\\\n",
    ".apply(lambda x : ' '.join\\\n",
    "       ([lemmatizer.lemmatize\\\n",
    "         (word.lower())\\\n",
    "         for word in word_tokenize\\\n",
    "         (re.sub(r'([^\\s\\w]|_)+', ' ',\\\n",
    "                 str(x))) if word.lower()\\\n",
    "         not in stop_words]))"
   ]
  },
  {
   "cell_type": "markdown",
   "id": "a040818f-a7dd-4d60-bea9-fe1700928a41",
   "metadata": {},
   "source": [
    "Create a TFIDF matrix and transform it into a DataFrame."
   ]
  },
  {
   "cell_type": "code",
   "execution_count": 11,
   "id": "6d182474-9528-4c92-915a-c68125529694",
   "metadata": {},
   "outputs": [
    {
     "data": {
      "text/html": [
       "<div>\n",
       "<style scoped>\n",
       "    .dataframe tbody tr th:only-of-type {\n",
       "        vertical-align: middle;\n",
       "    }\n",
       "\n",
       "    .dataframe tbody tr th {\n",
       "        vertical-align: top;\n",
       "    }\n",
       "\n",
       "    .dataframe thead th {\n",
       "        text-align: right;\n",
       "    }\n",
       "</style>\n",
       "<table border=\"1\" class=\"dataframe\">\n",
       "  <thead>\n",
       "    <tr style=\"text-align: right;\">\n",
       "      <th></th>\n",
       "      <th>0</th>\n",
       "      <th>1</th>\n",
       "      <th>2</th>\n",
       "      <th>3</th>\n",
       "      <th>4</th>\n",
       "      <th>5</th>\n",
       "      <th>6</th>\n",
       "      <th>7</th>\n",
       "      <th>8</th>\n",
       "      <th>9</th>\n",
       "      <th>...</th>\n",
       "      <th>190</th>\n",
       "      <th>191</th>\n",
       "      <th>192</th>\n",
       "      <th>193</th>\n",
       "      <th>194</th>\n",
       "      <th>195</th>\n",
       "      <th>196</th>\n",
       "      <th>197</th>\n",
       "      <th>198</th>\n",
       "      <th>199</th>\n",
       "    </tr>\n",
       "  </thead>\n",
       "  <tbody>\n",
       "    <tr>\n",
       "      <th>0</th>\n",
       "      <td>0.435655</td>\n",
       "      <td>0.0</td>\n",
       "      <td>0.000000</td>\n",
       "      <td>0.0</td>\n",
       "      <td>0.000000</td>\n",
       "      <td>0.127775</td>\n",
       "      <td>0.136811</td>\n",
       "      <td>0.127551</td>\n",
       "      <td>0.133311</td>\n",
       "      <td>0.0</td>\n",
       "      <td>...</td>\n",
       "      <td>0.0</td>\n",
       "      <td>0.0</td>\n",
       "      <td>0.0</td>\n",
       "      <td>0.0</td>\n",
       "      <td>0.0</td>\n",
       "      <td>0.113042</td>\n",
       "      <td>0.000000</td>\n",
       "      <td>0.000000</td>\n",
       "      <td>0.000000</td>\n",
       "      <td>0.0</td>\n",
       "    </tr>\n",
       "    <tr>\n",
       "      <th>1</th>\n",
       "      <td>0.000000</td>\n",
       "      <td>0.0</td>\n",
       "      <td>0.000000</td>\n",
       "      <td>0.0</td>\n",
       "      <td>0.000000</td>\n",
       "      <td>0.294937</td>\n",
       "      <td>0.000000</td>\n",
       "      <td>0.000000</td>\n",
       "      <td>0.000000</td>\n",
       "      <td>0.0</td>\n",
       "      <td>...</td>\n",
       "      <td>0.0</td>\n",
       "      <td>0.0</td>\n",
       "      <td>0.0</td>\n",
       "      <td>0.0</td>\n",
       "      <td>0.0</td>\n",
       "      <td>0.000000</td>\n",
       "      <td>0.000000</td>\n",
       "      <td>0.000000</td>\n",
       "      <td>0.000000</td>\n",
       "      <td>0.0</td>\n",
       "    </tr>\n",
       "    <tr>\n",
       "      <th>2</th>\n",
       "      <td>0.000000</td>\n",
       "      <td>0.0</td>\n",
       "      <td>0.000000</td>\n",
       "      <td>0.0</td>\n",
       "      <td>0.000000</td>\n",
       "      <td>0.000000</td>\n",
       "      <td>0.000000</td>\n",
       "      <td>0.000000</td>\n",
       "      <td>0.000000</td>\n",
       "      <td>0.0</td>\n",
       "      <td>...</td>\n",
       "      <td>0.0</td>\n",
       "      <td>0.0</td>\n",
       "      <td>0.0</td>\n",
       "      <td>0.0</td>\n",
       "      <td>0.0</td>\n",
       "      <td>0.000000</td>\n",
       "      <td>0.000000</td>\n",
       "      <td>0.000000</td>\n",
       "      <td>0.000000</td>\n",
       "      <td>0.0</td>\n",
       "    </tr>\n",
       "    <tr>\n",
       "      <th>3</th>\n",
       "      <td>0.000000</td>\n",
       "      <td>0.0</td>\n",
       "      <td>0.000000</td>\n",
       "      <td>0.0</td>\n",
       "      <td>0.000000</td>\n",
       "      <td>0.000000</td>\n",
       "      <td>0.000000</td>\n",
       "      <td>0.000000</td>\n",
       "      <td>0.000000</td>\n",
       "      <td>0.0</td>\n",
       "      <td>...</td>\n",
       "      <td>0.0</td>\n",
       "      <td>0.0</td>\n",
       "      <td>0.0</td>\n",
       "      <td>0.0</td>\n",
       "      <td>0.0</td>\n",
       "      <td>0.000000</td>\n",
       "      <td>0.142267</td>\n",
       "      <td>0.106317</td>\n",
       "      <td>0.100306</td>\n",
       "      <td>0.0</td>\n",
       "    </tr>\n",
       "    <tr>\n",
       "      <th>4</th>\n",
       "      <td>0.000000</td>\n",
       "      <td>0.0</td>\n",
       "      <td>0.207003</td>\n",
       "      <td>0.0</td>\n",
       "      <td>0.191897</td>\n",
       "      <td>0.182138</td>\n",
       "      <td>0.000000</td>\n",
       "      <td>0.000000</td>\n",
       "      <td>0.000000</td>\n",
       "      <td>0.0</td>\n",
       "      <td>...</td>\n",
       "      <td>0.0</td>\n",
       "      <td>0.0</td>\n",
       "      <td>0.0</td>\n",
       "      <td>0.0</td>\n",
       "      <td>0.0</td>\n",
       "      <td>0.000000</td>\n",
       "      <td>0.000000</td>\n",
       "      <td>0.000000</td>\n",
       "      <td>0.000000</td>\n",
       "      <td>0.0</td>\n",
       "    </tr>\n",
       "  </tbody>\n",
       "</table>\n",
       "<p>5 rows × 200 columns</p>\n",
       "</div>"
      ],
      "text/plain": [
       "        0    1         2    3         4         5         6         7    \\\n",
       "0  0.435655  0.0  0.000000  0.0  0.000000  0.127775  0.136811  0.127551   \n",
       "1  0.000000  0.0  0.000000  0.0  0.000000  0.294937  0.000000  0.000000   \n",
       "2  0.000000  0.0  0.000000  0.0  0.000000  0.000000  0.000000  0.000000   \n",
       "3  0.000000  0.0  0.000000  0.0  0.000000  0.000000  0.000000  0.000000   \n",
       "4  0.000000  0.0  0.207003  0.0  0.191897  0.182138  0.000000  0.000000   \n",
       "\n",
       "        8    9    ...  190  191  192  193  194       195       196       197  \\\n",
       "0  0.133311  0.0  ...  0.0  0.0  0.0  0.0  0.0  0.113042  0.000000  0.000000   \n",
       "1  0.000000  0.0  ...  0.0  0.0  0.0  0.0  0.0  0.000000  0.000000  0.000000   \n",
       "2  0.000000  0.0  ...  0.0  0.0  0.0  0.0  0.0  0.000000  0.000000  0.000000   \n",
       "3  0.000000  0.0  ...  0.0  0.0  0.0  0.0  0.0  0.000000  0.142267  0.106317   \n",
       "4  0.000000  0.0  ...  0.0  0.0  0.0  0.0  0.0  0.000000  0.000000  0.000000   \n",
       "\n",
       "        198  199  \n",
       "0  0.000000  0.0  \n",
       "1  0.000000  0.0  \n",
       "2  0.000000  0.0  \n",
       "3  0.100306  0.0  \n",
       "4  0.000000  0.0  \n",
       "\n",
       "[5 rows x 200 columns]"
      ]
     },
     "execution_count": 11,
     "metadata": {},
     "output_type": "execute_result"
    }
   ],
   "source": [
    "tfidf_model = TfidfVectorizer(max_features=200)\n",
    "tfidf_df = pd.DataFrame(tfidf_model.fit_transform(news_data_df['cleaned_text']).todense())\n",
    "sorted(tfidf_model.vocabulary_)\n",
    "tfidf_df.head()"
   ]
  },
  {
   "cell_type": "code",
   "execution_count": 12,
   "id": "f13ea62f-9034-48e8-864a-d20aeba6c89c",
   "metadata": {},
   "outputs": [],
   "source": [
    "# Calculate the distance\n",
    "from sklearn.metrics.pairwise import euclidean_distances as euclidean\n",
    "dist = 1 - euclidean(tfidf_df)"
   ]
  },
  {
   "cell_type": "code",
   "execution_count": 13,
   "id": "2f5f791c-1f54-458c-86e3-754beb46cffb",
   "metadata": {},
   "outputs": [
    {
     "data": {
      "image/png": "[encoded data removed]",
      "text/plain": [
       "<Figure size 432x288 with 1 Axes>"
      ]
     },
     "metadata": {
      "needs_background": "light"
     },
     "output_type": "display_data"
    }
   ],
   "source": [
    "# Dendogram for TFIDF representation of documents\n",
    "import scipy.cluster.hierarchy as sch\n",
    "dendogram = sch.dendrogram(sch.linkage(dist, method='ward'))\n",
    "plt.xlabel('Data Points')\n",
    "plt.ylabel('Euclidean Distance')\n",
    "plt.title('Dendogram')\n",
    "plt.show()"
   ]
  },
  {
   "cell_type": "markdown",
   "id": "48e3c885-bafa-4a09-ab23-cbecb028efd8",
   "metadata": {},
   "source": [
    "Use the fcluster() function to obtain the cluster labels of the clusters that were obtained by hierarchical clustering"
   ]
  },
  {
   "cell_type": "code",
   "execution_count": 14,
   "id": "50a3d6bb-80f2-4964-bade-b467ab4de96e",
   "metadata": {},
   "outputs": [
    {
     "data": {
      "text/plain": [
       "array([3, 3, 3, ..., 4, 4, 1], dtype=int32)"
      ]
     },
     "execution_count": 14,
     "metadata": {},
     "output_type": "execute_result"
    }
   ],
   "source": [
    "k = 4\n",
    "clusters = fcluster(sch.linkage(dist, method='ward'), k, criterion='maxclust')\n",
    "clusters"
   ]
  },
  {
   "cell_type": "markdown",
   "id": "2cfc209a-9de3-4327-bd18-d8e106fa7729",
   "metadata": {},
   "source": [
    "Make use of the crosstab function of pandas to compare the clusters we have obtained with the actual categories of news articles."
   ]
  },
  {
   "cell_type": "code",
   "execution_count": 15,
   "id": "f7de6f8b-1e85-4c52-8534-df96659a3ecb",
   "metadata": {},
   "outputs": [
    {
     "data": {
      "text/html": [
       "<div>\n",
       "<style scoped>\n",
       "    .dataframe tbody tr th:only-of-type {\n",
       "        vertical-align: middle;\n",
       "    }\n",
       "\n",
       "    .dataframe tbody tr th {\n",
       "        vertical-align: top;\n",
       "    }\n",
       "\n",
       "    .dataframe thead th {\n",
       "        text-align: right;\n",
       "    }\n",
       "</style>\n",
       "<table border=\"1\" class=\"dataframe\">\n",
       "  <thead>\n",
       "    <tr style=\"text-align: right;\">\n",
       "      <th>obtained_clusters</th>\n",
       "      <th>cluster_1</th>\n",
       "      <th>cluster_2</th>\n",
       "      <th>cluster_3</th>\n",
       "      <th>cluster_4</th>\n",
       "    </tr>\n",
       "    <tr>\n",
       "      <th>category</th>\n",
       "      <th></th>\n",
       "      <th></th>\n",
       "      <th></th>\n",
       "      <th></th>\n",
       "    </tr>\n",
       "  </thead>\n",
       "  <tbody>\n",
       "    <tr>\n",
       "      <th>misc.forsale</th>\n",
       "      <td>160</td>\n",
       "      <td>2</td>\n",
       "      <td>242</td>\n",
       "      <td>181</td>\n",
       "    </tr>\n",
       "    <tr>\n",
       "      <th>sci.electronics</th>\n",
       "      <td>123</td>\n",
       "      <td>3</td>\n",
       "      <td>29</td>\n",
       "      <td>436</td>\n",
       "    </tr>\n",
       "    <tr>\n",
       "      <th>talk.religion.misc</th>\n",
       "      <td>54</td>\n",
       "      <td>185</td>\n",
       "      <td>2</td>\n",
       "      <td>136</td>\n",
       "    </tr>\n",
       "  </tbody>\n",
       "</table>\n",
       "</div>"
      ],
      "text/plain": [
       "obtained_clusters   cluster_1  cluster_2  cluster_3  cluster_4\n",
       "category                                                      \n",
       "misc.forsale              160          2        242        181\n",
       "sci.electronics           123          3         29        436\n",
       "talk.religion.misc         54        185          2        136"
      ]
     },
     "execution_count": 15,
     "metadata": {},
     "output_type": "execute_result"
    }
   ],
   "source": [
    "news_data_df['obtained_clusters'] = clusters\n",
    "pd.crosstab(news_data_df['category'].replace\\\n",
    "           ({0: 'misc.forsale', 1: 'sci.electronics', 2: 'talk.religion.misc'}),\\\n",
    "           news_data_df['obtained_clusters'].replace({1: 'cluster_1', 2: 'cluster_2', 3: 'cluster_3', 4: 'cluster_4'}))"
   ]
  },
  {
   "cell_type": "markdown",
   "id": "03bb6ee1-4f3f-4913-9144-321aa1f012fb",
   "metadata": {},
   "source": [
    "Crosstab between actual categories and obtained clusters "
   ]
  },
  {
   "cell_type": "code",
   "execution_count": null,
   "id": "636df054-3ff9-4b60-bdc3-12ef6b11315f",
   "metadata": {},
   "outputs": [],
   "source": []
  }
 ],
 "metadata": {
  "kernelspec": {
   "display_name": "Python 3 (ipykernel)",
   "language": "python",
   "name": "python3"
  },
  "language_info": {
   "codemirror_mode": {
    "name": "ipython",
    "version": 3
   },
   "file_extension": ".py",
   "mimetype": "text/x-python",
   "name": "python",
   "nbconvert_exporter": "python",
   "pygments_lexer": "ipython3",
   "version": "3.9.5"
  }
 },
 "nbformat": 4,
 "nbformat_minor": 5
}
