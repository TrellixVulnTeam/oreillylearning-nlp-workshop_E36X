{
 "cells": [
  {
   "cell_type": "markdown",
   "id": "48e725ab-00c0-4d7a-9012-697a7468b794",
   "metadata": {},
   "source": [
    "### Exercise 3.13: Calculating the RMSE and MAPE of a Dataset\n",
    "In this exercise, we will calculate the RMSE and MAPE of hypothetical predicted and actual values. "
   ]
  },
  {
   "cell_type": "code",
   "execution_count": 1,
   "id": "ee01692a-c5fe-4a76-ab3d-e88566d74007",
   "metadata": {},
   "outputs": [
    {
     "name": "stdout",
     "output_type": "stream",
     "text": [
      "Root Mean Squared Error (RMSE) is: 0.21019038988498018\n"
     ]
    }
   ],
   "source": [
    "# Use sklearn's mean_squared_error to calculate the MSE and then use the sqrt function to calculate the RMSE.\n",
    "from sklearn.metrics import mean_squared_error\n",
    "\n",
    "from math import sqrt\n",
    "\n",
    "y_actual = [0,1,2,1,0]\n",
    "\n",
    "y_predicted = [0.03,1.2,1.6,.9,0.1]\n",
    "\n",
    "rms = sqrt(mean_squared_error(y_actual, y_predicted))\n",
    "\n",
    "print('Root Mean Squared Error (RMSE) is:', rms)"
   ]
  },
  {
   "cell_type": "code",
   "execution_count": 2,
   "id": "251689c8-6314-4ede-9972-7f48ddeab41c",
   "metadata": {},
   "outputs": [
    {
     "name": "stdout",
     "output_type": "stream",
     "text": [
      "Mean Absolute Percentage Error (MAPE) is: 16.6 %\n"
     ]
    }
   ],
   "source": [
    "# use sklearn's mean_absolute_error to calculate the MAPE of a hypothetical model prediction. \n",
    "from sklearn.metrics import mean_absolute_error\n",
    "\n",
    "y_actual = [0,1,2,1,0]\n",
    "\n",
    "y_predicted = [0.03,1.2,1.6,.9,0.1]\n",
    "\n",
    "mape = mean_absolute_error(y_actual, y_predicted) * 100\n",
    "\n",
    "print('Mean Absolute Percentage Error (MAPE) is:', round(mape,2), '%')"
   ]
  },
  {
   "cell_type": "code",
   "execution_count": null,
   "id": "19947b76-bd65-47fb-8d12-5931ac94a75e",
   "metadata": {},
   "outputs": [],
   "source": []
  }
 ],
 "metadata": {
  "kernelspec": {
   "display_name": "Python 3 (ipykernel)",
   "language": "python",
   "name": "python3"
  },
  "language_info": {
   "codemirror_mode": {
    "name": "ipython",
    "version": 3
   },
   "file_extension": ".py",
   "mimetype": "text/x-python",
   "name": "python",
   "nbconvert_exporter": "python",
   "pygments_lexer": "ipython3",
   "version": "3.9.5"
  }
 },
 "nbformat": 4,
 "nbformat_minor": 5
}
