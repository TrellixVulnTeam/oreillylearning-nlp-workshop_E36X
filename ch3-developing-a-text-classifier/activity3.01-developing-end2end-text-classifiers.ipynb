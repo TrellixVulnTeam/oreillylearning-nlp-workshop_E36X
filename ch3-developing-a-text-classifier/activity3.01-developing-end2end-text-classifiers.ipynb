{
 "cells": [
  {
   "cell_type": "markdown",
   "id": "99f7ebb1-38da-456e-939f-cb0639c1d001",
   "metadata": {},
   "source": [
    "### Activity 3.01: Developing End-to-End Text Classifiers\n",
    "\n",
    "For this activity, you will build an end-to-end classifier that figures out whether a news article is political or not."
   ]
  },
  {
   "cell_type": "code",
   "execution_count": null,
   "id": "f1d448b5-b729-4a20-bd9b-26298b2a6099",
   "metadata": {},
   "outputs": [],
   "source": []
  },
  {
   "cell_type": "code",
   "execution_count": 1,
   "id": "88186137-4599-434f-959a-7372faf2df6a",
   "metadata": {},
   "outputs": [
    {
     "name": "stderr",
     "output_type": "stream",
     "text": [
      "[nltk_data] Downloading package stopwords to\n",
      "[nltk_data]     /Users/LNonyane/nltk_data...\n",
      "[nltk_data]   Package stopwords is already up-to-date!\n",
      "[nltk_data] Downloading package punkt to /Users/LNonyane/nltk_data...\n",
      "[nltk_data]   Package punkt is already up-to-date!\n",
      "[nltk_data] Downloading package wordnet to\n",
      "[nltk_data]     /Users/LNonyane/nltk_data...\n",
      "[nltk_data]   Package wordnet is already up-to-date!\n"
     ]
    }
   ],
   "source": [
    "from sklearn.datasets import fetch_20newsgroups\n",
    "\n",
    "import matplotlib as mpl\n",
    "\n",
    "import pandas as pd\n",
    "\n",
    "import numpy as np\n",
    "\n",
    "import matplotlib.pyplot as plt\n",
    "\n",
    "%matplotlib inline\n",
    "\n",
    "import re\n",
    "\n",
    "import string\n",
    "\n",
    "from nltk import word_tokenize\n",
    "\n",
    "from nltk.corpus import stopwords\n",
    "\n",
    "from nltk.stem import WordNetLemmatizer\n",
    "from sklearn.feature_extraction.text import TfidfVectorizer\n",
    "\n",
    "from collections import Counter\n",
    "\n",
    "from pylab import *\n",
    "\n",
    "import nltk\n",
    "\n",
    "nltk.download('stopwords')\n",
    "\n",
    "nltk.download('punkt')\n",
    "\n",
    "nltk.download('wordnet')\n",
    "\n",
    "import warnings\n",
    "\n",
    "warnings.filterwarnings('ignore')"
   ]
  },
  {
   "cell_type": "markdown",
   "id": "a680749b-959b-47a3-8ea5-20ced3288772",
   "metadata": {},
   "source": [
    "#### 2 Read the dataset and clean it."
   ]
  },
  {
   "cell_type": "code",
   "execution_count": 2,
   "id": "5e530afb-a36c-44f8-9cc0-0eeae78454f1",
   "metadata": {},
   "outputs": [
    {
     "data": {
      "text/html": [
       "<div>\n",
       "<style scoped>\n",
       "    .dataframe tbody tr th:only-of-type {\n",
       "        vertical-align: middle;\n",
       "    }\n",
       "\n",
       "    .dataframe tbody tr th {\n",
       "        vertical-align: top;\n",
       "    }\n",
       "\n",
       "    .dataframe thead th {\n",
       "        text-align: right;\n",
       "    }\n",
       "</style>\n",
       "<table border=\"1\" class=\"dataframe\">\n",
       "  <thead>\n",
       "    <tr style=\"text-align: right;\">\n",
       "      <th></th>\n",
       "      <th>headline</th>\n",
       "      <th>short_description</th>\n",
       "      <th>is_political</th>\n",
       "    </tr>\n",
       "  </thead>\n",
       "  <tbody>\n",
       "    <tr>\n",
       "      <th>0</th>\n",
       "      <td>Will Smith Joins Diplo And Nicky Jam For The 2...</td>\n",
       "      <td>Of course it has a song.</td>\n",
       "      <td>0</td>\n",
       "    </tr>\n",
       "    <tr>\n",
       "      <th>1</th>\n",
       "      <td>Hugh Grant Marries For The First Time At Age 57</td>\n",
       "      <td>The actor and his longtime girlfriend Anna Ebe...</td>\n",
       "      <td>0</td>\n",
       "    </tr>\n",
       "    <tr>\n",
       "      <th>2</th>\n",
       "      <td>Jim Carrey Blasts 'Castrato' Adam Schiff And D...</td>\n",
       "      <td>The actor gives Dems an ass-kicking for not fi...</td>\n",
       "      <td>0</td>\n",
       "    </tr>\n",
       "    <tr>\n",
       "      <th>3</th>\n",
       "      <td>Julianna Margulies Uses Donald Trump Poop Bags...</td>\n",
       "      <td>The \"Dietland\" actress said using the bags is ...</td>\n",
       "      <td>0</td>\n",
       "    </tr>\n",
       "    <tr>\n",
       "      <th>4</th>\n",
       "      <td>Morgan Freeman 'Devastated' That Sexual Harass...</td>\n",
       "      <td>\"It is not right to equate horrific incidents ...</td>\n",
       "      <td>0</td>\n",
       "    </tr>\n",
       "  </tbody>\n",
       "</table>\n",
       "</div>"
      ],
      "text/plain": [
       "                                            headline  \\\n",
       "0  Will Smith Joins Diplo And Nicky Jam For The 2...   \n",
       "1    Hugh Grant Marries For The First Time At Age 57   \n",
       "2  Jim Carrey Blasts 'Castrato' Adam Schiff And D...   \n",
       "3  Julianna Margulies Uses Donald Trump Poop Bags...   \n",
       "4  Morgan Freeman 'Devastated' That Sexual Harass...   \n",
       "\n",
       "                                   short_description  is_political  \n",
       "0                           Of course it has a song.             0  \n",
       "1  The actor and his longtime girlfriend Anna Ebe...             0  \n",
       "2  The actor gives Dems an ass-kicking for not fi...             0  \n",
       "3  The \"Dietland\" actress said using the bags is ...             0  \n",
       "4  \"It is not right to equate horrific incidents ...             0  "
      ]
     },
     "execution_count": 2,
     "metadata": {},
     "output_type": "execute_result"
    }
   ],
   "source": [
    "review_data = pd.read_csv('data/news_political_dataset.csv')\n",
    "review_data.head()"
   ]
  },
  {
   "cell_type": "markdown",
   "id": "0d920dce-9579-4657-a4c2-64df2025a40f",
   "metadata": {},
   "source": [
    "Use a lambda function to extract tokens from each 'reviewText' of this DataFrame, lemmatize them, and concatenate them side by side. Use the join function to concatenate a list of words into a single sentence. Use the regular expression method (re) to replace anything other than alphabetical characters, digits, and whitespaces with blank space."
   ]
  },
  {
   "cell_type": "code",
   "execution_count": 3,
   "id": "090a499d-3334-4e3c-a429-393cf72d1e6a",
   "metadata": {},
   "outputs": [],
   "source": [
    "lemmatizer = WordNetLemmatizer()\n",
    "review_data['cleaned_headline'] = review_data['headline']\\\n",
    ".apply(lambda x : ' '.join\\\n",
    " ([lemmatizer.lemmatize\\\n",
    "  (word.lower()) \\\n",
    "  for word in word_tokenize\\\n",
    "  (re.sub(r'([^\\s\\w]|_)+', ' ',\\\n",
    "   str(x)))]))"
   ]
  },
  {
   "cell_type": "markdown",
   "id": "1580f61e-e634-4b00-a966-5e0f6fc804f3",
   "metadata": {},
   "source": [
    "#### 3. Create a TFIDF matrix out of it."
   ]
  },
  {
   "cell_type": "code",
   "execution_count": 4,
   "id": "d2e417c3-82ad-4b58-96bb-9307245556cf",
   "metadata": {},
   "outputs": [
    {
     "data": {
      "text/plain": [
       "0        will smith join diplo and nicky jam for the 20...\n",
       "1          hugh grant marries for the first time at age 57\n",
       "2        jim carrey blast castrato adam schiff and demo...\n",
       "3        julianna margulies us donald trump poop bag to...\n",
       "4        morgan freeman devastated that sexual harassme...\n",
       "                               ...                        \n",
       "69500    girl with the dragon tattoo india release canc...\n",
       "69501    maria sharapova stunned by victoria azarenka i...\n",
       "69502    giant over patriot jet over colt among most im...\n",
       "69503    aldon smith arrested 49ers linebacker busted f...\n",
       "69504    dwight howard rip teammate after magic loss to...\n",
       "Name: cleaned_headline, Length: 69505, dtype: object"
      ]
     },
     "execution_count": 4,
     "metadata": {},
     "output_type": "execute_result"
    }
   ],
   "source": [
    "review_data['cleaned_headline']"
   ]
  },
  {
   "cell_type": "code",
   "execution_count": 5,
   "id": "1a92d0ab-3b69-473f-81ae-008330263856",
   "metadata": {},
   "outputs": [
    {
     "data": {
      "text/html": [
       "<div>\n",
       "<style scoped>\n",
       "    .dataframe tbody tr th:only-of-type {\n",
       "        vertical-align: middle;\n",
       "    }\n",
       "\n",
       "    .dataframe tbody tr th {\n",
       "        vertical-align: top;\n",
       "    }\n",
       "\n",
       "    .dataframe thead th {\n",
       "        text-align: right;\n",
       "    }\n",
       "</style>\n",
       "<table border=\"1\" class=\"dataframe\">\n",
       "  <thead>\n",
       "    <tr style=\"text-align: right;\">\n",
       "      <th></th>\n",
       "      <th>000</th>\n",
       "      <th>10</th>\n",
       "      <th>11</th>\n",
       "      <th>2014</th>\n",
       "      <th>2015</th>\n",
       "      <th>2016</th>\n",
       "      <th>24</th>\n",
       "      <th>abortion</th>\n",
       "      <th>about</th>\n",
       "      <th>actually</th>\n",
       "      <th>...</th>\n",
       "      <th>work</th>\n",
       "      <th>worker</th>\n",
       "      <th>world</th>\n",
       "      <th>worst</th>\n",
       "      <th>would</th>\n",
       "      <th>wrong</th>\n",
       "      <th>year</th>\n",
       "      <th>york</th>\n",
       "      <th>you</th>\n",
       "      <th>your</th>\n",
       "    </tr>\n",
       "  </thead>\n",
       "  <tbody>\n",
       "    <tr>\n",
       "      <th>0</th>\n",
       "      <td>0.0</td>\n",
       "      <td>0.0</td>\n",
       "      <td>0.0</td>\n",
       "      <td>0.0</td>\n",
       "      <td>0.0</td>\n",
       "      <td>0.0</td>\n",
       "      <td>0.0</td>\n",
       "      <td>0.0</td>\n",
       "      <td>0.0</td>\n",
       "      <td>0.0</td>\n",
       "      <td>...</td>\n",
       "      <td>0.0</td>\n",
       "      <td>0.0</td>\n",
       "      <td>0.395334</td>\n",
       "      <td>0.0</td>\n",
       "      <td>0.0</td>\n",
       "      <td>0.0</td>\n",
       "      <td>0.0</td>\n",
       "      <td>0.0</td>\n",
       "      <td>0.0</td>\n",
       "      <td>0.0</td>\n",
       "    </tr>\n",
       "    <tr>\n",
       "      <th>1</th>\n",
       "      <td>0.0</td>\n",
       "      <td>0.0</td>\n",
       "      <td>0.0</td>\n",
       "      <td>0.0</td>\n",
       "      <td>0.0</td>\n",
       "      <td>0.0</td>\n",
       "      <td>0.0</td>\n",
       "      <td>0.0</td>\n",
       "      <td>0.0</td>\n",
       "      <td>0.0</td>\n",
       "      <td>...</td>\n",
       "      <td>0.0</td>\n",
       "      <td>0.0</td>\n",
       "      <td>0.000000</td>\n",
       "      <td>0.0</td>\n",
       "      <td>0.0</td>\n",
       "      <td>0.0</td>\n",
       "      <td>0.0</td>\n",
       "      <td>0.0</td>\n",
       "      <td>0.0</td>\n",
       "      <td>0.0</td>\n",
       "    </tr>\n",
       "    <tr>\n",
       "      <th>2</th>\n",
       "      <td>0.0</td>\n",
       "      <td>0.0</td>\n",
       "      <td>0.0</td>\n",
       "      <td>0.0</td>\n",
       "      <td>0.0</td>\n",
       "      <td>0.0</td>\n",
       "      <td>0.0</td>\n",
       "      <td>0.0</td>\n",
       "      <td>0.0</td>\n",
       "      <td>0.0</td>\n",
       "      <td>...</td>\n",
       "      <td>0.0</td>\n",
       "      <td>0.0</td>\n",
       "      <td>0.000000</td>\n",
       "      <td>0.0</td>\n",
       "      <td>0.0</td>\n",
       "      <td>0.0</td>\n",
       "      <td>0.0</td>\n",
       "      <td>0.0</td>\n",
       "      <td>0.0</td>\n",
       "      <td>0.0</td>\n",
       "    </tr>\n",
       "    <tr>\n",
       "      <th>3</th>\n",
       "      <td>0.0</td>\n",
       "      <td>0.0</td>\n",
       "      <td>0.0</td>\n",
       "      <td>0.0</td>\n",
       "      <td>0.0</td>\n",
       "      <td>0.0</td>\n",
       "      <td>0.0</td>\n",
       "      <td>0.0</td>\n",
       "      <td>0.0</td>\n",
       "      <td>0.0</td>\n",
       "      <td>...</td>\n",
       "      <td>0.0</td>\n",
       "      <td>0.0</td>\n",
       "      <td>0.000000</td>\n",
       "      <td>0.0</td>\n",
       "      <td>0.0</td>\n",
       "      <td>0.0</td>\n",
       "      <td>0.0</td>\n",
       "      <td>0.0</td>\n",
       "      <td>0.0</td>\n",
       "      <td>0.0</td>\n",
       "    </tr>\n",
       "    <tr>\n",
       "      <th>4</th>\n",
       "      <td>0.0</td>\n",
       "      <td>0.0</td>\n",
       "      <td>0.0</td>\n",
       "      <td>0.0</td>\n",
       "      <td>0.0</td>\n",
       "      <td>0.0</td>\n",
       "      <td>0.0</td>\n",
       "      <td>0.0</td>\n",
       "      <td>0.0</td>\n",
       "      <td>0.0</td>\n",
       "      <td>...</td>\n",
       "      <td>0.0</td>\n",
       "      <td>0.0</td>\n",
       "      <td>0.000000</td>\n",
       "      <td>0.0</td>\n",
       "      <td>0.0</td>\n",
       "      <td>0.0</td>\n",
       "      <td>0.0</td>\n",
       "      <td>0.0</td>\n",
       "      <td>0.0</td>\n",
       "      <td>0.0</td>\n",
       "    </tr>\n",
       "  </tbody>\n",
       "</table>\n",
       "<p>5 rows × 500 columns</p>\n",
       "</div>"
      ],
      "text/plain": [
       "   000   10   11  2014  2015  2016   24  abortion  about  actually  ...  work  \\\n",
       "0  0.0  0.0  0.0   0.0   0.0   0.0  0.0       0.0    0.0       0.0  ...   0.0   \n",
       "1  0.0  0.0  0.0   0.0   0.0   0.0  0.0       0.0    0.0       0.0  ...   0.0   \n",
       "2  0.0  0.0  0.0   0.0   0.0   0.0  0.0       0.0    0.0       0.0  ...   0.0   \n",
       "3  0.0  0.0  0.0   0.0   0.0   0.0  0.0       0.0    0.0       0.0  ...   0.0   \n",
       "4  0.0  0.0  0.0   0.0   0.0   0.0  0.0       0.0    0.0       0.0  ...   0.0   \n",
       "\n",
       "   worker     world  worst  would  wrong  year  york  you  your  \n",
       "0     0.0  0.395334    0.0    0.0    0.0   0.0   0.0  0.0   0.0  \n",
       "1     0.0  0.000000    0.0    0.0    0.0   0.0   0.0  0.0   0.0  \n",
       "2     0.0  0.000000    0.0    0.0    0.0   0.0   0.0  0.0   0.0  \n",
       "3     0.0  0.000000    0.0    0.0    0.0   0.0   0.0  0.0   0.0  \n",
       "4     0.0  0.000000    0.0    0.0    0.0   0.0   0.0  0.0   0.0  \n",
       "\n",
       "[5 rows x 500 columns]"
      ]
     },
     "execution_count": 5,
     "metadata": {},
     "output_type": "execute_result"
    }
   ],
   "source": [
    "tfidf_model = TfidfVectorizer(max_features=500)\n",
    "tfidf_df = pd.DataFrame(tfidf_model.fit_transform(review_data['cleaned_headline']).todense()) # todense() creates matrix\n",
    "tfidf_df.columns = sorted(tfidf_model.vocabulary_)\n",
    "tfidf_df.head()"
   ]
  },
  {
   "cell_type": "code",
   "execution_count": 6,
   "id": "5b1217cb-50ae-4516-a562-1ab321cc6f1e",
   "metadata": {},
   "outputs": [
    {
     "data": {
      "text/plain": [
       "0    36766\n",
       "1    32739\n",
       "Name: is_political, dtype: int64"
      ]
     },
     "execution_count": 6,
     "metadata": {},
     "output_type": "execute_result"
    }
   ],
   "source": [
    "review_data['is_political'].value_counts()"
   ]
  },
  {
   "cell_type": "markdown",
   "id": "4ffaa447-dd57-44d8-a7ed-8970685180ba",
   "metadata": {},
   "source": [
    "#### 4. Divide the data into training and validation sets."
   ]
  },
  {
   "cell_type": "code",
   "execution_count": 7,
   "id": "63a3f999-03e6-4c98-bd1c-85b89b4ecd65",
   "metadata": {},
   "outputs": [],
   "source": [
    "# Use sklearn's train_test_split function to create training and validation sets.\n",
    "from sklearn.model_selection import train_test_split\n",
    "X_train, X_valid, y_train, y_valid = train_test_split\\\n",
    "                                     (tfidf_df, review_data['is_political'],\\\n",
    "                                      test_size=0.2, \\\n",
    "                                      random_state=42, \\\n",
    "                                      stratify=review_data['is_political'])"
   ]
  },
  {
   "cell_type": "markdown",
   "id": "761b4b8f-d8ff-4549-8428-34a4925e4bc2",
   "metadata": {
    "tags": []
   },
   "source": [
    "##### Logistic Regression Classifier"
   ]
  },
  {
   "cell_type": "code",
   "execution_count": 8,
   "id": "f6da7dec-8f31-4362-825c-4a1e846438b8",
   "metadata": {},
   "outputs": [
    {
     "data": {
      "text/plain": [
       "array([0.07850945, 0.17472651, 0.95455872, ..., 0.06039255, 0.25981654,\n",
       "       0.22160182])"
      ]
     },
     "execution_count": 8,
     "metadata": {},
     "output_type": "execute_result"
    }
   ],
   "source": [
    "from sklearn.linear_model import LogisticRegression\n",
    "logreg = LogisticRegression() # log regression class instance\n",
    "logreg.fit(X_train,y_train) # training model\n",
    "predicted_labels = logreg.predict(X_valid)\n",
    "logreg.predict_proba(tfidf_df)[:,1]"
   ]
  },
  {
   "cell_type": "markdown",
   "id": "9e3deeb3-06b3-4b27-b33c-5487cba86bbf",
   "metadata": {},
   "source": [
    "Use the crosstab function of pandas to compare the results of our classification model with the actual classes ('target', in this case) of the reviews."
   ]
  },
  {
   "cell_type": "raw",
   "id": "c02ff01f-eec6-4f7d-a602-a336638fddcb",
   "metadata": {},
   "source": [
    "predicted_labels.shape, y_valid.shape, tfidf_df.shape, X_train.shape, y_train.shape"
   ]
  },
  {
   "cell_type": "code",
   "execution_count": 9,
   "id": "6729502d-a6c1-4b40-bcf0-62b6fef47ae8",
   "metadata": {},
   "outputs": [
    {
     "data": {
      "text/html": [
       "<div>\n",
       "<style scoped>\n",
       "    .dataframe tbody tr th:only-of-type {\n",
       "        vertical-align: middle;\n",
       "    }\n",
       "\n",
       "    .dataframe tbody tr th {\n",
       "        vertical-align: top;\n",
       "    }\n",
       "\n",
       "    .dataframe thead th {\n",
       "        text-align: right;\n",
       "    }\n",
       "</style>\n",
       "<table border=\"1\" class=\"dataframe\">\n",
       "  <thead>\n",
       "    <tr style=\"text-align: right;\">\n",
       "      <th>col_0</th>\n",
       "      <th>0</th>\n",
       "      <th>1</th>\n",
       "    </tr>\n",
       "    <tr>\n",
       "      <th>is_political</th>\n",
       "      <th></th>\n",
       "      <th></th>\n",
       "    </tr>\n",
       "  </thead>\n",
       "  <tbody>\n",
       "    <tr>\n",
       "      <th>0</th>\n",
       "      <td>6652</td>\n",
       "      <td>701</td>\n",
       "    </tr>\n",
       "    <tr>\n",
       "      <th>1</th>\n",
       "      <td>1267</td>\n",
       "      <td>5281</td>\n",
       "    </tr>\n",
       "  </tbody>\n",
       "</table>\n",
       "</div>"
      ],
      "text/plain": [
       "col_0            0     1\n",
       "is_political            \n",
       "0             6652   701\n",
       "1             1267  5281"
      ]
     },
     "execution_count": 9,
     "metadata": {},
     "output_type": "execute_result"
    }
   ],
   "source": [
    "#review_data['predicted_labels'] = predicted_labels # create feature 'predicted_labels' in df review_data and assign predicted_labels values\n",
    "pd.crosstab(y_valid, predicted_labels)"
   ]
  },
  {
   "cell_type": "code",
   "execution_count": null,
   "id": "ff353757-a3e4-4b67-bc02-f85d8609bd13",
   "metadata": {},
   "outputs": [],
   "source": []
  },
  {
   "cell_type": "markdown",
   "id": "d1948514-1379-4334-8f01-1e24fb96f58a",
   "metadata": {},
   "source": [
    "##### Naive Bayes Classifier"
   ]
  },
  {
   "cell_type": "code",
   "execution_count": 10,
   "id": "e0b935c8-3ba1-4a1f-bf09-f188ff833b1c",
   "metadata": {},
   "outputs": [
    {
     "data": {
      "text/plain": [
       "array([0.00000000e+000, 7.03653397e-033, 1.00000000e+000, ...,\n",
       "       1.92238545e-171, 2.08783703e-009, 4.26497627e-018])"
      ]
     },
     "execution_count": 10,
     "metadata": {},
     "output_type": "execute_result"
    }
   ],
   "source": [
    "from sklearn.naive_bayes import GaussianNB\n",
    "nb = GaussianNB() # instance of class GaussianNB  \n",
    "nb.fit(X_train,y_train) # trainning the model\n",
    "predicted_labels = nb.predict(X_valid)\n",
    "nb.predict_proba(tfidf_df)[:,1]"
   ]
  },
  {
   "cell_type": "code",
   "execution_count": 11,
   "id": "74e87e8f-4bb8-466c-85c9-8e15cecd03ad",
   "metadata": {},
   "outputs": [
    {
     "data": {
      "text/html": [
       "<div>\n",
       "<style scoped>\n",
       "    .dataframe tbody tr th:only-of-type {\n",
       "        vertical-align: middle;\n",
       "    }\n",
       "\n",
       "    .dataframe tbody tr th {\n",
       "        vertical-align: top;\n",
       "    }\n",
       "\n",
       "    .dataframe thead th {\n",
       "        text-align: right;\n",
       "    }\n",
       "</style>\n",
       "<table border=\"1\" class=\"dataframe\">\n",
       "  <thead>\n",
       "    <tr style=\"text-align: right;\">\n",
       "      <th>col_0</th>\n",
       "      <th>0</th>\n",
       "      <th>1</th>\n",
       "    </tr>\n",
       "    <tr>\n",
       "      <th>is_political</th>\n",
       "      <th></th>\n",
       "      <th></th>\n",
       "    </tr>\n",
       "  </thead>\n",
       "  <tbody>\n",
       "    <tr>\n",
       "      <th>0</th>\n",
       "      <td>6169</td>\n",
       "      <td>1184</td>\n",
       "    </tr>\n",
       "    <tr>\n",
       "      <th>1</th>\n",
       "      <td>1284</td>\n",
       "      <td>5264</td>\n",
       "    </tr>\n",
       "  </tbody>\n",
       "</table>\n",
       "</div>"
      ],
      "text/plain": [
       "col_0            0     1\n",
       "is_political            \n",
       "0             6169  1184\n",
       "1             1284  5264"
      ]
     },
     "execution_count": 11,
     "metadata": {},
     "output_type": "execute_result"
    }
   ],
   "source": [
    "#review_data['predicted_labels'] = predicted_labels\n",
    "pd.crosstab(y_valid, predicted_labels)"
   ]
  },
  {
   "cell_type": "code",
   "execution_count": null,
   "id": "6a10e20f-dbac-466d-b726-79e205e51a18",
   "metadata": {},
   "outputs": [],
   "source": []
  },
  {
   "cell_type": "markdown",
   "id": "ad5d846a-1f7d-406f-9b7e-1340008fb638",
   "metadata": {},
   "source": [
    "##### KNN Classifier"
   ]
  },
  {
   "cell_type": "code",
   "execution_count": 12,
   "id": "7b7804cb-2931-4526-a132-edd2564bfb07",
   "metadata": {},
   "outputs": [
    {
     "data": {
      "text/html": [
       "<div>\n",
       "<style scoped>\n",
       "    .dataframe tbody tr th:only-of-type {\n",
       "        vertical-align: middle;\n",
       "    }\n",
       "\n",
       "    .dataframe tbody tr th {\n",
       "        vertical-align: top;\n",
       "    }\n",
       "\n",
       "    .dataframe thead th {\n",
       "        text-align: right;\n",
       "    }\n",
       "</style>\n",
       "<table border=\"1\" class=\"dataframe\">\n",
       "  <thead>\n",
       "    <tr style=\"text-align: right;\">\n",
       "      <th>col_0</th>\n",
       "      <th>0</th>\n",
       "      <th>1</th>\n",
       "    </tr>\n",
       "    <tr>\n",
       "      <th>is_political</th>\n",
       "      <th></th>\n",
       "      <th></th>\n",
       "    </tr>\n",
       "  </thead>\n",
       "  <tbody>\n",
       "    <tr>\n",
       "      <th>0</th>\n",
       "      <td>6282</td>\n",
       "      <td>1071</td>\n",
       "    </tr>\n",
       "    <tr>\n",
       "      <th>1</th>\n",
       "      <td>2064</td>\n",
       "      <td>4484</td>\n",
       "    </tr>\n",
       "  </tbody>\n",
       "</table>\n",
       "</div>"
      ],
      "text/plain": [
       "col_0            0     1\n",
       "is_political            \n",
       "0             6282  1071\n",
       "1             2064  4484"
      ]
     },
     "execution_count": 12,
     "metadata": {},
     "output_type": "execute_result"
    }
   ],
   "source": [
    "from sklearn.neighbors import KNeighborsClassifier\n",
    "\n",
    "knn = KNeighborsClassifier(n_neighbors=3) # instance of KNeighborsClassifier class\n",
    "\n",
    "knn.fit(X_train,y_train) # training the data\n",
    "\n",
    "#review_data['predicted_labels_knn'] = knn.predict(tfidf_df) # predicting on independent variables\n",
    "\n",
    "pd.crosstab(y_valid, knn.predict(X_valid))"
   ]
  },
  {
   "cell_type": "markdown",
   "id": "327f5a13-0176-429b-bf8c-ff38836f9c2b",
   "metadata": {},
   "source": [
    "#### Decision Tree Classifier"
   ]
  },
  {
   "cell_type": "code",
   "execution_count": 13,
   "id": "fb1d44e9-ecc7-46c2-97fd-46c99b827507",
   "metadata": {},
   "outputs": [],
   "source": [
    "from sklearn import tree\n",
    "dtc = tree.DecisionTreeClassifier() # base model \n",
    "dtc = dtc.fit(X_train,y_train) # train the data\n",
    "predicted_labels = dtc.predict(X_valid) # calculate predicted values of y"
   ]
  },
  {
   "cell_type": "code",
   "execution_count": 14,
   "id": "1ec53b87-b759-42d3-ad21-ab62bc6db826",
   "metadata": {},
   "outputs": [
    {
     "data": {
      "text/html": [
       "<div>\n",
       "<style scoped>\n",
       "    .dataframe tbody tr th:only-of-type {\n",
       "        vertical-align: middle;\n",
       "    }\n",
       "\n",
       "    .dataframe tbody tr th {\n",
       "        vertical-align: top;\n",
       "    }\n",
       "\n",
       "    .dataframe thead th {\n",
       "        text-align: right;\n",
       "    }\n",
       "</style>\n",
       "<table border=\"1\" class=\"dataframe\">\n",
       "  <thead>\n",
       "    <tr style=\"text-align: right;\">\n",
       "      <th>col_0</th>\n",
       "      <th>0</th>\n",
       "      <th>1</th>\n",
       "    </tr>\n",
       "    <tr>\n",
       "      <th>is_political</th>\n",
       "      <th></th>\n",
       "      <th></th>\n",
       "    </tr>\n",
       "  </thead>\n",
       "  <tbody>\n",
       "    <tr>\n",
       "      <th>0</th>\n",
       "      <td>6086</td>\n",
       "      <td>1267</td>\n",
       "    </tr>\n",
       "    <tr>\n",
       "      <th>1</th>\n",
       "      <td>1370</td>\n",
       "      <td>5178</td>\n",
       "    </tr>\n",
       "  </tbody>\n",
       "</table>\n",
       "</div>"
      ],
      "text/plain": [
       "col_0            0     1\n",
       "is_political            \n",
       "0             6086  1267\n",
       "1             1370  5178"
      ]
     },
     "execution_count": 14,
     "metadata": {},
     "output_type": "execute_result"
    }
   ],
   "source": [
    "# compare results of the classification model with actual classes\n",
    "pd.crosstab(y_valid, predicted_labels)"
   ]
  },
  {
   "cell_type": "markdown",
   "id": "3dae9a01-782f-42d9-a7b6-f6d86b08a081",
   "metadata": {},
   "source": [
    "#### Random Forest Classifier"
   ]
  },
  {
   "cell_type": "code",
   "execution_count": 15,
   "id": "4070c778-a282-4906-b320-a158301335c3",
   "metadata": {},
   "outputs": [
    {
     "data": {
      "text/html": [
       "<div>\n",
       "<style scoped>\n",
       "    .dataframe tbody tr th:only-of-type {\n",
       "        vertical-align: middle;\n",
       "    }\n",
       "\n",
       "    .dataframe tbody tr th {\n",
       "        vertical-align: top;\n",
       "    }\n",
       "\n",
       "    .dataframe thead th {\n",
       "        text-align: right;\n",
       "    }\n",
       "</style>\n",
       "<table border=\"1\" class=\"dataframe\">\n",
       "  <thead>\n",
       "    <tr style=\"text-align: right;\">\n",
       "      <th>col_0</th>\n",
       "      <th>0</th>\n",
       "      <th>1</th>\n",
       "    </tr>\n",
       "    <tr>\n",
       "      <th>is_political</th>\n",
       "      <th></th>\n",
       "      <th></th>\n",
       "    </tr>\n",
       "  </thead>\n",
       "  <tbody>\n",
       "    <tr>\n",
       "      <th>0</th>\n",
       "      <td>7103</td>\n",
       "      <td>250</td>\n",
       "    </tr>\n",
       "    <tr>\n",
       "      <th>1</th>\n",
       "      <td>3576</td>\n",
       "      <td>2972</td>\n",
       "    </tr>\n",
       "  </tbody>\n",
       "</table>\n",
       "</div>"
      ],
      "text/plain": [
       "col_0            0     1\n",
       "is_political            \n",
       "0             7103   250\n",
       "1             3576  2972"
      ]
     },
     "execution_count": 15,
     "metadata": {},
     "output_type": "execute_result"
    }
   ],
   "source": [
    "from sklearn.ensemble import RandomForestClassifier\n",
    "rfc = RandomForestClassifier(n_estimators=20,max_depth=4, max_features='sqrt',random_state=1)\n",
    "#data_patio_lawn_garden['predicted_labels_rfc'] = clf_model(rfc, tfidf_df, data_patio_lawn_garden['target'])\n",
    "rfc.fit(X_train, y_train) # train model\n",
    "pd.crosstab(y_valid, rfc.predict(X_valid))"
   ]
  },
  {
   "cell_type": "markdown",
   "id": "4cbbdcc0-d8d8-4c12-ab48-b483402c2fce",
   "metadata": {},
   "source": [
    "#### XGB Classifier"
   ]
  },
  {
   "cell_type": "code",
   "execution_count": 16,
   "id": "641be681-b521-4a9d-86b2-62aa51db9180",
   "metadata": {},
   "outputs": [
    {
     "data": {
      "text/html": [
       "<div>\n",
       "<style scoped>\n",
       "    .dataframe tbody tr th:only-of-type {\n",
       "        vertical-align: middle;\n",
       "    }\n",
       "\n",
       "    .dataframe tbody tr th {\n",
       "        vertical-align: top;\n",
       "    }\n",
       "\n",
       "    .dataframe thead th {\n",
       "        text-align: right;\n",
       "    }\n",
       "</style>\n",
       "<table border=\"1\" class=\"dataframe\">\n",
       "  <thead>\n",
       "    <tr style=\"text-align: right;\">\n",
       "      <th>col_0</th>\n",
       "      <th>0</th>\n",
       "      <th>1</th>\n",
       "    </tr>\n",
       "    <tr>\n",
       "      <th>is_political</th>\n",
       "      <th></th>\n",
       "      <th></th>\n",
       "    </tr>\n",
       "  </thead>\n",
       "  <tbody>\n",
       "    <tr>\n",
       "      <th>0</th>\n",
       "      <td>7116</td>\n",
       "      <td>237</td>\n",
       "    </tr>\n",
       "    <tr>\n",
       "      <th>1</th>\n",
       "      <td>3471</td>\n",
       "      <td>3077</td>\n",
       "    </tr>\n",
       "  </tbody>\n",
       "</table>\n",
       "</div>"
      ],
      "text/plain": [
       "col_0            0     1\n",
       "is_political            \n",
       "0             7116   237\n",
       "1             3471  3077"
      ]
     },
     "execution_count": 16,
     "metadata": {},
     "output_type": "execute_result"
    }
   ],
   "source": [
    "from xgboost import XGBClassifier\n",
    "xgb_clf=XGBClassifier(n_estimators=20,learning_rate=0.03,\\\n",
    "                      max_depth=5,subsample=0.6,\\\n",
    "                      colsample_bytree= 0.6,reg_alpha= 10,\\\n",
    "                      seed=42)\n",
    "#data_patio_lawn_garden['predicted_labels_xgbc'] = clf_model(xgb_clf, tfidf_df, data_patio_lawn_garden['target'])\n",
    "xgb_clf.fit(X_train, y_train)\n",
    "pd.crosstab(y_valid, xgb_clf.predict(X_valid))"
   ]
  },
  {
   "cell_type": "markdown",
   "id": "e779b1fa-bd72-453f-a47c-b3d76cd760c9",
   "metadata": {},
   "source": [
    "We have seen how to build end-to-end classifiers. Developing an end-to-end classifier was done in phases. Firstly, the text corpus was cleaned and tokenized, features were extracted using TFIDF, and then the dataset was divided into training and validation sets. The XGBoost algorithm was used to develop a classification model. Finally, the performance was measured using parameters such as the confusion matrix, accuracy, precision, recall, F1 plot curve, and ROC curve."
   ]
  },
  {
   "cell_type": "code",
   "execution_count": 19,
   "id": "efc9e823-3a20-4a88-92e0-910e24e24321",
   "metadata": {},
   "outputs": [
    {
     "data": {
      "text/html": [
       "<div>\n",
       "<style scoped>\n",
       "    .dataframe tbody tr th:only-of-type {\n",
       "        vertical-align: middle;\n",
       "    }\n",
       "\n",
       "    .dataframe tbody tr th {\n",
       "        vertical-align: top;\n",
       "    }\n",
       "\n",
       "    .dataframe thead th {\n",
       "        text-align: right;\n",
       "    }\n",
       "</style>\n",
       "<table border=\"1\" class=\"dataframe\">\n",
       "  <thead>\n",
       "    <tr style=\"text-align: right;\">\n",
       "      <th></th>\n",
       "      <th>word</th>\n",
       "      <th>importance</th>\n",
       "    </tr>\n",
       "  </thead>\n",
       "  <tbody>\n",
       "    <tr>\n",
       "      <th>443</th>\n",
       "      <td>trump</td>\n",
       "      <td>0.336932</td>\n",
       "    </tr>\n",
       "    <tr>\n",
       "      <th>158</th>\n",
       "      <td>gop</td>\n",
       "      <td>0.079485</td>\n",
       "    </tr>\n",
       "    <tr>\n",
       "      <th>77</th>\n",
       "      <td>clinton</td>\n",
       "      <td>0.067346</td>\n",
       "    </tr>\n",
       "    <tr>\n",
       "      <th>346</th>\n",
       "      <td>republican</td>\n",
       "      <td>0.062968</td>\n",
       "    </tr>\n",
       "  </tbody>\n",
       "</table>\n",
       "</div>"
      ],
      "text/plain": [
       "           word  importance\n",
       "443       trump    0.336932\n",
       "158         gop    0.079485\n",
       "77      clinton    0.067346\n",
       "346  republican    0.062968"
      ]
     },
     "execution_count": 19,
     "metadata": {},
     "output_type": "execute_result"
    }
   ],
   "source": [
    "word_importances = pd.DataFrame({'word':X_train.columns,'importance':xgb_clf.feature_importances_})\n",
    "word_importances.sort_values('importance', ascending = False).head(4)"
   ]
  },
  {
   "cell_type": "code",
   "execution_count": null,
   "id": "ac9e6774-4d76-4a17-af84-37358ae6821c",
   "metadata": {},
   "outputs": [],
   "source": []
  }
 ],
 "metadata": {
  "kernelspec": {
   "display_name": "Python 3 (ipykernel)",
   "language": "python",
   "name": "python3"
  },
  "language_info": {
   "codemirror_mode": {
    "name": "ipython",
    "version": 3
   },
   "file_extension": ".py",
   "mimetype": "text/x-python",
   "name": "python",
   "nbconvert_exporter": "python",
   "pygments_lexer": "ipython3",
   "version": "3.9.5"
  }
 },
 "nbformat": 4,
 "nbformat_minor": 5
}
