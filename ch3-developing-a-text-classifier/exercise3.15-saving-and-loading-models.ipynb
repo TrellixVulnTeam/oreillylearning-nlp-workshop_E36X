{
 "cells": [
  {
   "cell_type": "markdown",
   "id": "eb7174a5-5ed6-4cc5-ac0c-dfe0efbe3923",
   "metadata": {},
   "source": [
    "### Exercise 3.15: Saving and Loading Models\n",
    "\n",
    "In this exercise, we will create a TFIDF representation of sentences. Then, we will save this model on disk and later load it from the disk."
   ]
  },
  {
   "cell_type": "code",
   "execution_count": 1,
   "id": "1f3a990c-3267-4b6a-b398-153f95f3fb6a",
   "metadata": {},
   "outputs": [],
   "source": [
    "import pickle\n",
    "\n",
    "from joblib import dump, load\n",
    "\n",
    "from sklearn.feature_extraction.text import TfidfVectorizer"
   ]
  },
  {
   "cell_type": "code",
   "execution_count": 2,
   "id": "47bc5e42-61ad-4117-8314-6baa1d868efc",
   "metadata": {},
   "outputs": [],
   "source": [
    "corpus = ['Data Science is an overlap between Arts and Science',\\\n",
    "          'Generally, Arts graduates are right-brained and '\\\n",
    "          'Science graduates are left-brained', \\\n",
    "          'Excelling in both Arts and Science at a time '\\\n",
    "          'becomes difficult', \\\n",
    "          'Natural Language Processing is a part of Data Science']"
   ]
  },
  {
   "cell_type": "code",
   "execution_count": 3,
   "id": "880dbd35-611b-4b6c-926a-d40034fad85d",
   "metadata": {},
   "outputs": [
    {
     "name": "stdout",
     "output_type": "stream",
     "text": [
      "[[0.40332811 0.25743911 0.         0.25743911 0.         0.\n",
      "  0.40332811 0.         0.         0.31798852 0.         0.\n",
      "  0.         0.         0.         0.31798852 0.         0.\n",
      "  0.         0.         0.40332811 0.         0.         0.\n",
      "  0.42094668 0.        ]\n",
      " [0.         0.159139   0.49864399 0.159139   0.         0.\n",
      "  0.         0.         0.49864399 0.         0.         0.\n",
      "  0.24932199 0.49864399 0.         0.         0.         0.24932199\n",
      "  0.         0.         0.         0.         0.         0.24932199\n",
      "  0.13010656 0.        ]\n",
      " [0.         0.22444946 0.         0.22444946 0.35164346 0.35164346\n",
      "  0.         0.35164346 0.         0.         0.35164346 0.35164346\n",
      "  0.         0.         0.35164346 0.         0.         0.\n",
      "  0.         0.         0.         0.         0.         0.\n",
      "  0.18350214 0.35164346]\n",
      " [0.         0.         0.         0.         0.         0.\n",
      "  0.         0.         0.         0.30887228 0.         0.\n",
      "  0.         0.         0.         0.30887228 0.39176533 0.\n",
      "  0.39176533 0.39176533 0.         0.39176533 0.39176533 0.\n",
      "  0.2044394  0.        ]]\n"
     ]
    }
   ],
   "source": [
    "tfidf_model = TfidfVectorizer()\n",
    "\n",
    "tfidf_vectors = tfidf_model.fit_transform(corpus).todense()\n",
    "\n",
    "print(tfidf_vectors)"
   ]
  },
  {
   "cell_type": "code",
   "execution_count": 4,
   "id": "38d22c42-78f2-4733-b30e-7d99b2e7d9ea",
   "metadata": {},
   "outputs": [
    {
     "data": {
      "text/plain": [
       "['tfidf_model.joblib']"
      ]
     },
     "execution_count": 4,
     "metadata": {},
     "output_type": "execute_result"
    }
   ],
   "source": [
    "# Save this TFIDF model on disk using joblib.\n",
    "dump(tfidf_model, 'tfidf_model.joblib')"
   ]
  },
  {
   "cell_type": "code",
   "execution_count": 5,
   "id": "e91b60ff-5d8f-4221-aba7-b31388834bcb",
   "metadata": {},
   "outputs": [
    {
     "name": "stdout",
     "output_type": "stream",
     "text": [
      "[[0.40332811 0.25743911 0.         0.25743911 0.         0.\n",
      "  0.40332811 0.         0.         0.31798852 0.         0.\n",
      "  0.         0.         0.         0.31798852 0.         0.\n",
      "  0.         0.         0.40332811 0.         0.         0.\n",
      "  0.42094668 0.        ]\n",
      " [0.         0.159139   0.49864399 0.159139   0.         0.\n",
      "  0.         0.         0.49864399 0.         0.         0.\n",
      "  0.24932199 0.49864399 0.         0.         0.         0.24932199\n",
      "  0.         0.         0.         0.         0.         0.24932199\n",
      "  0.13010656 0.        ]\n",
      " [0.         0.22444946 0.         0.22444946 0.35164346 0.35164346\n",
      "  0.         0.35164346 0.         0.         0.35164346 0.35164346\n",
      "  0.         0.         0.35164346 0.         0.         0.\n",
      "  0.         0.         0.         0.         0.         0.\n",
      "  0.18350214 0.35164346]\n",
      " [0.         0.         0.         0.         0.         0.\n",
      "  0.         0.         0.         0.30887228 0.         0.\n",
      "  0.         0.         0.         0.30887228 0.39176533 0.\n",
      "  0.39176533 0.39176533 0.         0.39176533 0.39176533 0.\n",
      "  0.2044394  0.        ]]\n"
     ]
    }
   ],
   "source": [
    "# Load TFIDF model from disk to memory.\n",
    "tfidf_model_loaded = load('tfidf_model.joblib')\n",
    "\n",
    "loaded_tfidf_vectors = tfidf_model_loaded.transform(corpus).todense()\n",
    "\n",
    "print(loaded_tfidf_vectors)"
   ]
  },
  {
   "cell_type": "code",
   "execution_count": 6,
   "id": "4eedb3d4-ce2f-4713-a3b1-aaa988546fc5",
   "metadata": {},
   "outputs": [],
   "source": [
    "# Save TFIDF model using pickle\n",
    "pickle.dump(tfidf_model, open(\"tfidf_model.pickle.dat\", \"wb\"))"
   ]
  },
  {
   "cell_type": "code",
   "execution_count": 7,
   "id": "bdfb834b-fe55-484e-8cee-8bafcbc62981",
   "metadata": {},
   "outputs": [
    {
     "name": "stdout",
     "output_type": "stream",
     "text": [
      "[[0.40332811 0.25743911 0.         0.25743911 0.         0.\n",
      "  0.40332811 0.         0.         0.31798852 0.         0.\n",
      "  0.         0.         0.         0.31798852 0.         0.\n",
      "  0.         0.         0.40332811 0.         0.         0.\n",
      "  0.42094668 0.        ]\n",
      " [0.         0.159139   0.49864399 0.159139   0.         0.\n",
      "  0.         0.         0.49864399 0.         0.         0.\n",
      "  0.24932199 0.49864399 0.         0.         0.         0.24932199\n",
      "  0.         0.         0.         0.         0.         0.24932199\n",
      "  0.13010656 0.        ]\n",
      " [0.         0.22444946 0.         0.22444946 0.35164346 0.35164346\n",
      "  0.         0.35164346 0.         0.         0.35164346 0.35164346\n",
      "  0.         0.         0.35164346 0.         0.         0.\n",
      "  0.         0.         0.         0.         0.         0.\n",
      "  0.18350214 0.35164346]\n",
      " [0.         0.         0.         0.         0.         0.\n",
      "  0.         0.         0.         0.30887228 0.         0.\n",
      "  0.         0.         0.         0.30887228 0.39176533 0.\n",
      "  0.39176533 0.39176533 0.         0.39176533 0.39176533 0.\n",
      "  0.2044394  0.        ]]\n"
     ]
    }
   ],
   "source": [
    "# Load pickle model from disk into memory and use it.\n",
    "loaded_model = pickle.load(open(\"tfidf_model.pickle.dat\", \"rb\"))\n",
    "\n",
    "loaded_tfidf_vectors = loaded_model.transform(corpus).todense()\n",
    "\n",
    "print(loaded_tfidf_vectors)"
   ]
  },
  {
   "cell_type": "code",
   "execution_count": null,
   "id": "d28b139f-d073-4fa9-8620-ce160ad0811d",
   "metadata": {},
   "outputs": [],
   "source": []
  }
 ],
 "metadata": {
  "kernelspec": {
   "display_name": "Python 3 (ipykernel)",
   "language": "python",
   "name": "python3"
  },
  "language_info": {
   "codemirror_mode": {
    "name": "ipython",
    "version": 3
   },
   "file_extension": ".py",
   "mimetype": "text/x-python",
   "name": "python",
   "nbconvert_exporter": "python",
   "pygments_lexer": "ipython3",
   "version": "3.9.5"
  }
 },
 "nbformat": 4,
 "nbformat_minor": 5
}
