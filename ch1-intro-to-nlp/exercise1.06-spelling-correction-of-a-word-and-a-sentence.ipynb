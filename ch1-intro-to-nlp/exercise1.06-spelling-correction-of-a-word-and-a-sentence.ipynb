{
 "cells": [
  {
   "cell_type": "markdown",
   "id": "da3426d4-398f-45d3-b5a7-b86b627202dd",
   "metadata": {},
   "source": [
    "### Exercise 1.06: Spelling Correction of a Word and a Sentence\n",
    "In this exercise, we will perform spelling correction on a word and a sentence, with the help of Python's autocorrect library."
   ]
  },
  {
   "cell_type": "code",
   "execution_count": 2,
   "id": "81aa8adc-fa82-4d4d-8915-8e782c35a36b",
   "metadata": {},
   "outputs": [],
   "source": [
    "from nltk import word_tokenize\n",
    "from autocorrect import Speller"
   ]
  },
  {
   "cell_type": "code",
   "execution_count": 3,
   "id": "5122cff0-8aa7-4461-8ae1-7210c86c431a",
   "metadata": {},
   "outputs": [
    {
     "data": {
      "text/plain": [
       "'Natural'"
      ]
     },
     "execution_count": 3,
     "metadata": {},
     "output_type": "execute_result"
    }
   ],
   "source": [
    "# Spell object using english\n",
    "spell = Speller(lang='en')\n",
    "spell('Natureal')"
   ]
  },
  {
   "cell_type": "code",
   "execution_count": 4,
   "id": "91a91551-8e63-4cf1-bad8-52efe6b4cb46",
   "metadata": {},
   "outputs": [
    {
     "name": "stdout",
     "output_type": "stream",
     "text": [
      "['Ntural', 'Luanguage', 'Processin', 'deals', 'with', 'the', 'art', 'of', 'extracting', 'insightes', 'from', 'Natural', 'Languaes']\n"
     ]
    }
   ],
   "source": [
    "sentence = word_tokenize('Ntural Luanguage Processin deals with the art of extracting insightes from Natural Languaes')\n",
    "print(sentence)"
   ]
  },
  {
   "cell_type": "code",
   "execution_count": 6,
   "id": "ca946bac-04e3-48db-8c89-319b7a0ac1ea",
   "metadata": {},
   "outputs": [],
   "source": [
    "# Autocorrect the words\n",
    "def correct_spelling(tokens):\n",
    "    sentence_corrected = ' '.join([spell(word) for word in tokens])\n",
    "    return sentence_corrected"
   ]
  },
  {
   "cell_type": "code",
   "execution_count": 10,
   "id": "29cc4de5-6861-4a65-8fe3-646e1a55c73e",
   "metadata": {},
   "outputs": [
    {
     "name": "stdout",
     "output_type": "stream",
     "text": [
      "Natural Language Processing deals with the art of extracting insights from Natural Languages\n"
     ]
    }
   ],
   "source": [
    "print(correct_spelling(sentence))"
   ]
  },
  {
   "cell_type": "code",
   "execution_count": null,
   "id": "afbea56f-7774-46f7-9f47-aabef9afd974",
   "metadata": {},
   "outputs": [],
   "source": []
  }
 ],
 "metadata": {
  "kernelspec": {
   "display_name": "Python 3 (ipykernel)",
   "language": "python",
   "name": "python3"
  },
  "language_info": {
   "codemirror_mode": {
    "name": "ipython",
    "version": 3
   },
   "file_extension": ".py",
   "mimetype": "text/x-python",
   "name": "python",
   "nbconvert_exporter": "python",
   "pygments_lexer": "ipython3",
   "version": "3.9.5"
  }
 },
 "nbformat": 4,
 "nbformat_minor": 5
}
