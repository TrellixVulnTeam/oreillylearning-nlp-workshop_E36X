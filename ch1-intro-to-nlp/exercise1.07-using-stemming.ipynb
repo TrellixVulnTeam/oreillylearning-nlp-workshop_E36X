{
 "cells": [
  {
   "cell_type": "markdown",
   "id": "071ed24d-ac86-42b9-94d3-3578340064c6",
   "metadata": {},
   "source": [
    "### Exercise 1.07: Using Stemming\n",
    "In this exercise, we will pass a few words through the stemming process so that they get converted into their base forms."
   ]
  },
  {
   "cell_type": "code",
   "execution_count": 1,
   "id": "61e608ce-6bec-4c0c-96f7-c4bea3490efa",
   "metadata": {},
   "outputs": [],
   "source": [
    "from nltk import stem"
   ]
  },
  {
   "cell_type": "code",
   "execution_count": 2,
   "id": "3a6220d2-7d35-4a40-adfd-31fd4124db04",
   "metadata": {},
   "outputs": [
    {
     "data": {
      "text/plain": [
       "'product'"
      ]
     },
     "execution_count": 2,
     "metadata": {},
     "output_type": "execute_result"
    }
   ],
   "source": [
    "# get stems\n",
    "def get_stems(word, stemmer):\n",
    "    return stemmer.stem(word)\n",
    "porterStem = stem.PorterStemmer()\n",
    "get_stems('production', porterStem)"
   ]
  },
  {
   "cell_type": "code",
   "execution_count": 3,
   "id": "a0e350d5-62a2-4b58-b25f-688a8e991a4b",
   "metadata": {},
   "outputs": [
    {
     "data": {
      "text/plain": [
       "'battl'"
      ]
     },
     "execution_count": 3,
     "metadata": {},
     "output_type": "execute_result"
    }
   ],
   "source": [
    "get_stems('battling', porterStem)"
   ]
  },
  {
   "cell_type": "code",
   "execution_count": 5,
   "id": "23577471-b12a-4f13-a86d-8ba420cf5f4c",
   "metadata": {},
   "outputs": [
    {
     "data": {
      "text/plain": [
       "'battl'"
      ]
     },
     "execution_count": 5,
     "metadata": {},
     "output_type": "execute_result"
    }
   ],
   "source": [
    "snowballStem = stem.SnowballStemmer('english')\n",
    "get_stems('battling', snowballStem)"
   ]
  },
  {
   "cell_type": "code",
   "execution_count": null,
   "id": "7e051200-227a-40b6-a440-93d1673fa71d",
   "metadata": {},
   "outputs": [],
   "source": []
  }
 ],
 "metadata": {
  "kernelspec": {
   "display_name": "Python 3 (ipykernel)",
   "language": "python",
   "name": "python3"
  },
  "language_info": {
   "codemirror_mode": {
    "name": "ipython",
    "version": 3
   },
   "file_extension": ".py",
   "mimetype": "text/x-python",
   "name": "python",
   "nbconvert_exporter": "python",
   "pygments_lexer": "ipython3",
   "version": "3.9.5"
  }
 },
 "nbformat": 4,
 "nbformat_minor": 5
}
