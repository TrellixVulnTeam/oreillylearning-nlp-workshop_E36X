{
 "cells": [
  {
   "cell_type": "markdown",
   "id": "96581116-829b-49aa-bce6-4202358505d7",
   "metadata": {},
   "source": [
    "### Exercise 1.10: Word Sense Disambiguation\n",
    "In this exercise, we will find the sense of the word \"bank\" in two different sentences."
   ]
  },
  {
   "cell_type": "code",
   "execution_count": 2,
   "id": "4be8b489-79b0-410c-8d26-7de01112f741",
   "metadata": {},
   "outputs": [
    {
     "name": "stderr",
     "output_type": "stream",
     "text": [
      "[nltk_data] Downloading package wordnet to\n",
      "[nltk_data]     /Users/LNonyane/nltk_data...\n",
      "[nltk_data]   Package wordnet is already up-to-date!\n"
     ]
    }
   ],
   "source": [
    "import nltk\n",
    "nltk.download('wordnet') # used by lesk algorithm\n",
    "from nltk.wsd import lesk\n",
    "from nltk import word_tokenize"
   ]
  },
  {
   "cell_type": "code",
   "execution_count": 3,
   "id": "57a341dd-6e6b-409e-af86-3c54d4d6f73b",
   "metadata": {},
   "outputs": [],
   "source": [
    "sentence1 = 'Keep your savings in the bank'\n",
    "sentence2 = \"It's so risky to drive over the banks of the road\""
   ]
  },
  {
   "cell_type": "code",
   "execution_count": 7,
   "id": "da8e9513-3f63-46dd-8b29-76fa090c21f5",
   "metadata": {},
   "outputs": [
    {
     "data": {
      "text/plain": [
       "Synset('savings_bank.n.02')"
      ]
     },
     "execution_count": 7,
     "metadata": {},
     "output_type": "execute_result"
    }
   ],
   "source": [
    "# Word sense for 'bank'\n",
    "def get_synset(sentence, word):\n",
    "    return lesk(word_tokenize(sentence), word)\n",
    "get_synset(sentence1, 'bank')"
   ]
  },
  {
   "cell_type": "raw",
   "id": "8eef14f5-9ce9-4eff-870f-b0af2113e21f",
   "metadata": {},
   "source": [
    "Here, savings_bank.n.02 refers to a container for keeping money safely at home."
   ]
  },
  {
   "cell_type": "code",
   "execution_count": 8,
   "id": "cf81dfbc-2879-48f3-b6b8-39556e759975",
   "metadata": {},
   "outputs": [
    {
     "data": {
      "text/plain": [
       "Synset('bank.v.07')"
      ]
     },
     "execution_count": 8,
     "metadata": {},
     "output_type": "execute_result"
    }
   ],
   "source": [
    "get_synset(sentence2, 'bank')"
   ]
  },
  {
   "cell_type": "raw",
   "id": "6367faa3-605b-486f-8363-44dd030fb299",
   "metadata": {},
   "source": [
    "Here, bank.v.07 refers to a slope in the turn of a road."
   ]
  },
  {
   "cell_type": "code",
   "execution_count": null,
   "id": "4be0da62-96d1-4e72-96c5-048cde9ffd7a",
   "metadata": {},
   "outputs": [],
   "source": []
  }
 ],
 "metadata": {
  "kernelspec": {
   "display_name": "Python 3 (ipykernel)",
   "language": "python",
   "name": "python3"
  },
  "language_info": {
   "codemirror_mode": {
    "name": "ipython",
    "version": 3
   },
   "file_extension": ".py",
   "mimetype": "text/x-python",
   "name": "python",
   "nbconvert_exporter": "python",
   "pygments_lexer": "ipython3",
   "version": "3.9.5"
  }
 },
 "nbformat": 4,
 "nbformat_minor": 5
}
