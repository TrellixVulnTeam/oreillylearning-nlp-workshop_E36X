{
 "cells": [
  {
   "cell_type": "markdown",
   "id": "d008035b-3f14-4422-bb23-5de3860ccf37",
   "metadata": {},
   "source": [
    "Exercise 1.02: Tokenization of a Simple Sentence\n",
    "In this exercise, we will tokenize the words in a given sentence with the help of the NLTK library. Follow these steps to implement this exercise using the sentence, \"I am reading NLP Fundamentals.\""
   ]
  },
  {
   "cell_type": "code",
   "execution_count": 1,
   "id": "ad10ba90-dfe2-4c93-b8b2-60216e32a075",
   "metadata": {},
   "outputs": [
    {
     "name": "stderr",
     "output_type": "stream",
     "text": [
      "[nltk_data] Downloading package punkt to /Users/LNonyane/nltk_data...\n",
      "[nltk_data]   Package punkt is already up-to-date!\n",
      "[nltk_data] Downloading package averaged_perceptron_tagger to\n",
      "[nltk_data]     /Users/LNonyane/nltk_data...\n",
      "[nltk_data]   Package averaged_perceptron_tagger is already up-to-\n",
      "[nltk_data]       date!\n",
      "[nltk_data] Downloading package stopwords to\n",
      "[nltk_data]     /Users/LNonyane/nltk_data...\n",
      "[nltk_data]   Package stopwords is already up-to-date!\n"
     ]
    },
    {
     "data": {
      "text/plain": [
       "True"
      ]
     },
     "execution_count": 1,
     "metadata": {},
     "output_type": "execute_result"
    }
   ],
   "source": [
    "from nltk import word_tokenize, download\n",
    "download(['punkt', 'averaged_perceptron_tagger', 'stopwords'])"
   ]
  },
  {
   "cell_type": "code",
   "execution_count": 2,
   "id": "39f62c66-936e-467e-909b-2bf12d68b4ca",
   "metadata": {},
   "outputs": [],
   "source": [
    "# Sentence tokenizer which results in a list of words.\n",
    "def get_tokens(sentence):\n",
    "    words = word_tokenize(sentence)\n",
    "    return words"
   ]
  },
  {
   "cell_type": "code",
   "execution_count": 3,
   "id": "4e9d389b-5333-4092-806d-9e4e7c391e08",
   "metadata": {},
   "outputs": [
    {
     "name": "stdout",
     "output_type": "stream",
     "text": [
      "['I', 'am', 'reading', 'NLP', 'Fundamentals', '.']\n"
     ]
    }
   ],
   "source": [
    "print(get_tokens('I am reading NLP Fundamentals.'))"
   ]
  },
  {
   "cell_type": "code",
   "execution_count": null,
   "id": "7e385595-a14b-471b-999d-f2559b617b4e",
   "metadata": {},
   "outputs": [],
   "source": []
  }
 ],
 "metadata": {
  "kernelspec": {
   "display_name": "Python 3 (ipykernel)",
   "language": "python",
   "name": "python3"
  },
  "language_info": {
   "codemirror_mode": {
    "name": "ipython",
    "version": 3
   },
   "file_extension": ".py",
   "mimetype": "text/x-python",
   "name": "python",
   "nbconvert_exporter": "python",
   "pygments_lexer": "ipython3",
   "version": "3.9.5"
  }
 },
 "nbformat": 4,
 "nbformat_minor": 5
}
