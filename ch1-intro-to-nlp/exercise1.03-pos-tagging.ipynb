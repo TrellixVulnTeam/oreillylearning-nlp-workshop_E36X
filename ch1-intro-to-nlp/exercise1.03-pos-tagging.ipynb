{
 "cells": [
  {
   "cell_type": "markdown",
   "id": "90a66bb4-4a89-42d5-9335-fd6b0928171b",
   "metadata": {},
   "source": [
    "### Exercise 1.03: PoS Tagging\n",
    "In this exercise, we will find out the PoS for each word in the sentence, I am reading NLP Fundamentals. We first make use of tokenization in order to get the tokens. Later, we will use the pos_tag() method, which will help us find the PoS for each word/token. "
   ]
  },
  {
   "cell_type": "code",
   "execution_count": 1,
   "id": "403d5cc3-0783-48eb-a7cf-633682bb3678",
   "metadata": {},
   "outputs": [],
   "source": [
    "from nltk import word_tokenize, pos_tag"
   ]
  },
  {
   "cell_type": "code",
   "execution_count": 2,
   "id": "ef810e87-4b99-4e33-bd77-d5d0abc4b237",
   "metadata": {},
   "outputs": [],
   "source": [
    "# Find tokens in the sentence\n",
    "def get_tokens(sentence):\n",
    "    words = word_tokenize(sentence)\n",
    "    return words"
   ]
  },
  {
   "cell_type": "code",
   "execution_count": 9,
   "id": "daf6a238-a989-4c40-a0cb-2eb1c024d8ce",
   "metadata": {},
   "outputs": [
    {
     "name": "stdout",
     "output_type": "stream",
     "text": [
      "['I', 'am', 'reading', 'NLP', 'Fundamentals']\n"
     ]
    }
   ],
   "source": [
    "words = get_tokens('I am reading NLP Fundamentals')\n",
    "print(words)"
   ]
  },
  {
   "cell_type": "code",
   "execution_count": 10,
   "id": "17988121-d157-4697-ba5c-f4c4aab113bf",
   "metadata": {},
   "outputs": [
    {
     "data": {
      "text/plain": [
       "[('I', 'PRP'),\n",
       " ('am', 'VBP'),\n",
       " ('reading', 'VBG'),\n",
       " ('NLP', 'NNP'),\n",
       " ('Fundamentals', 'NNS')]"
      ]
     },
     "execution_count": 10,
     "metadata": {},
     "output_type": "execute_result"
    }
   ],
   "source": [
    "# POS tag\n",
    "def get_pos(words):\n",
    "    return pos_tag(words)\n",
    "get_pos(words)"
   ]
  },
  {
   "cell_type": "code",
   "execution_count": null,
   "id": "cf61e4c4-94f1-4a66-b005-db401d867c66",
   "metadata": {},
   "outputs": [],
   "source": []
  }
 ],
 "metadata": {
  "kernelspec": {
   "display_name": "Python 3 (ipykernel)",
   "language": "python",
   "name": "python3"
  },
  "language_info": {
   "codemirror_mode": {
    "name": "ipython",
    "version": 3
   },
   "file_extension": ".py",
   "mimetype": "text/x-python",
   "name": "python",
   "nbconvert_exporter": "python",
   "pygments_lexer": "ipython3",
   "version": "3.9.5"
  }
 },
 "nbformat": 4,
 "nbformat_minor": 5
}
