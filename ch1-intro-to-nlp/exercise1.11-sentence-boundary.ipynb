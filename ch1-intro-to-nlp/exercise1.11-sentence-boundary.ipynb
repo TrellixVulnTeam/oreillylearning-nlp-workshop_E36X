{
 "cells": [
  {
   "cell_type": "markdown",
   "id": "d941f9f8-b9e2-442b-8a83-bdc206594629",
   "metadata": {},
   "source": [
    "### Exercise 1.11: Sentence Boundary Detection\n",
    "In this exercise, we will extract sentences from a paragraph. To do so, we'll be using the sent_tokenize() method, which is used to detect sentence boundaries."
   ]
  },
  {
   "cell_type": "code",
   "execution_count": 1,
   "id": "6293400a-d80e-4b88-873b-2488c866202e",
   "metadata": {},
   "outputs": [],
   "source": [
    "import nltk\n",
    "from nltk.tokenize import sent_tokenize"
   ]
  },
  {
   "cell_type": "code",
   "execution_count": 2,
   "id": "7ee4e020-65db-45cd-90df-7409ad5d7068",
   "metadata": {},
   "outputs": [
    {
     "data": {
      "text/plain": [
       "['We are reading a book.',\n",
       " 'Do you know who is the publisher?',\n",
       " 'It is Packt.',\n",
       " 'Packt is based out of Birmingham.']"
      ]
     },
     "execution_count": 2,
     "metadata": {},
     "output_type": "execute_result"
    }
   ],
   "source": [
    "def get_sentences(text):\n",
    "    return sent_tokenize(text)\n",
    "get_sentences('We are reading a book. Do you know who is the publisher? It is Packt. Packt is based out of Birmingham.')"
   ]
  },
  {
   "cell_type": "code",
   "execution_count": 3,
   "id": "750b0378-31d7-416c-9444-85e8dffa522c",
   "metadata": {},
   "outputs": [
    {
     "data": {
      "text/plain": [
       "['Mr. Donald John Trump is the former president of the USA.',\n",
       " 'Before joining politics, he was a businessman.']"
      ]
     },
     "execution_count": 3,
     "metadata": {},
     "output_type": "execute_result"
    }
   ],
   "source": [
    "# Using sent_tokenize on text with periods other than those found at the ends of sentences.\n",
    "get_sentences('Mr. Donald John Trump is the former president of the USA. Before joining politics, he was a businessman.')"
   ]
  },
  {
   "cell_type": "raw",
   "id": "d65ecdaa-2506-44c4-baf7-9f95a1ef1498",
   "metadata": {},
   "source": [
    "As you can see in the code, the sent_tokenize method is able to differentiate between the period (.) after \"Mr\" and the one used to end the sentence. "
   ]
  },
  {
   "cell_type": "code",
   "execution_count": null,
   "id": "e60fdcc7-54a0-4ddc-b7fb-ea71864433d0",
   "metadata": {},
   "outputs": [],
   "source": []
  }
 ],
 "metadata": {
  "kernelspec": {
   "display_name": "Python 3 (ipykernel)",
   "language": "python",
   "name": "python3"
  },
  "language_info": {
   "codemirror_mode": {
    "name": "ipython",
    "version": 3
   },
   "file_extension": ".py",
   "mimetype": "text/x-python",
   "name": "python",
   "nbconvert_exporter": "python",
   "pygments_lexer": "ipython3",
   "version": "3.9.5"
  }
 },
 "nbformat": 4,
 "nbformat_minor": 5
}
