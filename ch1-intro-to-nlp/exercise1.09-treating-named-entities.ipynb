{
 "cells": [
  {
   "cell_type": "markdown",
   "id": "e5996afd-9fa6-422b-8452-06e2646298e4",
   "metadata": {},
   "source": [
    "### Exercise 1.09: Treating Named Entities\n",
    "In this exercise, we will find the named entities in a given sentence. Follow these steps to implement this exercise using the following sentence:\n",
    "\n",
    "\"We are reading a book published by Packt which is based out of Birmingham.\""
   ]
  },
  {
   "cell_type": "code",
   "execution_count": 4,
   "id": "ade2b8d8-89e6-44cf-bede-a807b255cc59",
   "metadata": {},
   "outputs": [
    {
     "ename": "ModuleNotFoundError",
     "evalue": "No module named 'numpy'",
     "output_type": "error",
     "traceback": [
      "\u001b[0;31m---------------------------------------------------------------------------\u001b[0m",
      "\u001b[0;31mModuleNotFoundError\u001b[0m                       Traceback (most recent call last)",
      "Input \u001b[0;32mIn [4]\u001b[0m, in \u001b[0;36m<cell line: 1>\u001b[0;34m()\u001b[0m\n\u001b[0;32m----> 1\u001b[0m \u001b[38;5;28;01mimport\u001b[39;00m \u001b[38;5;21;01mnumpy\u001b[39;00m \u001b[38;5;28;01mas\u001b[39;00m \u001b[38;5;21;01mnp\u001b[39;00m\n\u001b[1;32m      2\u001b[0m \u001b[38;5;28;01mfrom\u001b[39;00m \u001b[38;5;21;01mnltk\u001b[39;00m \u001b[38;5;28;01mimport\u001b[39;00m download, pos_tag, ne_chunk, word_tokenize\n\u001b[1;32m      3\u001b[0m download(\u001b[38;5;124m'\u001b[39m\u001b[38;5;124mmaxent_ne_chunker\u001b[39m\u001b[38;5;124m'\u001b[39m)\n",
      "\u001b[0;31mModuleNotFoundError\u001b[0m: No module named 'numpy'"
     ]
    }
   ],
   "source": [
    "from nltk import download, pos_tag, ne_chunk, word_tokenize\n",
    "download('maxent_ne_chunker')\n",
    "download('words')"
   ]
  },
  {
   "cell_type": "code",
   "execution_count": 2,
   "id": "39d84070-ca93-4ad6-a1b8-ee5a0840f6dc",
   "metadata": {},
   "outputs": [],
   "source": [
    "# Sentence\n",
    "sentence = 'We are reading a book published by Packt which is based out of Birmingham.'"
   ]
  },
  {
   "cell_type": "code",
   "execution_count": 5,
   "id": "407a6f3a-50ce-4ac5-9d92-f05f8915b8ca",
   "metadata": {},
   "outputs": [
    {
     "data": {
      "text/plain": [
       "[Tree('NE', [('Packt', 'NNP')]), Tree('NE', [('Birmingham', 'NNP')])]"
      ]
     },
     "execution_count": 5,
     "metadata": {},
     "output_type": "execute_result"
    }
   ],
   "source": [
    "# Find named entities\n",
    "def get_ner(text):\n",
    "    i = ne_chunk(pos_tag(word_tokenize(text)), binary=True) # Tokenize sentences into constituent words, pos-tag each token, chunk pos-tagged token\n",
    "    return [a for a in i if len(a)==1]\n",
    "get_ner(sentence)"
   ]
  },
  {
   "cell_type": "raw",
   "id": "48361759-1267-4855-bce7-dda3edfaea2f",
   "metadata": {},
   "source": [
    "In the preceding code, we can see that the code identifies the named entities \"Packt\" and \"Birmingham\" and maps them to an already-defined category, \"NNP.\" "
   ]
  },
  {
   "cell_type": "code",
   "execution_count": null,
   "id": "500ae7bc-f4c2-450c-a484-94245abfacb9",
   "metadata": {},
   "outputs": [],
   "source": []
  }
 ],
 "metadata": {
  "kernelspec": {
   "display_name": "Python 3 (ipykernel)",
   "language": "python",
   "name": "python3"
  },
  "language_info": {
   "codemirror_mode": {
    "name": "ipython",
    "version": 3
   },
   "file_extension": ".py",
   "mimetype": "text/x-python",
   "name": "python",
   "nbconvert_exporter": "python",
   "pygments_lexer": "ipython3",
   "version": "3.9.5"
  }
 },
 "nbformat": 4,
 "nbformat_minor": 5
}
