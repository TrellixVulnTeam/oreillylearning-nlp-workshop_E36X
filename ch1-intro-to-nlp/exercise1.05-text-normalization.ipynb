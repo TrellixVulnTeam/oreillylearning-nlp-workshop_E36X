{
 "cells": [
  {
   "cell_type": "markdown",
   "id": "70c9f8cb-c80f-40eb-8c7b-10236710120a",
   "metadata": {},
   "source": [
    "### Exercise 1.05: Text Normalization\n",
    "In this exercise, we will normalize some given text. Basically, we will be trying to replace select words with new words, using the replace() function, and finally produce the normalized text. replace() is a built-in Python function that works on strings and takes two arguments. It will return a copy of a string in which the occurrence of the first argument will be replaced by the second argument."
   ]
  },
  {
   "cell_type": "code",
   "execution_count": 1,
   "id": "f54a5221-3dba-4a30-80aa-330f04bb9491",
   "metadata": {},
   "outputs": [],
   "source": [
    "sentence = 'I visited the US from the UK on 22-10-18'"
   ]
  },
  {
   "cell_type": "code",
   "execution_count": 2,
   "id": "ceb56a42-5f22-4066-96cd-59fd4a4b1cf1",
   "metadata": {},
   "outputs": [],
   "source": [
    "# Replace tokens using replace()\n",
    "def normalize(text):\n",
    "    return text.replace('US', 'United States').replace('UK', 'United Kingdom').replace('-18', '-2018')"
   ]
  },
  {
   "cell_type": "code",
   "execution_count": 3,
   "id": "a7599426-0e7e-452f-8956-0dd132b22b1b",
   "metadata": {},
   "outputs": [
    {
     "name": "stdout",
     "output_type": "stream",
     "text": [
      "I visited the United States from the United Kingdom on 22-10-2018\n"
     ]
    }
   ],
   "source": [
    "normalized_sentence = normalize(sentence)\n",
    "print(normalized_sentence)"
   ]
  },
  {
   "cell_type": "code",
   "execution_count": null,
   "id": "02dbce2d-6b8c-45e5-94e0-c8eed5b2c511",
   "metadata": {},
   "outputs": [],
   "source": []
  }
 ],
 "metadata": {
  "kernelspec": {
   "display_name": "Python 3 (ipykernel)",
   "language": "python",
   "name": "python3"
  },
  "language_info": {
   "codemirror_mode": {
    "name": "ipython",
    "version": 3
   },
   "file_extension": ".py",
   "mimetype": "text/x-python",
   "name": "python",
   "nbconvert_exporter": "python",
   "pygments_lexer": "ipython3",
   "version": "3.9.5"
  }
 },
 "nbformat": 4,
 "nbformat_minor": 5
}
