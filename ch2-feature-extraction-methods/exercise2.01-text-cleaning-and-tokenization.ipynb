{
 "cells": [
  {
   "cell_type": "markdown",
   "id": "3732a181-e215-4c13-beaa-fac9b558e9ad",
   "metadata": {},
   "source": [
    "### Exercise 2.01: Text Cleaning and Tokenization\n",
    "\n",
    "In this exercise, we will clean some text and extract the tokens from it. "
   ]
  },
  {
   "cell_type": "code",
   "execution_count": 1,
   "id": "64f3f65c-8af6-4b7d-be62-5399c5c395db",
   "metadata": {},
   "outputs": [],
   "source": [
    "# re python library used for string searching and string manipulation.\n",
    "import re"
   ]
  },
  {
   "cell_type": "raw",
   "id": "4555dd64-830c-409c-907f-726581d8b920",
   "metadata": {},
   "source": [
    "Create a method called clean_text() that will delete all characters other than digits, alphabetical characters, and whitespaces from the text and split the text into tokens. For this, we will use the text which matches with all non-alphanumeric characters, and we will replace all of them with an empty string"
   ]
  },
  {
   "cell_type": "code",
   "execution_count": 2,
   "id": "12fc2c76-6f72-4a0a-8b63-269d0337c846",
   "metadata": {},
   "outputs": [],
   "source": [
    "def clean_text(sentence):\n",
    "    return re.sub(r'([^\\s\\w]|_)+', ' ', sentence).split()"
   ]
  },
  {
   "cell_type": "code",
   "execution_count": 5,
   "id": "e89ff937-6e97-4ed9-8564-72a8e7609092",
   "metadata": {},
   "outputs": [
    {
     "data": {
      "text/plain": [
       "['Sunil',\n",
       " 'tweeted',\n",
       " 'Witnessing',\n",
       " '70th',\n",
       " 'Republic',\n",
       " 'Day',\n",
       " 'of',\n",
       " 'India',\n",
       " 'from',\n",
       " 'Rajpath',\n",
       " 'New',\n",
       " 'Delhi',\n",
       " 'Mesmerizing',\n",
       " 'performance',\n",
       " 'by',\n",
       " 'Indian',\n",
       " 'Army',\n",
       " 'Awesome',\n",
       " 'airshow',\n",
       " 'india',\n",
       " 'official',\n",
       " 'indian',\n",
       " 'army',\n",
       " 'India',\n",
       " '70thRepublic',\n",
       " 'Day',\n",
       " 'For',\n",
       " 'more',\n",
       " 'photos',\n",
       " 'ping',\n",
       " 'me',\n",
       " 'sunil',\n",
       " 'photoking',\n",
       " 'com']"
      ]
     },
     "execution_count": 5,
     "metadata": {},
     "output_type": "execute_result"
    }
   ],
   "source": [
    "sentence = \"\"\"\n",
    "Sunil tweeted, 'Witnessing 70th Republic Day of India from Rajpath, New Delhi.\n",
    "Mesmerizing performance by Indian Army! Awesome airshow! @india_official @indian_army #India #70thRepublic_Day.\n",
    "For more photos ping me sunil@photoking.com :)'\n",
    "\"\"\"\n",
    "clean_text(sentence)"
   ]
  },
  {
   "cell_type": "code",
   "execution_count": null,
   "id": "7781cabc-3814-4f7a-9c24-8b56749c341a",
   "metadata": {},
   "outputs": [],
   "source": []
  }
 ],
 "metadata": {
  "kernelspec": {
   "display_name": "Python 3 (ipykernel)",
   "language": "python",
   "name": "python3"
  },
  "language_info": {
   "codemirror_mode": {
    "name": "ipython",
    "version": 3
   },
   "file_extension": ".py",
   "mimetype": "text/x-python",
   "name": "python",
   "nbconvert_exporter": "python",
   "pygments_lexer": "ipython3",
   "version": "3.9.5"
  }
 },
 "nbformat": 4,
 "nbformat_minor": 5
}
