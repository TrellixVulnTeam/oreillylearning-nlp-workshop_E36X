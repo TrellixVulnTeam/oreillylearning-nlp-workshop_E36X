{
 "cells": [
  {
   "cell_type": "markdown",
   "id": "04ae73b4-7172-4fb2-bce1-06dc125c1fca",
   "metadata": {},
   "source": [
    "### Exercise 2.06: Using the Porter Stemmer"
   ]
  },
  {
   "cell_type": "code",
   "execution_count": 2,
   "id": "62123440-218d-4655-9b49-acb42e2e97e7",
   "metadata": {},
   "outputs": [],
   "source": [
    "from nltk.stem.porter import *\n",
    "sentence = 'Before eating, it would be nice to santize your hands with a sanitizer'"
   ]
  },
  {
   "cell_type": "code",
   "execution_count": 4,
   "id": "80e31cdf-bd84-43fd-8371-e1473349b08e",
   "metadata": {},
   "outputs": [
    {
     "data": {
      "text/plain": [
       "'befor eating, it would be nice to santiz your hand with a sanit'"
      ]
     },
     "execution_count": 4,
     "metadata": {},
     "output_type": "execute_result"
    }
   ],
   "source": [
    "# PorterStemmer\n",
    "def get_stems(text):\n",
    "    ps_stem = PorterStemmer()\n",
    "    return ' '.join([ps_stem.stem(wd) for wd in text.split()])\n",
    "get_stems(sentence)"
   ]
  },
  {
   "cell_type": "code",
   "execution_count": null,
   "id": "e9e5207f-1b2e-4687-bfd5-c9ab5eb970ef",
   "metadata": {},
   "outputs": [],
   "source": []
  }
 ],
 "metadata": {
  "kernelspec": {
   "display_name": "Python 3 (ipykernel)",
   "language": "python",
   "name": "python3"
  },
  "language_info": {
   "codemirror_mode": {
    "name": "ipython",
    "version": 3
   },
   "file_extension": ".py",
   "mimetype": "text/x-python",
   "name": "python",
   "nbconvert_exporter": "python",
   "pygments_lexer": "ipython3",
   "version": "3.9.5"
  }
 },
 "nbformat": 4,
 "nbformat_minor": 5
}
