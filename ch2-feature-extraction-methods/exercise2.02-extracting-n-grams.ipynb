{
 "cells": [
  {
   "cell_type": "markdown",
   "id": "28132084-ca0e-4ac4-8326-5f2536f561bb",
   "metadata": {},
   "source": [
    "### Exercise 2.02: Extracting n-grams\n",
    "\n",
    "In this exercise, we will extract n-grams using three different methods. First, we will use custom-defined functions, and then the nltk and textblob libraries. "
   ]
  },
  {
   "cell_type": "code",
   "execution_count": 3,
   "id": "15fb3ebd-3ff7-4522-98ff-b57e44af9dac",
   "metadata": {},
   "outputs": [],
   "source": [
    "import re\n",
    "def n_gram_extractor(sentence, n):\n",
    "    tokens = re.sub(r'([^\\s\\w]|_)+', ' ', sentence).split()\n",
    "    for i in range(len(tokens)-n+1):\n",
    "        print(tokens[i:i+n])"
   ]
  },
  {
   "cell_type": "raw",
   "id": "f6d4a9ff-dafd-4d50-9c20-9f9d51d41410",
   "metadata": {},
   "source": [
    "In the preceding function, we are splitting the sentence into tokens using regex, then looping over the tokens, taking n consecutive tokens at a time."
   ]
  },
  {
   "cell_type": "code",
   "execution_count": 4,
   "id": "9ad1e3a2-9c48-49ad-ba66-158781d483b4",
   "metadata": {},
   "outputs": [
    {
     "name": "stdout",
     "output_type": "stream",
     "text": [
      "['The', 'cute']\n",
      "['cute', 'little']\n",
      "['little', 'boy']\n",
      "['boy', 'is']\n",
      "['is', 'playing']\n",
      "['playing', 'with']\n",
      "['with', 'the']\n",
      "['the', 'kitten']\n"
     ]
    }
   ],
   "source": [
    "n_gram_extractor('The cute little boy is playing with the kitten.', 2) # bi-gram"
   ]
  },
  {
   "cell_type": "code",
   "execution_count": 8,
   "id": "a02ab701-c1ee-43d2-8e35-65bd5dd69323",
   "metadata": {},
   "outputs": [
    {
     "data": {
      "text/plain": [
       "[('The', 'cute'),\n",
       " ('cute', 'little'),\n",
       " ('little', 'boy'),\n",
       " ('boy', 'is'),\n",
       " ('is', 'playing'),\n",
       " ('playing', 'with'),\n",
       " ('with', 'the'),\n",
       " ('the', 'kitten.')]"
      ]
     },
     "execution_count": 8,
     "metadata": {},
     "output_type": "execute_result"
    }
   ],
   "source": [
    "# check bigrams using nltk library\n",
    "from nltk import ngrams\n",
    "list(ngrams('The cute little boy is playing with the kitten.'.split(), 2))"
   ]
  },
  {
   "cell_type": "code",
   "execution_count": 10,
   "id": "448be8d2-42e9-4558-877b-20c7a381f884",
   "metadata": {},
   "outputs": [
    {
     "name": "stdout",
     "output_type": "stream",
     "text": [
      "Requirement already satisfied: textblob in /Users/LNonyane/virtualenvs/nlp-workshop/env-nlp-workshop/lib/python3.9/site-packages (0.17.1)\n",
      "Requirement already satisfied: nltk>=3.1 in /Users/LNonyane/virtualenvs/nlp-workshop/env-nlp-workshop/lib/python3.9/site-packages (from textblob) (3.7)\n",
      "Requirement already satisfied: tqdm in /Users/LNonyane/virtualenvs/nlp-workshop/env-nlp-workshop/lib/python3.9/site-packages (from nltk>=3.1->textblob) (4.64.0)\n",
      "Requirement already satisfied: click in /Users/LNonyane/virtualenvs/nlp-workshop/env-nlp-workshop/lib/python3.9/site-packages (from nltk>=3.1->textblob) (8.1.3)\n",
      "Requirement already satisfied: joblib in /Users/LNonyane/virtualenvs/nlp-workshop/env-nlp-workshop/lib/python3.9/site-packages (from nltk>=3.1->textblob) (1.1.0)\n",
      "Requirement already satisfied: regex>=2021.8.3 in /Users/LNonyane/virtualenvs/nlp-workshop/env-nlp-workshop/lib/python3.9/site-packages (from nltk>=3.1->textblob) (2022.7.25)\n"
     ]
    },
    {
     "data": {
      "text/plain": [
       "[WordList(['The', 'cute']),\n",
       " WordList(['cute', 'little']),\n",
       " WordList(['little', 'boy']),\n",
       " WordList(['boy', 'is']),\n",
       " WordList(['is', 'playing']),\n",
       " WordList(['playing', 'with']),\n",
       " WordList(['with', 'the']),\n",
       " WordList(['the', 'kitten'])]"
      ]
     },
     "execution_count": 10,
     "metadata": {},
     "output_type": "execute_result"
    }
   ],
   "source": [
    "# check bigrams with textblob libray\n",
    "!pip install -U textblob\n",
    "from textblob import TextBlob\n",
    "blob = TextBlob('The cute little boy is playing with the kitten.')\n",
    "blob.ngrams(n=2)"
   ]
  },
  {
   "cell_type": "raw",
   "id": "38e36f0e-a4f5-4bac-9e37-e80b1a3b881a",
   "metadata": {},
   "source": [
    "In this exercise, we learned how to generate n-grams using various methods."
   ]
  },
  {
   "cell_type": "code",
   "execution_count": null,
   "id": "e89ff933-3bc5-4194-baa0-eeb97ea62f6a",
   "metadata": {},
   "outputs": [],
   "source": []
  }
 ],
 "metadata": {
  "kernelspec": {
   "display_name": "Python 3 (ipykernel)",
   "language": "python",
   "name": "python3"
  },
  "language_info": {
   "codemirror_mode": {
    "name": "ipython",
    "version": 3
   },
   "file_extension": ".py",
   "mimetype": "text/x-python",
   "name": "python",
   "nbconvert_exporter": "python",
   "pygments_lexer": "ipython3",
   "version": "3.9.5"
  }
 },
 "nbformat": 4,
 "nbformat_minor": 5
}
