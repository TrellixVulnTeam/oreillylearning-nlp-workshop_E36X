{
 "cells": [
  {
   "cell_type": "markdown",
   "id": "91626bda-1e30-4761-868e-ca1be8711a5e",
   "metadata": {},
   "source": [
    "### Activity 2.01: Extracting Top Keywords from the News Article\n",
    "In this activity, you will extract the most frequently occurring keywords from a sample news article. "
   ]
  },
  {
   "cell_type": "raw",
   "id": "f92a9b28-e51b-4010-8997-0c82f1599489",
   "metadata": {},
   "source": [
    "Define some functions to help you load the text file, \n",
    "convert the string into lowercase, \n",
    "tokenize the text, \n",
    "remove the stop words, \n",
    "and perform stemming on all the remaining tokens. \n",
    "Finally, define a function to calculate the frequency of all these words."
   ]
  },
  {
   "cell_type": "code",
   "execution_count": 1,
   "id": "b451d555-c9e0-4e22-ac46-f0d01066d0c9",
   "metadata": {},
   "outputs": [],
   "source": [
    "import nltk"
   ]
  },
  {
   "cell_type": "code",
   "execution_count": 2,
   "id": "f4783a84-d10b-4b01-9e9e-8e891af3a85a",
   "metadata": {
    "collapsed": true,
    "jupyter": {
     "outputs_hidden": true
    },
    "tags": []
   },
   "outputs": [
    {
     "name": "stdout",
     "output_type": "stream",
     "text": [
      "ever since the populist law and justice (pis) party took power in 2015, adam bodnar, poland’s\n",
      "human-rights ombudsman, has been warning against its relentless efforts to get control of the\n",
      "courts. to illustrate the danger, he uses an expression from communist times: lex telefonica.\n",
      "in the polish people’s republic, verdicts were routinely dictated by a phone call from an\n",
      "apparatchik at party headquarters. today’s government has more subtle techniques,\n",
      "but the goal is the same, mr bodnar says: “if a judge has a case on his desk with some\n",
      "political importance, he should be afraid.”\n",
      "\n",
      "the european commission is worried, too. it accuses pis of violating poland’s commitments\n",
      "to the rule of law under the european union’s founding treaty. in 2017 the commission took\n",
      "poland to the european court of justice (ecj) over laws that gave politicians control over\n",
      "appointing judges. (for example, they lowered judges’ retirement age while letting the justice\n",
      "minister pick whom to exempt.) the ecj ruled against the poles, who had in the meantime\n",
      "scrapped some of the measures.\n"
     ]
    }
   ],
   "source": [
    "# string to lowercase: word.lower()\n",
    "with open('news-article.txt') as f:\n",
    "    text = f.read()\n",
    "text = text.lower()\n",
    "print(text.lower())"
   ]
  },
  {
   "cell_type": "raw",
   "id": "4cd63a2d-1b77-42f4-90fa-7211ae719894",
   "metadata": {
    "jupyter": {
     "outputs_hidden": true
    },
    "tags": []
   },
   "source": [
    "# Tokenize using textblob library\n",
    "from keras.preprocessing.text import text_to_word_sequence\n",
    "from textblob import TextBlob\n",
    "def get_textblob_tokens(text):\n",
    "    blob = TextBlob(text)\n",
    "    return blob.words\n",
    "get_textblob_tokens(text)"
   ]
  },
  {
   "cell_type": "raw",
   "id": "71029b08-7217-4ecd-a6ee-f2e5f1aa82d5",
   "metadata": {
    "tags": []
   },
   "source": [
    "# Tokenization using keras library\n",
    "from keras.preprocessing.text import text_to_word_sequence\n",
    "def get_keras_tokens(text):\n",
    "    return text_to_word_sequence(text)\n",
    "word_tokens = get_keras_tokens(text)\n",
    "print(word_tokens)"
   ]
  },
  {
   "cell_type": "code",
   "execution_count": 3,
   "id": "1a48f383-2c0d-4009-8c52-e0f5b70ba6bf",
   "metadata": {
    "tags": []
   },
   "outputs": [],
   "source": [
    "# Split the string into tokens using a white space tokenizer.\n",
    "from nltk.tokenize import WhitespaceTokenizer\n",
    "def tokenize_with_wst(text):\n",
    "    wh_tokenizer = WhitespaceTokenizer()\n",
    "    return wh_tokenizer.tokenize(text)\n",
    "word_tokens = tokenize_with_wst(text)"
   ]
  },
  {
   "cell_type": "code",
   "execution_count": 4,
   "id": "ba121675-01e7-45e9-8438-c240d26479a2",
   "metadata": {},
   "outputs": [
    {
     "name": "stdout",
     "output_type": "stream",
     "text": [
      "ever since populist law justice (pis) party took power 2015, adam bodnar, poland’s human-rights ombudsman, warning relentless efforts get control courts. illustrate danger, uses expression communist times: lex telefonica. polish people’s republic, verdicts routinely dictated phone call apparatchik party headquarters. today’s government subtle techniques, goal same, mr bodnar says: “if judge case desk political importance, afraid.” european commission worried, too. accuses pis violating poland’s commitments rule law european union’s founding treaty. 2017 commission took poland european court justice (ecj) laws gave politicians control appointing judges. (for example, lowered judges’ retirement age letting justice minister pick exempt.) ecj ruled poles, meantime scrapped measures.\n"
     ]
    },
    {
     "name": "stderr",
     "output_type": "stream",
     "text": [
      "[nltk_data] Downloading package stopwords to\n",
      "[nltk_data]     /Users/LNonyane/nltk_data...\n",
      "[nltk_data]   Package stopwords is already up-to-date!\n"
     ]
    }
   ],
   "source": [
    "# remove stop words\n",
    "from nltk import download\n",
    "download('stopwords')\n",
    "from nltk.corpus import stopwords\n",
    "\n",
    "# English stopwords\n",
    "stop_words = stopwords.words('english') # arabic, danish, dutch, etc.\n",
    "\n",
    "# Remove stop words\n",
    "def remove_stop_words(sentence_words, stop_words):\n",
    "    return ' '.join([word for word in sentence_words if word not in stop_words])\n",
    "words_no_stop = remove_stop_words(word_tokens, stop_words)\n",
    "print(words_no_stop)"
   ]
  },
  {
   "cell_type": "code",
   "execution_count": 5,
   "id": "06234ee8-846e-4e65-bfea-14432d1e4257",
   "metadata": {
    "tags": []
   },
   "outputs": [
    {
     "name": "stdout",
     "output_type": "stream",
     "text": [
      "['ever', 'sinc', 'populist', 'law', 'justic', '(pis)', 'parti', 'took', 'power', '2015,', 'adam', 'bodnar,', 'poland’', 'human-right', 'ombudsman,', 'warn', 'relentless', 'effort', 'get', 'control', 'courts.', 'illustr', 'danger,', 'use', 'express', 'communist', 'times:', 'lex', 'telefonica.', 'polish', 'people’', 'republic,', 'verdict', 'routin', 'dictat', 'phone', 'call', 'apparatchik', 'parti', 'headquarters.', 'today’', 'govern', 'subtl', 'techniques,', 'goal', 'same,', 'mr', 'bodnar', 'says:', '“if', 'judg', 'case', 'desk', 'polit', 'importance,', 'afraid.”', 'european', 'commiss', 'worried,', 'too.', 'accus', 'pi', 'violat', 'poland’', 'commit', 'rule', 'law', 'european', 'union’', 'found', 'treaty.', '2017', 'commiss', 'took', 'poland', 'european', 'court', 'justic', '(ecj)', 'law', 'gave', 'politician', 'control', 'appoint', 'judges.', '(for', 'example,', 'lower', 'judges’', 'retir', 'age', 'let', 'justic', 'minist', 'pick', 'exempt.)', 'ecj', 'rule', 'poles,', 'meantim', 'scrap', 'measures.']\n"
     ]
    }
   ],
   "source": [
    "# stemming using PorterStemmer\n",
    "from nltk import stem\n",
    "# get stems\n",
    "def get_stems(tokens, stemmer):\n",
    "    return [stemmer.stem(word) for word in tokenize_with_wst(tokens)]\n",
    "porterStem = stem.PorterStemmer()\n",
    "token_stems = get_stems(words_no_stop, porterStem)\n",
    "print(token_stems)"
   ]
  },
  {
   "cell_type": "code",
   "execution_count": 7,
   "id": "76195426-9e32-45fa-9200-abfd078ad721",
   "metadata": {},
   "outputs": [],
   "source": [
    "# Frequency of all the words after stemming\n",
    "# This method will generate a dict of word frequencies from list.\n",
    "def get_freq(stems):\n",
    "    freq_dict = {}\n",
    "    for t in stems:\n",
    "        freq_dict[t.strip()] = freq_dict.get(t.strip(), 0) + 1\n",
    "    return freq_dict\n",
    "\n",
    "# This method will sort the dictionary on the values and return the top n \n",
    "# keys of the dictionary.\n",
    "import operator\n",
    "def get_top_n_words(freq_dict, n):\n",
    "    sorted_dict = sorted(freq_dict.items(), key=operator.itemgetter(1), reverse=True)\n",
    "    return [x[0] for x in sorted_dict][:n]"
   ]
  },
  {
   "cell_type": "code",
   "execution_count": 9,
   "id": "80b741c6-a7c9-4736-9bcd-55c00044877b",
   "metadata": {},
   "outputs": [
    {
     "data": {
      "text/plain": [
       "['law', 'justic', 'european', 'parti', 'took', 'poland’']"
      ]
     },
     "execution_count": 9,
     "metadata": {},
     "output_type": "execute_result"
    }
   ],
   "source": [
    "freq_dict = get_freq(token_stems)\n",
    "top_keywords = get_top_n_words(freq_dict, 6)\n",
    "top_keywords"
   ]
  },
  {
   "cell_type": "code",
   "execution_count": null,
   "id": "c47254e8-6207-499b-9dd3-7c7217bf83c4",
   "metadata": {},
   "outputs": [],
   "source": []
  }
 ],
 "metadata": {
  "kernelspec": {
   "display_name": "Python 3 (ipykernel)",
   "language": "python",
   "name": "python3"
  },
  "language_info": {
   "codemirror_mode": {
    "name": "ipython",
    "version": 3
   },
   "file_extension": ".py",
   "mimetype": "text/x-python",
   "name": "python",
   "nbconvert_exporter": "python",
   "pygments_lexer": "ipython3",
   "version": "3.9.5"
  }
 },
 "nbformat": 4,
 "nbformat_minor": 5
}
