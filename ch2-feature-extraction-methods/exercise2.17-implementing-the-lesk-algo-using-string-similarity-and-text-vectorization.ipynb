{
 "cells": [
  {
   "cell_type": "markdown",
   "id": "e1816b74-1672-4961-b395-1b4152725051",
   "metadata": {},
   "source": [
    "### Exercise 2.17: Implementing the Lesk Algorithm Using String Similarity and Text Vectorization\n",
    "\n",
    "In this exercise, we are going to implement the Lesk algorithm step by step using the techniques we have learned so far. We will find the meaning of the word \"bank\" in the sentence, \"On the banks of river Ganga, there lies the scent of spirituality.\" We will use cosine similarity as well as Jaccard similarity here. "
   ]
  },
  {
   "cell_type": "code",
   "execution_count": 1,
   "id": "592acc89-5034-4112-bd3c-3c364e517237",
   "metadata": {},
   "outputs": [],
   "source": [
    "import pandas as pd\n",
    "from sklearn.metrics.pairwise import cosine_similarity\n",
    "from nltk import word_tokenize\n",
    "from sklearn.feature_extraction.text import TfidfVectorizer\n",
    "from sklearn.datasets import fetch_20newsgroups\n",
    "import numpy as np"
   ]
  },
  {
   "cell_type": "code",
   "execution_count": 2,
   "id": "a4f2b26c-2e1c-48df-ac9a-8e65e17e3dd1",
   "metadata": {},
   "outputs": [],
   "source": [
    "# Method to get TFIDF vectors\n",
    "def get_tf_idf_vectors(corpus):\n",
    "    tfidf_vectorizer = TfidfVectorizer()\n",
    "    tfidf_results = tfidf_vectorizer.fit_transform(corpus).todense()\n",
    "    return tfidf_results"
   ]
  },
  {
   "cell_type": "code",
   "execution_count": 3,
   "id": "946ae776-1a77-4c1a-b558-ea5e81724dc1",
   "metadata": {},
   "outputs": [],
   "source": [
    "# Method to convert corpus into lower case\n",
    "def to_lower_case(corpus):\n",
    "    lowercase_corpus = [x.lower() for x in corpus]\n",
    "    return lowercase_corpus"
   ]
  },
  {
   "cell_type": "code",
   "execution_count": 4,
   "id": "a09a20e2-74c1-42ce-981f-c89bcdcaefb8",
   "metadata": {},
   "outputs": [],
   "source": [
    "# Method to find similarity between sentence and the possible definitions\n",
    "def find_sentence_definition(sent_vector, definition_vectors):\n",
    "    result_dict = {}\n",
    "    for definition_id, def_vector in definition_vectors.items():\n",
    "        sim = cosine_similarity(sent_vector, def_vector)\n",
    "        result_dict[definition_id] = sim[0][0]\n",
    "    definition = sorted(result_dict.items(), key=lambda x: x[1], reverse=True)[0]\n",
    "    return definition[0],definition[1]"
   ]
  },
  {
   "cell_type": "code",
   "execution_count": 5,
   "id": "42b99071-0fbd-4811-9838-9ea47c5fc4ee",
   "metadata": {},
   "outputs": [],
   "source": [
    "corpus = [\"On the banks of river Ganga, there lies the scent of spirituality.\",\\\n",
    "         \"An institute where people can store extra cash or money.\",\\\n",
    "         \"The land alongside or sloping down to a river or lake\"\\\n",
    "         \"What you do defines you\",\\\n",
    "         \"Your deeds define you\",\\\n",
    "         \"Once upon a time there lived a king.\",\\\n",
    "         \"Who is your queen?\",\\\n",
    "         \"He is desperate\",\\\n",
    "         \"Is he not desperate?\"]"
   ]
  },
  {
   "cell_type": "code",
   "execution_count": 6,
   "id": "9e9c34a4-de23-4401-ac70-8f0df7dd5dfc",
   "metadata": {},
   "outputs": [
    {
     "name": "stdout",
     "output_type": "stream",
     "text": [
      "The definition of word bank is def2 with similarity of 0.14419130686278897\n"
     ]
    },
    {
     "name": "stderr",
     "output_type": "stream",
     "text": [
      "/Users/LNonyane/virtualenvs/nlp-workshop/env-nlp-workshop/lib/python3.9/site-packages/sklearn/utils/validation.py:727: FutureWarning: np.matrix usage is deprecated in 1.0 and will raise a TypeError in 1.2. Please convert to a numpy array with np.asarray. For more information see: https://numpy.org/doc/stable/reference/generated/numpy.matrix.html\n",
      "  warnings.warn(\n",
      "/Users/LNonyane/virtualenvs/nlp-workshop/env-nlp-workshop/lib/python3.9/site-packages/sklearn/utils/validation.py:727: FutureWarning: np.matrix usage is deprecated in 1.0 and will raise a TypeError in 1.2. Please convert to a numpy array with np.asarray. For more information see: https://numpy.org/doc/stable/reference/generated/numpy.matrix.html\n",
      "  warnings.warn(\n",
      "/Users/LNonyane/virtualenvs/nlp-workshop/env-nlp-workshop/lib/python3.9/site-packages/sklearn/utils/validation.py:727: FutureWarning: np.matrix usage is deprecated in 1.0 and will raise a TypeError in 1.2. Please convert to a numpy array with np.asarray. For more information see: https://numpy.org/doc/stable/reference/generated/numpy.matrix.html\n",
      "  warnings.warn(\n",
      "/Users/LNonyane/virtualenvs/nlp-workshop/env-nlp-workshop/lib/python3.9/site-packages/sklearn/utils/validation.py:727: FutureWarning: np.matrix usage is deprecated in 1.0 and will raise a TypeError in 1.2. Please convert to a numpy array with np.asarray. For more information see: https://numpy.org/doc/stable/reference/generated/numpy.matrix.html\n",
      "  warnings.warn(\n"
     ]
    }
   ],
   "source": [
    "# Find definition of the word bank\n",
    "lower_case_corpus = to_lower_case(corpus)\n",
    "corpus_tf_idf = get_tf_idf_vectors(lower_case_corpus)\n",
    "sent_vector = corpus_tf_idf[0]\n",
    "definition_vectors = {'def1':corpus_tf_idf[1], 'def2':corpus_tf_idf[2]}\n",
    "definition_id, score = find_sentence_definition(sent_vector, definition_vectors)\n",
    "print(\"The definition of word {} is {} with similarity of {}\".format('bank', definition_id, score))"
   ]
  },
  {
   "cell_type": "markdown",
   "id": "495913b3-c228-4f16-be19-b71059a8e6e1",
   "metadata": {},
   "source": [
    "As we already know, def2 represents a riverbank. So, we have found the correct definition of the word here. In this exercise, we have learned how to use text vectorization and text similarity to find the right definition of ambiguous words. "
   ]
  },
  {
   "cell_type": "code",
   "execution_count": null,
   "id": "7f21efb6-2dfd-4de1-8224-df45bbcd244d",
   "metadata": {},
   "outputs": [],
   "source": []
  }
 ],
 "metadata": {
  "kernelspec": {
   "display_name": "Python 3 (ipykernel)",
   "language": "python",
   "name": "python3"
  },
  "language_info": {
   "codemirror_mode": {
    "name": "ipython",
    "version": 3
   },
   "file_extension": ".py",
   "mimetype": "text/x-python",
   "name": "python",
   "nbconvert_exporter": "python",
   "pygments_lexer": "ipython3",
   "version": "3.9.5"
  }
 },
 "nbformat": 4,
 "nbformat_minor": 5
}
