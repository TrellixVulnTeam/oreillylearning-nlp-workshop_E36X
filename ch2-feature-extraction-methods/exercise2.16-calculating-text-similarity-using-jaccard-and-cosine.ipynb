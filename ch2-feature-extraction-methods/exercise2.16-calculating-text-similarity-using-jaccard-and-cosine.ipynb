{
 "cells": [
  {
   "cell_type": "markdown",
   "id": "97ca575b-e8d2-42ad-a5ee-834d7b80713c",
   "metadata": {},
   "source": [
    "### Exercise 2.16: Calculating Text Similarity Using Jaccard and Cosine Similarity"
   ]
  },
  {
   "cell_type": "code",
   "execution_count": 1,
   "id": "b74b6080-85a8-4cd4-a3ee-353821dbcde2",
   "metadata": {},
   "outputs": [],
   "source": [
    "from nltk import word_tokenize\n",
    "from nltk.stem import WordNetLemmatizer\n",
    "from sklearn.feature_extraction.text import TfidfVectorizer\n",
    "from sklearn.metrics.pairwise import cosine_similarity\n",
    "lemmatizer = WordNetLemmatizer()"
   ]
  },
  {
   "cell_type": "code",
   "execution_count": 2,
   "id": "2f629a47-4a97-49fe-adc1-55341c4a6239",
   "metadata": {},
   "outputs": [],
   "source": [
    "# Jaccard similarity\n",
    "def extract_text_similarity_jaccard(text1, text2):\n",
    "    # This method will return the jaccard similarity between two texts\n",
    "    # after lemmatizing them.\n",
    "    # :param text1: text1\n",
    "    # :param text2: text2\n",
    "    # :return: similarity measure\n",
    "    lemmatizer = WordNetLemmatizer()\n",
    "    words_text1 = [lemmatizer.lemmatize(word.lower()) for word in word_tokenize(text1)]\n",
    "    words_text2 = [lemmatizer.lemmatize(word.lower()) for word in word_tokenize(text2)]\n",
    "    nr = len(set(words_text1).intersection(set(words_text2))) # total unique words\n",
    "    dr = len(set(words_text1).union(set(words_text2))) # total common words\n",
    "    jaccard_sim = nr / dr\n",
    "    return jaccard_sim"
   ]
  },
  {
   "cell_type": "code",
   "execution_count": 3,
   "id": "448f73ce-9135-480f-8a77-0eac13e39de2",
   "metadata": {},
   "outputs": [],
   "source": [
    "pair1 = [\"What you do defines you\", \"Your deeds define you\"]\n",
    "pair2 = [\"Once upon a time there lived a king.\", \"Who is your queen?\"]\n",
    "pair3 = [\"He is desperate\", \"Is he not desperate?\"]"
   ]
  },
  {
   "cell_type": "code",
   "execution_count": 4,
   "id": "433d0511-394f-47f7-965a-4c92ff729045",
   "metadata": {},
   "outputs": [
    {
     "data": {
      "text/plain": [
       "0.14285714285714285"
      ]
     },
     "execution_count": 4,
     "metadata": {},
     "output_type": "execute_result"
    }
   ],
   "source": [
    "# Jaccard similarity for statements pair1\n",
    "extract_text_similarity_jaccard(pair1[0], pair1[1])"
   ]
  },
  {
   "cell_type": "code",
   "execution_count": 5,
   "id": "18c5db01-1828-4768-a99a-7914bd66aed7",
   "metadata": {},
   "outputs": [
    {
     "data": {
      "text/plain": [
       "0.0"
      ]
     },
     "execution_count": 5,
     "metadata": {},
     "output_type": "execute_result"
    }
   ],
   "source": [
    "# Jaccard similarity for statements pair2\n",
    "extract_text_similarity_jaccard(pair2[0], pair2[1])"
   ]
  },
  {
   "cell_type": "code",
   "execution_count": 6,
   "id": "81b80371-fdae-43c0-a9bc-3a7bc028e565",
   "metadata": {},
   "outputs": [
    {
     "data": {
      "text/plain": [
       "0.6"
      ]
     },
     "execution_count": 6,
     "metadata": {},
     "output_type": "execute_result"
    }
   ],
   "source": [
    "# Jaccard similarity for statements pair3\n",
    "extract_text_similarity_jaccard(pair3[0], pair3[1])"
   ]
  },
  {
   "cell_type": "code",
   "execution_count": 7,
   "id": "92a52459-997a-4151-b1e1-304feb1ffed1",
   "metadata": {},
   "outputs": [],
   "source": [
    "# Cosine similarity using TfidfVectorizer() method\n",
    "def get_tf_idf_vectors(corpus):\n",
    "    tfidf_vectorizer = TfidfVectorizer()\n",
    "    tfidf_results = tfidf_vectorizer.fit_transform(corpus).todense()\n",
    "    # Matrices that contain mostly zero values are called sparse, distinct from matrices where most of the values are non-zero, called dense.\n",
    "    return tfidf_results"
   ]
  },
  {
   "cell_type": "code",
   "execution_count": 8,
   "id": "3c6d97ee-9dc2-4361-adcf-b19898956302",
   "metadata": {},
   "outputs": [],
   "source": [
    "# Create corpus as a list of texts and get the TFIDF vectors of each document\n",
    "corpus = [pair1[0], pair1[1], pair2[0], pair2[1], pair3[0], pair3[1]]\n",
    "tf_idf_vectors = get_tf_idf_vectors(corpus)"
   ]
  },
  {
   "cell_type": "code",
   "execution_count": 9,
   "id": "e8427155-9bff-4095-83c7-a24093740669",
   "metadata": {},
   "outputs": [
    {
     "name": "stderr",
     "output_type": "stream",
     "text": [
      "/Users/LNonyane/virtualenvs/nlp-workshop/env-nlp-workshop/lib/python3.9/site-packages/sklearn/utils/validation.py:727: FutureWarning: np.matrix usage is deprecated in 1.0 and will raise a TypeError in 1.2. Please convert to a numpy array with np.asarray. For more information see: https://numpy.org/doc/stable/reference/generated/numpy.matrix.html\n",
      "  warnings.warn(\n",
      "/Users/LNonyane/virtualenvs/nlp-workshop/env-nlp-workshop/lib/python3.9/site-packages/sklearn/utils/validation.py:727: FutureWarning: np.matrix usage is deprecated in 1.0 and will raise a TypeError in 1.2. Please convert to a numpy array with np.asarray. For more information see: https://numpy.org/doc/stable/reference/generated/numpy.matrix.html\n",
      "  warnings.warn(\n"
     ]
    },
    {
     "data": {
      "text/plain": [
       "array([[0.3082764]])"
      ]
     },
     "execution_count": 9,
     "metadata": {},
     "output_type": "execute_result"
    }
   ],
   "source": [
    "# Check the cosine similarity between the initial two texts\n",
    "cosine_similarity(tf_idf_vectors[0], tf_idf_vectors[1])"
   ]
  },
  {
   "cell_type": "code",
   "execution_count": 10,
   "id": "fe0d88ca-5400-4d5f-ab97-990552196655",
   "metadata": {},
   "outputs": [
    {
     "name": "stderr",
     "output_type": "stream",
     "text": [
      "/Users/LNonyane/virtualenvs/nlp-workshop/env-nlp-workshop/lib/python3.9/site-packages/sklearn/utils/validation.py:727: FutureWarning: np.matrix usage is deprecated in 1.0 and will raise a TypeError in 1.2. Please convert to a numpy array with np.asarray. For more information see: https://numpy.org/doc/stable/reference/generated/numpy.matrix.html\n",
      "  warnings.warn(\n",
      "/Users/LNonyane/virtualenvs/nlp-workshop/env-nlp-workshop/lib/python3.9/site-packages/sklearn/utils/validation.py:727: FutureWarning: np.matrix usage is deprecated in 1.0 and will raise a TypeError in 1.2. Please convert to a numpy array with np.asarray. For more information see: https://numpy.org/doc/stable/reference/generated/numpy.matrix.html\n",
      "  warnings.warn(\n"
     ]
    },
    {
     "data": {
      "text/plain": [
       "array([[0.]])"
      ]
     },
     "execution_count": 10,
     "metadata": {},
     "output_type": "execute_result"
    }
   ],
   "source": [
    "# Check the cosine similarity between the third and fourth texts\n",
    "cosine_similarity(tf_idf_vectors[2], tf_idf_vectors[3])"
   ]
  },
  {
   "cell_type": "code",
   "execution_count": 11,
   "id": "84b26847-40e2-4240-8d0c-dc4d6e8d5648",
   "metadata": {},
   "outputs": [
    {
     "name": "stderr",
     "output_type": "stream",
     "text": [
      "/Users/LNonyane/virtualenvs/nlp-workshop/env-nlp-workshop/lib/python3.9/site-packages/sklearn/utils/validation.py:727: FutureWarning: np.matrix usage is deprecated in 1.0 and will raise a TypeError in 1.2. Please convert to a numpy array with np.asarray. For more information see: https://numpy.org/doc/stable/reference/generated/numpy.matrix.html\n",
      "  warnings.warn(\n",
      "/Users/LNonyane/virtualenvs/nlp-workshop/env-nlp-workshop/lib/python3.9/site-packages/sklearn/utils/validation.py:727: FutureWarning: np.matrix usage is deprecated in 1.0 and will raise a TypeError in 1.2. Please convert to a numpy array with np.asarray. For more information see: https://numpy.org/doc/stable/reference/generated/numpy.matrix.html\n",
      "  warnings.warn(\n"
     ]
    },
    {
     "data": {
      "text/plain": [
       "array([[0.80368547]])"
      ]
     },
     "execution_count": 11,
     "metadata": {},
     "output_type": "execute_result"
    }
   ],
   "source": [
    "# Check the cosine similarity between the fifth and sixth texts\n",
    "cosine_similarity(tf_idf_vectors[4], tf_idf_vectors[5])"
   ]
  },
  {
   "cell_type": "markdown",
   "id": "e6c1281a-cc9a-40d5-af7a-108462da6efa",
   "metadata": {},
   "source": [
    "So, in this exercise, we learned how to check the similarity between texts. As you can see, the texts \"He is desperate\" and \"Is he not desperate?\" returned similarity results of 0.80 (meaning they are highly similar), whereas sentences such as \"Once upon a time there lived a king.\" and \"Who is your queen?\" returned zero as their similarity measure."
   ]
  },
  {
   "cell_type": "code",
   "execution_count": null,
   "id": "4916ec2d-5c19-4c21-bcb8-676cba324b4d",
   "metadata": {},
   "outputs": [],
   "source": []
  }
 ],
 "metadata": {
  "kernelspec": {
   "display_name": "Python 3 (ipykernel)",
   "language": "python",
   "name": "python3"
  },
  "language_info": {
   "codemirror_mode": {
    "name": "ipython",
    "version": 3
   },
   "file_extension": ".py",
   "mimetype": "text/x-python",
   "name": "python",
   "nbconvert_exporter": "python",
   "pygments_lexer": "ipython3",
   "version": "3.9.5"
  }
 },
 "nbformat": 4,
 "nbformat_minor": 5
}
