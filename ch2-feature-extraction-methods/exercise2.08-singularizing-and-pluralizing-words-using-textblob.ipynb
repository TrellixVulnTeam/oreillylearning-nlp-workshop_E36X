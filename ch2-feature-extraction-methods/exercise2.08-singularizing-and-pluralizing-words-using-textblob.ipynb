{
 "cells": [
  {
   "cell_type": "markdown",
   "id": "75d0f0aa-4f40-4019-8d87-c33b11daae54",
   "metadata": {},
   "source": [
    "### Exercise 2.08: Singularizing and Pluralizing Words\n",
    "In this exercise, we will make use of the textblob library to singularize and pluralize words in the given text."
   ]
  },
  {
   "cell_type": "code",
   "execution_count": 1,
   "id": "ba44f25d-0d94-47fe-a046-b5c450a6631c",
   "metadata": {},
   "outputs": [],
   "source": [
    "from textblob import TextBlob\n",
    "sentence = TextBlob('She sells seashells on the seashore')"
   ]
  },
  {
   "cell_type": "code",
   "execution_count": 2,
   "id": "fe001dcd-e564-4751-b2e8-a46557b72503",
   "metadata": {},
   "outputs": [
    {
     "data": {
      "text/plain": [
       "WordList(['She', 'sells', 'seashells', 'on', 'the', 'seashore'])"
      ]
     },
     "execution_count": 2,
     "metadata": {},
     "output_type": "execute_result"
    }
   ],
   "source": [
    "#  List of words in sentence\n",
    "sentence.words"
   ]
  },
  {
   "cell_type": "code",
   "execution_count": 3,
   "id": "282ae391-9b00-48e6-98c5-44b7b27d23f1",
   "metadata": {},
   "outputs": [
    {
     "data": {
      "text/plain": [
       "'seashell'"
      ]
     },
     "execution_count": 3,
     "metadata": {},
     "output_type": "execute_result"
    }
   ],
   "source": [
    "# singularize third word in sentence\n",
    "def singularize(word):\n",
    "    return word.singularize()\n",
    "singularize(sentence.words[2])"
   ]
  },
  {
   "cell_type": "code",
   "execution_count": 5,
   "id": "118cbca0-facc-4d6d-a1c9-a09d9affc4a1",
   "metadata": {},
   "outputs": [
    {
     "data": {
      "text/plain": [
       "'seashores'"
      ]
     },
     "execution_count": 5,
     "metadata": {},
     "output_type": "execute_result"
    }
   ],
   "source": [
    "# pluralize sixth word in sentence\n",
    "def pluralize(word):\n",
    "    return word.pluralize()\n",
    "pluralize(sentence.words[5])"
   ]
  },
  {
   "cell_type": "code",
   "execution_count": null,
   "id": "75284f50-e1f0-4a53-86f2-6551bf803535",
   "metadata": {},
   "outputs": [],
   "source": []
  }
 ],
 "metadata": {
  "kernelspec": {
   "display_name": "Python 3 (ipykernel)",
   "language": "python",
   "name": "python3"
  },
  "language_info": {
   "codemirror_mode": {
    "name": "ipython",
    "version": 3
   },
   "file_extension": ".py",
   "mimetype": "text/x-python",
   "name": "python",
   "nbconvert_exporter": "python",
   "pygments_lexer": "ipython3",
   "version": "3.9.5"
  }
 },
 "nbformat": 4,
 "nbformat_minor": 5
}
