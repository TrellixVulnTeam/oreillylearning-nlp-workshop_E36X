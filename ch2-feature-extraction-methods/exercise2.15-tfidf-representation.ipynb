{
 "cells": [
  {
   "cell_type": "markdown",
   "id": "67934aef-28a2-4a7b-ac54-d04a873a6c50",
   "metadata": {},
   "source": [
    "### Exercise 2.15: TFIDF Representation\n",
    "\n",
    "In this exercise, we will represent the input texts with their TFIDF vectors. We will use a sklearn module named TfidfVectorizer, which converts text into TFIDF vectors."
   ]
  },
  {
   "cell_type": "code",
   "execution_count": 1,
   "id": "7ab42c9c-bb2b-4ebe-b84b-7342a0e2634c",
   "metadata": {},
   "outputs": [],
   "source": [
    "from sklearn.feature_extraction.text import TfidfVectorizer\n",
    "def get_tf_idf_vectors(corpus):\n",
    "    tfidf_model = TfidfVectorizer()\n",
    "    vector_list = tfidf_model.fit_transform(corpus).todense()\n",
    "    return vector_list"
   ]
  },
  {
   "cell_type": "code",
   "execution_count": 4,
   "id": "818c69d1-14b5-416d-90fe-881ce008e948",
   "metadata": {},
   "outputs": [
    {
     "name": "stdout",
     "output_type": "stream",
     "text": [
      "[[0.38692324 0.30505473 0.         0.         0.24696809 0.\n",
      "  0.         0.38692324 0.         0.         0.30505473 0.\n",
      "  0.         0.         0.         0.         0.30505473 0.\n",
      "  0.         0.         0.         0.38692324 0.         0.\n",
      "  0.         0.24696809 0.38692324 0.        ]\n",
      " [0.         0.         0.24687663 0.49375326 0.15757815 0.\n",
      "  0.         0.         0.         0.49375326 0.         0.\n",
      "  0.         0.24687663 0.49375326 0.         0.         0.\n",
      "  0.24687663 0.         0.         0.         0.         0.\n",
      "  0.24687663 0.         0.         0.        ]\n",
      " [0.         0.27144011 0.         0.         0.21975416 0.34428736\n",
      "  0.34428736 0.         0.34428736 0.         0.         0.34428736\n",
      "  0.34428736 0.         0.         0.34428736 0.         0.\n",
      "  0.         0.         0.         0.         0.         0.\n",
      "  0.         0.21975416 0.         0.34428736]\n",
      " [0.         0.         0.         0.         0.         0.\n",
      "  0.         0.         0.         0.         0.30571917 0.\n",
      "  0.         0.         0.         0.         0.30571917 0.387766\n",
      "  0.         0.387766   0.387766   0.         0.387766   0.387766\n",
      "  0.         0.24750601 0.         0.        ]]\n"
     ]
    }
   ],
   "source": [
    "corpus = ['Data Sience is an overlap between Arts and Science', 'Generally, Arts graduates are right-brained and'\\\n",
    "'Science graduates are left-brained', 'Excelling in both Arts and Science at a time becomes difficult',\\\n",
    "'Natural Language Processing is a part of Data Science']\n",
    "vector_list = get_tf_idf_vectors(corpus)\n",
    "print(vector_list)"
   ]
  },
  {
   "cell_type": "code",
   "execution_count": null,
   "id": "1743dd93-0cfd-464a-8518-7c10fc9f1849",
   "metadata": {},
   "outputs": [],
   "source": []
  }
 ],
 "metadata": {
  "kernelspec": {
   "display_name": "Python 3 (ipykernel)",
   "language": "python",
   "name": "python3"
  },
  "language_info": {
   "codemirror_mode": {
    "name": "ipython",
    "version": 3
   },
   "file_extension": ".py",
   "mimetype": "text/x-python",
   "name": "python",
   "nbconvert_exporter": "python",
   "pygments_lexer": "ipython3",
   "version": "3.9.5"
  }
 },
 "nbformat": 4,
 "nbformat_minor": 5
}
