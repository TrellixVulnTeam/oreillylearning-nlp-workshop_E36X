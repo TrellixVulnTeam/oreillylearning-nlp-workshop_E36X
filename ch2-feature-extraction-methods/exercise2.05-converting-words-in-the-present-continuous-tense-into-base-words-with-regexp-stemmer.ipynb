{
 "cells": [
  {
   "cell_type": "markdown",
   "id": "5b643603-683c-42b6-9088-b824da7987f1",
   "metadata": {},
   "source": [
    "### Exercise 2.05: Converting Words in the Present Continuous Tense into Base Words with RegexpStemmer\n",
    "In this exercise, we will use RegexpStemmer on text to convert words into their basic form by removing some generic suffixes such as \"ing\" and \"ed\". To use nltk's regex_stemmer, we have to create an object of RegexpStemmer by passing the regex of the suffix or prefix and an integer, min, which indicates the minimum length of the stemmed string."
   ]
  },
  {
   "cell_type": "code",
   "execution_count": 1,
   "id": "0282edfb-bc72-4c24-a5e0-5f2069e4ffc7",
   "metadata": {},
   "outputs": [],
   "source": [
    "from nltk.stem import RegexpStemmer"
   ]
  },
  {
   "cell_type": "code",
   "execution_count": 2,
   "id": "7f67bf83-a13e-421b-8dab-7668cc118b80",
   "metadata": {},
   "outputs": [
    {
     "data": {
      "text/plain": [
       "'I love play football'"
      ]
     },
     "execution_count": 2,
     "metadata": {},
     "output_type": "execute_result"
    }
   ],
   "source": [
    "# RegexpStemmer\n",
    "def get_stems(text):\n",
    "    regex_stemmer = RegexpStemmer('ing$', min=4)\n",
    "    # convert every word into it's stem and then join them with space\n",
    "    return ' '.join([regex_stemmer.stem(wd) for wd in text.split()])\n",
    "sentence = 'I love playing football'\n",
    "get_stems(sentence)"
   ]
  },
  {
   "cell_type": "code",
   "execution_count": null,
   "id": "80121eb8-6e80-46e0-a42d-4c27b75b4080",
   "metadata": {},
   "outputs": [],
   "source": []
  }
 ],
 "metadata": {
  "kernelspec": {
   "display_name": "Python 3 (ipykernel)",
   "language": "python",
   "name": "python3"
  },
  "language_info": {
   "codemirror_mode": {
    "name": "ipython",
    "version": 3
   },
   "file_extension": ".py",
   "mimetype": "text/x-python",
   "name": "python",
   "nbconvert_exporter": "python",
   "pygments_lexer": "ipython3",
   "version": "3.9.5"
  }
 },
 "nbformat": 4,
 "nbformat_minor": 5
}
