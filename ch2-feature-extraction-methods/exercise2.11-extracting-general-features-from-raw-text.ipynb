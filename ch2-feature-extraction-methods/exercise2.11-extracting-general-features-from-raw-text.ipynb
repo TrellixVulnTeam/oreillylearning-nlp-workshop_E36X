{
 "cells": [
  {
   "cell_type": "markdown",
   "id": "6a61f087-9f42-46eb-bbb1-83277f8c20fd",
   "metadata": {},
   "source": [
    "### Exercise 2.11: Extracting General Features from Raw Text\n",
    "In this exercise, we will extract general features from input text. These general features include detecting the number of words, the presence of \"wh\" words (words beginning with \"wh\", such as \"what\" and \"why\") and the language in which the text is written."
   ]
  },
  {
   "cell_type": "code",
   "execution_count": 10,
   "id": "b63f65de-c745-4a06-858a-deaf7c9e2ce5",
   "metadata": {},
   "outputs": [],
   "source": [
    "import detectlanguage\n",
    "detectlanguage.configuration.api_key = \"3a7dca7da5ffe91458c2ad441b6610f9\""
   ]
  },
  {
   "cell_type": "code",
   "execution_count": 1,
   "id": "c6471712-36e9-4dbd-a5fc-944313bbfcb4",
   "metadata": {},
   "outputs": [
    {
     "data": {
      "text/html": [
       "<div>\n",
       "<style scoped>\n",
       "    .dataframe tbody tr th:only-of-type {\n",
       "        vertical-align: middle;\n",
       "    }\n",
       "\n",
       "    .dataframe tbody tr th {\n",
       "        vertical-align: top;\n",
       "    }\n",
       "\n",
       "    .dataframe thead th {\n",
       "        text-align: right;\n",
       "    }\n",
       "</style>\n",
       "<table border=\"1\" class=\"dataframe\">\n",
       "  <thead>\n",
       "    <tr style=\"text-align: right;\">\n",
       "      <th></th>\n",
       "      <th>text</th>\n",
       "    </tr>\n",
       "  </thead>\n",
       "  <tbody>\n",
       "    <tr>\n",
       "      <th>0</th>\n",
       "      <td>The interim budget for 2019 will be announced ...</td>\n",
       "    </tr>\n",
       "    <tr>\n",
       "      <th>1</th>\n",
       "      <td>Do you know how much expectation the middle-cl...</td>\n",
       "    </tr>\n",
       "    <tr>\n",
       "      <th>2</th>\n",
       "      <td>February is the shortest month in a year.</td>\n",
       "    </tr>\n",
       "    <tr>\n",
       "      <th>3</th>\n",
       "      <td>This financial year will end on 31st March.</td>\n",
       "    </tr>\n",
       "  </tbody>\n",
       "</table>\n",
       "</div>"
      ],
      "text/plain": [
       "                                                text\n",
       "0  The interim budget for 2019 will be announced ...\n",
       "1  Do you know how much expectation the middle-cl...\n",
       "2          February is the shortest month in a year.\n",
       "3        This financial year will end on 31st March."
      ]
     },
     "execution_count": 1,
     "metadata": {},
     "output_type": "execute_result"
    }
   ],
   "source": [
    "import pandas as pd\n",
    "from textblob import TextBlob\n",
    "df =  pd.DataFrame([['The interim budget for 2019 will be announced on 1st February.'],\n",
    "                   ['Do you know how much expectation the middle-class working population is having from this budget?'],\n",
    "                   ['February is the shortest month in a year.'],\n",
    "                   ['This financial year will end on 31st March.']])\n",
    "df.columns = ['text']\n",
    "df.head()"
   ]
  },
  {
   "cell_type": "code",
   "execution_count": 2,
   "id": "419e1ce8-5b39-449e-bef9-28fb4e9d18f7",
   "metadata": {},
   "outputs": [
    {
     "data": {
      "text/plain": [
       "0    11\n",
       "1    15\n",
       "2     8\n",
       "3     8\n",
       "Name: number_of_words, dtype: int64"
      ]
     },
     "execution_count": 2,
     "metadata": {},
     "output_type": "execute_result"
    }
   ],
   "source": [
    "def add_num_words(df):\n",
    "    df['number_of_words'] = df['text'].apply(lambda x : len(TextBlob(str(x)).words))\n",
    "    return df\n",
    "add_num_words(df)['number_of_words']"
   ]
  },
  {
   "cell_type": "raw",
   "id": "72f69ef7-a097-4762-8f74-b675915be91c",
   "metadata": {},
   "source": [
    "Use the apply() function to iterate through each row of the column text, convert them into TextBlob objects, and extract words from them."
   ]
  },
  {
   "cell_type": "code",
   "execution_count": 3,
   "id": "5d180ee5-4ab9-4a15-aed1-c2cfb980fb67",
   "metadata": {},
   "outputs": [
    {
     "data": {
      "text/plain": [
       "0    11\n",
       "1    15\n",
       "2     8\n",
       "3     8\n",
       "Name: number_of_words, dtype: int64"
      ]
     },
     "execution_count": 3,
     "metadata": {},
     "output_type": "execute_result"
    }
   ],
   "source": [
    "def add_num_words(df):\n",
    "    df['number_of_words'] = df['text'].apply(lambda x : len(TextBlob(str(x)).words))\n",
    "    return df\n",
    "add_num_words(df)['number_of_words']"
   ]
  },
  {
   "cell_type": "code",
   "execution_count": 4,
   "id": "32d3ab5c-02bd-455c-a67a-9f3c42f96c3f",
   "metadata": {},
   "outputs": [
    {
     "data": {
      "text/html": [
       "<div>\n",
       "<style scoped>\n",
       "    .dataframe tbody tr th:only-of-type {\n",
       "        vertical-align: middle;\n",
       "    }\n",
       "\n",
       "    .dataframe tbody tr th {\n",
       "        vertical-align: top;\n",
       "    }\n",
       "\n",
       "    .dataframe thead th {\n",
       "        text-align: right;\n",
       "    }\n",
       "</style>\n",
       "<table border=\"1\" class=\"dataframe\">\n",
       "  <thead>\n",
       "    <tr style=\"text-align: right;\">\n",
       "      <th></th>\n",
       "      <th>text</th>\n",
       "      <th>number_of_words</th>\n",
       "    </tr>\n",
       "  </thead>\n",
       "  <tbody>\n",
       "    <tr>\n",
       "      <th>0</th>\n",
       "      <td>The interim budget for 2019 will be announced ...</td>\n",
       "      <td>11</td>\n",
       "    </tr>\n",
       "    <tr>\n",
       "      <th>1</th>\n",
       "      <td>Do you know how much expectation the middle-cl...</td>\n",
       "      <td>15</td>\n",
       "    </tr>\n",
       "    <tr>\n",
       "      <th>2</th>\n",
       "      <td>February is the shortest month in a year.</td>\n",
       "      <td>8</td>\n",
       "    </tr>\n",
       "    <tr>\n",
       "      <th>3</th>\n",
       "      <td>This financial year will end on 31st March.</td>\n",
       "      <td>8</td>\n",
       "    </tr>\n",
       "  </tbody>\n",
       "</table>\n",
       "</div>"
      ],
      "text/plain": [
       "                                                text  number_of_words\n",
       "0  The interim budget for 2019 will be announced ...               11\n",
       "1  Do you know how much expectation the middle-cl...               15\n",
       "2          February is the shortest month in a year.                8\n",
       "3        This financial year will end on 31st March.                8"
      ]
     },
     "execution_count": 4,
     "metadata": {},
     "output_type": "execute_result"
    }
   ],
   "source": [
    "df.head()"
   ]
  },
  {
   "cell_type": "raw",
   "id": "e28283aa-d544-432f-bfed-c6b2b8b99e1f",
   "metadata": {},
   "source": [
    "Use the apply() function to iterate through each row of the column text, convert the text into TextBlob objects, and extract the words from them to check whether any of them belong to the list of \"wh\" words that has been declared. "
   ]
  },
  {
   "cell_type": "code",
   "execution_count": 7,
   "id": "d1570831-f3a5-4929-8534-d36b86fb604e",
   "metadata": {},
   "outputs": [
    {
     "data": {
      "text/plain": [
       "0    False\n",
       "1     True\n",
       "2    False\n",
       "3    False\n",
       "Name: is_wh_words_present, dtype: bool"
      ]
     },
     "execution_count": 7,
     "metadata": {},
     "output_type": "execute_result"
    }
   ],
   "source": [
    "def is_present(wh_words, df):\n",
    "    # Find and check intersection between set of tokens of every sentence and wh_words; Return true if length of intersection set is non-zero.\n",
    "    df['is_wh_words_present'] = df['text'].apply(lambda x : True if len(set(TextBlob(str(x)).words).intersection(wh_words)) >0 else False)\n",
    "    return df\n",
    "wh_words = set(['why', 'who', 'which', 'what', 'where', 'where', 'how'])\n",
    "is_present(wh_words, df)['is_wh_words_present']"
   ]
  },
  {
   "cell_type": "raw",
   "id": "a21fa96e-cedb-49c7-95f6-fe73ad0c3e0b",
   "metadata": {},
   "source": [
    "Use the apply() function to iterate through each row of the column text, convert them into TextBlob objects, and detect their languages:"
   ]
  },
  {
   "cell_type": "code",
   "execution_count": 16,
   "id": "2c86a064-ecac-4d92-847d-988a2cf00bde",
   "metadata": {},
   "outputs": [
    {
     "data": {
      "text/plain": [
       "0    [{'language': 'en', 'isReliable': True, 'confi...\n",
       "1    [{'language': 'en', 'isReliable': True, 'confi...\n",
       "2    [{'language': 'en', 'isReliable': True, 'confi...\n",
       "3    [{'language': 'en', 'isReliable': True, 'confi...\n",
       "Name: language, dtype: object"
      ]
     },
     "execution_count": 16,
     "metadata": {},
     "output_type": "execute_result"
    }
   ],
   "source": [
    "def get_language(df):\n",
    "    df['language'] = df['text'].apply(lambda x : detectlanguage.detect(x))\n",
    "    return df\n",
    "get_language(df)['language']"
   ]
  },
  {
   "cell_type": "code",
   "execution_count": null,
   "id": "4ebe05c8-e513-4ecd-8dbc-c7092fcc1bd0",
   "metadata": {},
   "outputs": [],
   "source": []
  }
 ],
 "metadata": {
  "kernelspec": {
   "display_name": "Python 3 (ipykernel)",
   "language": "python",
   "name": "python3"
  },
  "language_info": {
   "codemirror_mode": {
    "name": "ipython",
    "version": 3
   },
   "file_extension": ".py",
   "mimetype": "text/x-python",
   "name": "python",
   "nbconvert_exporter": "python",
   "pygments_lexer": "ipython3",
   "version": "3.9.5"
  }
 },
 "nbformat": 4,
 "nbformat_minor": 5
}
