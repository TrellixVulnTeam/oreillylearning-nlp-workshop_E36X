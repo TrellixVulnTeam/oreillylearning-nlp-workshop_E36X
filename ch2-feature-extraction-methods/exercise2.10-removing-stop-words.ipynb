{
 "cells": [
  {
   "cell_type": "markdown",
   "id": "a470de22-bf89-408e-afe2-9246198e8f83",
   "metadata": {},
   "source": [
    "### Exercise 2.10: Removing Stop Words from Text"
   ]
  },
  {
   "cell_type": "code",
   "execution_count": 1,
   "id": "a8b5cc2f-7a7c-4fa6-b071-e78cbc41ecd5",
   "metadata": {},
   "outputs": [],
   "source": [
    "from nltk import word_tokenize\n",
    "sentence = 'She sells seashells on the seashore'"
   ]
  },
  {
   "cell_type": "code",
   "execution_count": 3,
   "id": "2e0e36c9-ffe9-4a9c-8ee3-ad30e5028c22",
   "metadata": {},
   "outputs": [
    {
     "data": {
      "text/plain": [
       "'sells seashells seashore'"
      ]
     },
     "execution_count": 3,
     "metadata": {},
     "output_type": "execute_result"
    }
   ],
   "source": [
    "# Remove cusstom list of words from sentence\n",
    "def remove_stop_words(text, stop_word_list):\n",
    "    return ' '.join([word for word in word_tokenize(text) if word.lower() not in stop_word_list])\n",
    "custom_stop_word_list = ['she', 'on', 'the', 'am', 'is', 'not']\n",
    "remove_stop_words(sentence, custom_stop_word_list)"
   ]
  },
  {
   "cell_type": "code",
   "execution_count": null,
   "id": "12dc2619-096a-4326-9931-90584e6e65df",
   "metadata": {},
   "outputs": [],
   "source": []
  }
 ],
 "metadata": {
  "kernelspec": {
   "display_name": "Python 3 (ipykernel)",
   "language": "python",
   "name": "python3"
  },
  "language_info": {
   "codemirror_mode": {
    "name": "ipython",
    "version": 3
   },
   "file_extension": ".py",
   "mimetype": "text/x-python",
   "name": "python",
   "nbconvert_exporter": "python",
   "pygments_lexer": "ipython3",
   "version": "3.9.5"
  }
 },
 "nbformat": 4,
 "nbformat_minor": 5
}
