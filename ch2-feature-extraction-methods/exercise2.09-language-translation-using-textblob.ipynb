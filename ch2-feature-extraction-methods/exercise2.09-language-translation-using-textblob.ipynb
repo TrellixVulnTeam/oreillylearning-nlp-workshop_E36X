{
 "cells": [
  {
   "cell_type": "markdown",
   "id": "61e09eaa-9a9c-42ce-8e0c-8b2a5048c346",
   "metadata": {},
   "source": [
    "### Exercise 2.09: Language Translation"
   ]
  },
  {
   "cell_type": "code",
   "execution_count": 1,
   "id": "0df5717f-f9bd-4762-9464-d6662be0667c",
   "metadata": {},
   "outputs": [],
   "source": [
    "from textblob import TextBlob"
   ]
  },
  {
   "cell_type": "code",
   "execution_count": 2,
   "id": "d34553d0-bc4b-4156-b100-86810ceb56e4",
   "metadata": {},
   "outputs": [
    {
     "data": {
      "text/plain": [
       "TextBlob(\"very good\")"
      ]
     },
     "execution_count": 2,
     "metadata": {},
     "output_type": "execute_result"
    }
   ],
   "source": [
    "def translate(text, from_language, to_language):\n",
    "    en_blob = TextBlob(text)\n",
    "    return en_blob.translate(from_lang=from_language, to=to_language)\n",
    "translate(text='muy bien', from_language='es', to_language='en')"
   ]
  },
  {
   "cell_type": "code",
   "execution_count": null,
   "id": "d1497d00-db1c-45bd-8f42-31ada2652ff5",
   "metadata": {},
   "outputs": [],
   "source": []
  }
 ],
 "metadata": {
  "kernelspec": {
   "display_name": "Python 3 (ipykernel)",
   "language": "python",
   "name": "python3"
  },
  "language_info": {
   "codemirror_mode": {
    "name": "ipython",
    "version": 3
   },
   "file_extension": ".py",
   "mimetype": "text/x-python",
   "name": "python",
   "nbconvert_exporter": "python",
   "pygments_lexer": "ipython3",
   "version": "3.9.5"
  }
 },
 "nbformat": 4,
 "nbformat_minor": 5
}
