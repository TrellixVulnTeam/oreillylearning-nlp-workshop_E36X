{
 "cells": [
  {
   "cell_type": "markdown",
   "id": "128cea36-f3eb-41f2-a3da-18e2205eb011",
   "metadata": {},
   "source": [
    "### Exercise 2.14: Zipf's Law\n",
    "In this exercise, we will plot both the expected and actual ranks and frequencies of tokens with the help of Zipf's law. We will be using the 20newsgroups dataset provided by the sklearn library, which is a collection of newsgroup documents."
   ]
  },
  {
   "cell_type": "code",
   "execution_count": 9,
   "id": "1e9d9c73-bc66-448c-b30c-da37c0da2b40",
   "metadata": {},
   "outputs": [
    {
     "name": "stderr",
     "output_type": "stream",
     "text": [
      "[nltk_data] Downloading package stopwords to\n",
      "[nltk_data]     /Users/LNonyane/nltk_data...\n",
      "[nltk_data]   Package stopwords is already up-to-date!\n"
     ]
    }
   ],
   "source": [
    "import nltk\n",
    "nltk.download('stopwords')\n",
    "from sklearn.datasets import fetch_20newsgroups\n",
    "from nltk import word_tokenize\n",
    "from nltk.corpus import stopwords\n",
    "import matplotlib.pyplot as plt\n",
    "import re\n",
    "import string\n",
    "from collections import Counter\n",
    "import numpy as np"
   ]
  },
  {
   "cell_type": "code",
   "execution_count": 2,
   "id": "3a2cc31a-d194-4e0a-8e4e-a5cbf90a3c89",
   "metadata": {},
   "outputs": [],
   "source": [
    "# methods for loading stop words and the data from the newsgroup_data_sample variable\n",
    "def get_stop_words():\n",
    "    stop_words = stopwords.words('english')\n",
    "    stop_words = stop_words + list(string.printable) \n",
    "    return stop_words\n",
    "\n",
    "# In Python, string.printable will give the all sets of punctuation, digits, ascii_letters and whitespace.\n",
    "# 0123456789abcdefghijklmnopqrstuvwxyzABCDEFGHIJKLMNOPQRSTUVWXYZ!\"#$%&'()*+, -./:;<=>?@[\\]^_`{|}~ \n",
    "\n",
    "def get_and_prepare_data(stop_words):\n",
    "    \"\"\"\n",
    "    This method will load 20newsgroupdata and remove stop words from it using the given stop word list\n",
    "    :param stop_words:\n",
    "    :return:\n",
    "    \"\"\"\n",
    "    newsgroups_data_sample = fetch_20newsgroups(subset='train')\n",
    "    tokenized_corpus = [word.lower() for sentence in newsgroups_data_sample['data'] for word in word_tokenize(re.sub(r'([^\\s\\w]|_)+', ' ', sentence)) if word.lower() not in stop_words]\n",
    "    return tokenized_corpus"
   ]
  },
  {
   "cell_type": "code",
   "execution_count": 3,
   "id": "8f9ba695-8196-4937-acb4-ce7b372ba421",
   "metadata": {},
   "outputs": [],
   "source": [
    "# calculate frequency of each token:\n",
    "def get_frequency(corpus, n):\n",
    "    token_count_di = Counter(corpus)\n",
    "    return token_count_di.most_common(n)"
   ]
  },
  {
   "cell_type": "raw",
   "id": "38e72773-6026-4ef2-bb11-5a32d0daea21",
   "metadata": {},
   "source": [
    "The preceding method uses the Counter class to count the frequency of tokens in the corpus and then return the most common n tokens."
   ]
  },
  {
   "cell_type": "code",
   "execution_count": 5,
   "id": "e3892633-2def-4019-ac38-4853322f740e",
   "metadata": {},
   "outputs": [],
   "source": [
    "import ssl\n",
    "\n",
    "try:\n",
    "    _create_unverified_https_context = ssl._create_unverified_context\n",
    "except AttributeError:\n",
    "    # Legacy Python that doesn't verify HTTPS certificates by default\n",
    "    pass\n",
    "else:\n",
    "    # Handle target environment that doesn't support HTTPS verification\n",
    "    ssl._create_default_https_context = _create_unverified_https_context"
   ]
  },
  {
   "cell_type": "code",
   "execution_count": 6,
   "id": "d655be56-b3dd-4389-933a-2f4d9bdbc5ca",
   "metadata": {
    "collapsed": true,
    "jupyter": {
     "outputs_hidden": true
    },
    "tags": []
   },
   "outputs": [
    {
     "data": {
      "text/plain": [
       "[('ax', 62412),\n",
       " ('edu', 21321),\n",
       " ('subject', 12265),\n",
       " ('com', 12134),\n",
       " ('lines', 11835),\n",
       " ('organization', 11233),\n",
       " ('one', 9017),\n",
       " ('would', 8910),\n",
       " ('writes', 7844),\n",
       " ('article', 7438),\n",
       " ('people', 5977),\n",
       " ('like', 5868),\n",
       " ('university', 5589),\n",
       " ('posting', 5507),\n",
       " ('know', 5134),\n",
       " ('get', 4998),\n",
       " ('host', 4996),\n",
       " ('nntp', 4814),\n",
       " ('max', 4776),\n",
       " ('think', 4583),\n",
       " ('also', 4308),\n",
       " ('use', 4187),\n",
       " ('time', 4102),\n",
       " ('new', 3986),\n",
       " ('good', 3759),\n",
       " ('ca', 3546),\n",
       " ('could', 3511),\n",
       " ('well', 3480),\n",
       " ('us', 3364),\n",
       " ('may', 3313),\n",
       " ('even', 3280),\n",
       " ('see', 3065),\n",
       " ('cs', 3041),\n",
       " ('two', 3015),\n",
       " ('way', 3002),\n",
       " ('god', 2998),\n",
       " ('first', 2976),\n",
       " ('many', 2945),\n",
       " ('make', 2894),\n",
       " ('much', 2879),\n",
       " ('system', 2817),\n",
       " ('distribution', 2767),\n",
       " ('right', 2742),\n",
       " ('world', 2724),\n",
       " ('say', 2706),\n",
       " ('want', 2522),\n",
       " ('go', 2474),\n",
       " ('anyone', 2468),\n",
       " ('10', 2466),\n",
       " ('reply', 2463)]"
      ]
     },
     "execution_count": 6,
     "metadata": {},
     "output_type": "execute_result"
    }
   ],
   "source": [
    "# call preceeding methods to calculate the frequency of top 50 most frequent tokens:\n",
    "stop_word_list = get_stop_words() # get stop words\n",
    "corpus = get_and_prepare_data(stop_word_list) # removing stop words\n",
    "get_frequency(corpus, 50)"
   ]
  },
  {
   "cell_type": "raw",
   "id": "1021e952-49ba-4d60-ac7c-d1887263aa93",
   "metadata": {},
   "source": [
    "Plot the actual ranks of words that we got from frequency dictionary and the ranks expected as per Zipf's law. Calculate the frequencies of the top 10,000 words using the preceding get_frequency() method and the expected frequencies of the same list using Zipf's law. For this, create two lists—an actual_frequencies and an expected_frequencies list. Use the log of actual frequencies to downscale the numbers. After getting the actual and expected frequencies, plot them using matplotlib"
   ]
  },
  {
   "cell_type": "code",
   "execution_count": 12,
   "id": "9557c75e-da21-48f4-b80d-08d1e9377af1",
   "metadata": {},
   "outputs": [
    {
     "data": {
      "image/png": "[encoded data removed]",
      "text/plain": [
       "<Figure size 432x288 with 1 Axes>"
      ]
     },
     "metadata": {
      "needs_background": "light"
     },
     "output_type": "display_data"
    }
   ],
   "source": [
    "def get_actual_and_expected_frequencies(corpus):\n",
    "    freq_dict = get_frequency(corpus, 1000)\n",
    "    actual_frequencies = []\n",
    "    expected_frequencies = []\n",
    "    for rank, tup in enumerate(freq_dict):\n",
    "        actual_frequencies.append(np.log(tup[1]))\n",
    "        rank = 1 if rank == 0 else rank\n",
    "        # expected frequency 1/rank as per zipf's law\n",
    "        expected_frequencies.append(1/rank)\n",
    "    return actual_frequencies, expected_frequencies\n",
    "\n",
    "def plot(actual_frequencies, expected_frequencies):\n",
    "    plt.plot(actual_frequencies, 'g*', expected_frequencies, 'ro')\n",
    "    plt.show()\n",
    "    \n",
    "# We will plot the actual and expected frequencies\n",
    "actual_frequencies, expected_frequencies = get_actual_and_expected_frequencies(corpus)\n",
    "plot(actual_frequencies, expected_frequencies)"
   ]
  },
  {
   "cell_type": "raw",
   "id": "38448f44-6a43-48b0-9029-2a1f32d30b90",
   "metadata": {},
   "source": [
    "So, as we can see from the preceding output, both lines have almost the same slope. In other words, we can say that the lines (or graphs) depict the proportionality of two lists."
   ]
  },
  {
   "cell_type": "code",
   "execution_count": null,
   "id": "34d8068f-235e-452a-b717-27427e5ea9a5",
   "metadata": {},
   "outputs": [],
   "source": []
  }
 ],
 "metadata": {
  "kernelspec": {
   "display_name": "Python 3 (ipykernel)",
   "language": "python",
   "name": "python3"
  },
  "language_info": {
   "codemirror_mode": {
    "name": "ipython",
    "version": 3
   },
   "file_extension": ".py",
   "mimetype": "text/x-python",
   "name": "python",
   "nbconvert_exporter": "python",
   "pygments_lexer": "ipython3",
   "version": "3.9.5"
  }
 },
 "nbformat": 4,
 "nbformat_minor": 5
}
