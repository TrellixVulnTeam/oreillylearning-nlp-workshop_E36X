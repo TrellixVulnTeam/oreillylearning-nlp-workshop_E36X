{
 "cells": [
  {
   "cell_type": "markdown",
   "id": "497bd040-48bb-4ddf-84ed-46ceb09b5d80",
   "metadata": {},
   "source": [
    "### Exercise 2.07: Performing Lemmatization"
   ]
  },
  {
   "cell_type": "code",
   "execution_count": 1,
   "id": "50343054-7764-4c7e-954c-72a3b346fa40",
   "metadata": {},
   "outputs": [
    {
     "name": "stderr",
     "output_type": "stream",
     "text": [
      "[nltk_data] Downloading package wordnet to\n",
      "[nltk_data]     /Users/LNonyane/nltk_data...\n",
      "[nltk_data]   Package wordnet is already up-to-date!\n",
      "[nltk_data] Downloading package punkt to /Users/LNonyane/nltk_data...\n",
      "[nltk_data]   Package punkt is already up-to-date!\n"
     ]
    }
   ],
   "source": [
    "import nltk\n",
    "from nltk.stem import WordNetLemmatizer\n",
    "from nltk import word_tokenize\n",
    "nltk.download(['wordnet', 'punkt'])\n",
    "sentence = 'The products produced by the process today are far better than what it produces generally.'"
   ]
  },
  {
   "cell_type": "code",
   "execution_count": 2,
   "id": "dc3a9158-d0bb-40b8-bdc4-d0bfabf17609",
   "metadata": {},
   "outputs": [
    {
     "data": {
      "text/plain": [
       "'The product produced by the process today are far better than what it produce generally .'"
      ]
     },
     "execution_count": 2,
     "metadata": {},
     "output_type": "execute_result"
    }
   ],
   "source": [
    "#lemmatizer = WordNetLemmatizer()\n",
    "def get_lemmas(text):\n",
    "    lemmatizer = WordNetLemmatizer()\n",
    "    return ' '.join([lemmatizer.lemmatize(word) for word in word_tokenize(text)])\n",
    "get_lemmas(sentence)"
   ]
  },
  {
   "cell_type": "code",
   "execution_count": null,
   "id": "ae23c999-3e72-40b7-92bf-28a8442c029e",
   "metadata": {},
   "outputs": [],
   "source": []
  }
 ],
 "metadata": {
  "kernelspec": {
   "display_name": "Python 3 (ipykernel)",
   "language": "python",
   "name": "python3"
  },
  "language_info": {
   "codemirror_mode": {
    "name": "ipython",
    "version": 3
   },
   "file_extension": ".py",
   "mimetype": "text/x-python",
   "name": "python",
   "nbconvert_exporter": "python",
   "pygments_lexer": "ipython3",
   "version": "3.9.5"
  }
 },
 "nbformat": 4,
 "nbformat_minor": 5
}
