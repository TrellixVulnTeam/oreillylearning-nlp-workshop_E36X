{
 "cells": [
  {
   "cell_type": "markdown",
   "id": "9659dd3c-46c8-4417-97d1-98b2b255a121",
   "metadata": {
    "tags": []
   },
   "source": [
    "## AI Capstone - Luke J Nonyane"
   ]
  },
  {
   "cell_type": "markdown",
   "id": "5a5d9078-4213-49d8-ae0f-e11e97d68dc1",
   "metadata": {
    "tags": []
   },
   "source": [
    "### DESCRIPTION\n",
    "Problem Statement\n",
    "•\tAmazon is an online shopping website that now caters to millions of people everywhere. Over 34,000 consumer reviews for Amazon brand products like Kindle, Fire TV Stick and more are provided. \n",
    "•\tThe dataset has attributes like brand, categories, primary categories, reviews.title, reviews.text, and the sentiment. Sentiment is a categorical variable with three levels \"Positive\", \"Negative“, and \"Neutral\". For a given unseen data, the sentiment needs to be predicted.\n",
    "•\tYou are required to predict Sentiment or Satisfaction of a purchase based on multiple features and review text."
   ]
  },
  {
   "cell_type": "raw",
   "id": "7a4064f1-617f-460d-8668-8ac832a93e7e",
   "metadata": {},
   "source": [
    "why use pipelines: https://towardsdatascience.com/how-to-use-sklearn-pipelines-for-ridiculously-neat-code-a61ab66ca90d\n",
    "pipelines with xgb: https://towardsdatascience.com/beginners-guide-to-xgboost-for-classification-problems-50f75aac5390"
   ]
  },
  {
   "cell_type": "markdown",
   "id": "d0f63f7d-4237-4162-a3ea-9f2100675121",
   "metadata": {
    "tags": []
   },
   "source": [
    "#### Project Task: Week 1"
   ]
  },
  {
   "cell_type": "markdown",
   "id": "90094ee2-7651-4a5f-ad3e-2542e9a9e598",
   "metadata": {
    "jp-MarkdownHeadingCollapsed": true,
    "tags": []
   },
   "source": [
    "##### EDA - Class Imbalance Problem\n",
    "•\tSee what a positive, negative, and neutral review looks like\n",
    "\n",
    "•\tCheck the class count for each class. It’s a class imbalance problem.\n"
   ]
  },
  {
   "cell_type": "code",
   "execution_count": 1,
   "id": "7c59469d-6742-47ca-868b-d3049191411a",
   "metadata": {
    "tags": []
   },
   "outputs": [
    {
     "name": "stdout",
     "output_type": "stream",
     "text": [
      "(4000, 8) (1000, 8)\n"
     ]
    },
    {
     "data": {
      "text/html": [
       "<div>\n",
       "<style scoped>\n",
       "    .dataframe tbody tr th:only-of-type {\n",
       "        vertical-align: middle;\n",
       "    }\n",
       "\n",
       "    .dataframe tbody tr th {\n",
       "        vertical-align: top;\n",
       "    }\n",
       "\n",
       "    .dataframe thead th {\n",
       "        text-align: right;\n",
       "    }\n",
       "</style>\n",
       "<table border=\"1\" class=\"dataframe\">\n",
       "  <thead>\n",
       "    <tr style=\"text-align: right;\">\n",
       "      <th></th>\n",
       "      <th>name</th>\n",
       "      <th>brand</th>\n",
       "      <th>categories</th>\n",
       "      <th>primaryCategories</th>\n",
       "      <th>reviews.date</th>\n",
       "      <th>reviews.text</th>\n",
       "      <th>reviews.title</th>\n",
       "      <th>sentiment</th>\n",
       "    </tr>\n",
       "  </thead>\n",
       "  <tbody>\n",
       "    <tr>\n",
       "      <th>0</th>\n",
       "      <td>All-New Fire HD 8 Tablet, 8\" HD Display, Wi-Fi...</td>\n",
       "      <td>Amazon</td>\n",
       "      <td>Electronics,iPad &amp; Tablets,All Tablets,Fire Ta...</td>\n",
       "      <td>Electronics</td>\n",
       "      <td>2016-12-26T00:00:00.000Z</td>\n",
       "      <td>Purchased on Black FridayPros - Great Price (e...</td>\n",
       "      <td>Powerful tablet</td>\n",
       "      <td>Positive</td>\n",
       "    </tr>\n",
       "    <tr>\n",
       "      <th>1</th>\n",
       "      <td>Amazon - Echo Plus w/ Built-In Hub - Silver</td>\n",
       "      <td>Amazon</td>\n",
       "      <td>Amazon Echo,Smart Home,Networking,Home &amp; Tools...</td>\n",
       "      <td>Electronics,Hardware</td>\n",
       "      <td>2018-01-17T00:00:00.000Z</td>\n",
       "      <td>I purchased two Amazon in Echo Plus and two do...</td>\n",
       "      <td>Amazon Echo Plus AWESOME</td>\n",
       "      <td>Positive</td>\n",
       "    </tr>\n",
       "    <tr>\n",
       "      <th>2</th>\n",
       "      <td>Amazon Echo Show Alexa-enabled Bluetooth Speak...</td>\n",
       "      <td>Amazon</td>\n",
       "      <td>Amazon Echo,Virtual Assistant Speakers,Electro...</td>\n",
       "      <td>Electronics,Hardware</td>\n",
       "      <td>2017-12-20T00:00:00.000Z</td>\n",
       "      <td>Just an average Alexa option. Does show a few ...</td>\n",
       "      <td>Average</td>\n",
       "      <td>Neutral</td>\n",
       "    </tr>\n",
       "    <tr>\n",
       "      <th>3</th>\n",
       "      <td>Fire HD 10 Tablet, 10.1 HD Display, Wi-Fi, 16 ...</td>\n",
       "      <td>Amazon</td>\n",
       "      <td>eBook Readers,Fire Tablets,Electronics Feature...</td>\n",
       "      <td>Office Supplies,Electronics</td>\n",
       "      <td>2017-08-04T00:00:00.000Z</td>\n",
       "      <td>very good product. Exactly what I wanted, and ...</td>\n",
       "      <td>Greattttttt</td>\n",
       "      <td>Positive</td>\n",
       "    </tr>\n",
       "    <tr>\n",
       "      <th>4</th>\n",
       "      <td>Brand New Amazon Kindle Fire 16gb 7\" Ips Displ...</td>\n",
       "      <td>Amazon</td>\n",
       "      <td>Computers/Tablets &amp; Networking,Tablets &amp; eBook...</td>\n",
       "      <td>Electronics</td>\n",
       "      <td>2017-01-23T00:00:00.000Z</td>\n",
       "      <td>This is the 3rd one I've purchased. I've bough...</td>\n",
       "      <td>Very durable!</td>\n",
       "      <td>Positive</td>\n",
       "    </tr>\n",
       "  </tbody>\n",
       "</table>\n",
       "</div>"
      ],
      "text/plain": [
       "                                                name   brand  \\\n",
       "0  All-New Fire HD 8 Tablet, 8\" HD Display, Wi-Fi...  Amazon   \n",
       "1        Amazon - Echo Plus w/ Built-In Hub - Silver  Amazon   \n",
       "2  Amazon Echo Show Alexa-enabled Bluetooth Speak...  Amazon   \n",
       "3  Fire HD 10 Tablet, 10.1 HD Display, Wi-Fi, 16 ...  Amazon   \n",
       "4  Brand New Amazon Kindle Fire 16gb 7\" Ips Displ...  Amazon   \n",
       "\n",
       "                                          categories  \\\n",
       "0  Electronics,iPad & Tablets,All Tablets,Fire Ta...   \n",
       "1  Amazon Echo,Smart Home,Networking,Home & Tools...   \n",
       "2  Amazon Echo,Virtual Assistant Speakers,Electro...   \n",
       "3  eBook Readers,Fire Tablets,Electronics Feature...   \n",
       "4  Computers/Tablets & Networking,Tablets & eBook...   \n",
       "\n",
       "             primaryCategories              reviews.date  \\\n",
       "0                  Electronics  2016-12-26T00:00:00.000Z   \n",
       "1         Electronics,Hardware  2018-01-17T00:00:00.000Z   \n",
       "2         Electronics,Hardware  2017-12-20T00:00:00.000Z   \n",
       "3  Office Supplies,Electronics  2017-08-04T00:00:00.000Z   \n",
       "4                  Electronics  2017-01-23T00:00:00.000Z   \n",
       "\n",
       "                                        reviews.text  \\\n",
       "0  Purchased on Black FridayPros - Great Price (e...   \n",
       "1  I purchased two Amazon in Echo Plus and two do...   \n",
       "2  Just an average Alexa option. Does show a few ...   \n",
       "3  very good product. Exactly what I wanted, and ...   \n",
       "4  This is the 3rd one I've purchased. I've bough...   \n",
       "\n",
       "              reviews.title sentiment  \n",
       "0           Powerful tablet  Positive  \n",
       "1  Amazon Echo Plus AWESOME  Positive  \n",
       "2                   Average   Neutral  \n",
       "3               Greattttttt  Positive  \n",
       "4             Very durable!  Positive  "
      ]
     },
     "execution_count": 1,
     "metadata": {},
     "output_type": "execute_result"
    }
   ],
   "source": [
    "# load data\n",
    "# train\n",
    "import pandas as pd\n",
    "train_data = pd.read_csv('data/train_data.csv')\n",
    "\n",
    "# test\n",
    "test_data = pd.read_csv('data/test_data_hidden.csv')\n",
    "\n",
    "print(train_data.shape, test_data.shape)\n",
    "train_data.head()"
   ]
  },
  {
   "cell_type": "code",
   "execution_count": 2,
   "id": "5cc4a590-5d1a-496e-a61e-8060cca4287f",
   "metadata": {},
   "outputs": [],
   "source": [
    "#test_data.head()"
   ]
  },
  {
   "cell_type": "code",
   "execution_count": 3,
   "id": "9a147c94-989e-40dc-b685-b0db9b28f9c9",
   "metadata": {},
   "outputs": [
    {
     "data": {
      "text/plain": [
       "Positive    3749\n",
       "Neutral      158\n",
       "Negative      93\n",
       "Name: sentiment, dtype: int64"
      ]
     },
     "execution_count": 3,
     "metadata": {},
     "output_type": "execute_result"
    }
   ],
   "source": [
    "# checking class count data weight\n",
    "train_data['sentiment'].value_counts()"
   ]
  },
  {
   "cell_type": "markdown",
   "id": "8c652d9b-e9e2-4107-a544-c5dd8af2bde2",
   "metadata": {},
   "source": [
    "We have a class imbalance that favors the Positive sentiment."
   ]
  },
  {
   "cell_type": "code",
   "execution_count": 4,
   "id": "0aecf7f8-a55c-4628-8b19-e2b73766bf76",
   "metadata": {},
   "outputs": [
    {
     "name": "stderr",
     "output_type": "stream",
     "text": [
      "[nltk_data] Downloading package stopwords to\n",
      "[nltk_data]     /Users/LNonyane/nltk_data...\n",
      "[nltk_data]   Package stopwords is already up-to-date!\n"
     ]
    }
   ],
   "source": [
    "# text clean up\n",
    "from nltk import word_tokenize\n",
    "from nltk.corpus import stopwords\n",
    "from nltk.stem import WordNetLemmatizer\n",
    "import nltk\n",
    "nltk.download('stopwords')\n",
    "import re\n",
    "import string\n",
    "import warnings\n",
    "warnings.filterwarnings('ignore')\n",
    "import numpy as np\n",
    "#words = set(nltk.corpus.words.words())\n",
    "import matplotlib.pyplot as plt"
   ]
  },
  {
   "cell_type": "raw",
   "id": "23d5ed26-bbe0-46d6-b4fd-62251479c470",
   "metadata": {},
   "source": [
    "# text-cleanup method\n",
    "def cleanup_text(df, column):\n",
    "    df[column].apply(lambda x : ' '.join\\\n",
    "     ([lemmatizer.lemmatize\\\n",
    "      (word.lower()) \\\n",
    "      for word in word_tokenize\\\n",
    "      (re.sub(r'([^\\s\\w]|_)+', ' ',\\\n",
    "       str(x))) if word not in stop_words]))"
   ]
  },
  {
   "cell_type": "raw",
   "id": "db5eadf3-dd1b-4fd5-aa6e-f8711d9c9ea2",
   "metadata": {},
   "source": [
    "# TFIDF vectorizer method"
   ]
  },
  {
   "cell_type": "code",
   "execution_count": 5,
   "id": "d48bba3b-582c-4bd4-8e1d-12e02c410cf8",
   "metadata": {},
   "outputs": [],
   "source": [
    "lemmatizer = WordNetLemmatizer()\n",
    "stop_words = stopwords.words('english')\n",
    "stop_words = stop_words + list(string.printable)\n",
    "\n",
    "# extract tokens from each 'review' of the dataframe using lambda function.\n",
    "# check whether tokens are stop words, lemmatize them and join them side by side using join function.\n",
    "# replace anything other than digits, letters, and white spaces with blank spaces.\n",
    "\n",
    "train_data['cleaned_reviews.text'] = train_data['reviews.text']\\\n",
    ".apply(lambda x : ' '.join\\\n",
    " ([lemmatizer.lemmatize\\\n",
    "  (word.lower()) \\\n",
    "  for word in word_tokenize\\\n",
    "  (re.sub(r'([^\\s\\w]|_)+', ' ',\\\n",
    "   str(x))) if word not in stop_words])) "
   ]
  },
  {
   "cell_type": "code",
   "execution_count": 6,
   "id": "a13079c2-f347-4d8f-aa01-45f889874f07",
   "metadata": {},
   "outputs": [
    {
     "data": {
      "text/html": [
       "<div>\n",
       "<style scoped>\n",
       "    .dataframe tbody tr th:only-of-type {\n",
       "        vertical-align: middle;\n",
       "    }\n",
       "\n",
       "    .dataframe tbody tr th {\n",
       "        vertical-align: top;\n",
       "    }\n",
       "\n",
       "    .dataframe thead th {\n",
       "        text-align: right;\n",
       "    }\n",
       "</style>\n",
       "<table border=\"1\" class=\"dataframe\">\n",
       "  <thead>\n",
       "    <tr style=\"text-align: right;\">\n",
       "      <th></th>\n",
       "      <th>cleaned_reviews.text</th>\n",
       "      <th>reviews.text</th>\n",
       "    </tr>\n",
       "  </thead>\n",
       "  <tbody>\n",
       "    <tr>\n",
       "      <th>0</th>\n",
       "      <td>purchased black fridaypros great price even sa...</td>\n",
       "      <td>Purchased on Black FridayPros - Great Price (e...</td>\n",
       "    </tr>\n",
       "    <tr>\n",
       "      <th>1</th>\n",
       "      <td>purchased two amazon echo plus two dot plus fo...</td>\n",
       "      <td>I purchased two Amazon in Echo Plus and two do...</td>\n",
       "    </tr>\n",
       "    <tr>\n",
       "      <th>2</th>\n",
       "      <td>just average alexa option doe show thing scree...</td>\n",
       "      <td>Just an average Alexa option. Does show a few ...</td>\n",
       "    </tr>\n",
       "    <tr>\n",
       "      <th>3</th>\n",
       "      <td>good product exactly wanted good price</td>\n",
       "      <td>very good product. Exactly what I wanted, and ...</td>\n",
       "    </tr>\n",
       "    <tr>\n",
       "      <th>4</th>\n",
       "      <td>this 3rd one purchased bought one niece no cas...</td>\n",
       "      <td>This is the 3rd one I've purchased. I've bough...</td>\n",
       "    </tr>\n",
       "  </tbody>\n",
       "</table>\n",
       "</div>"
      ],
      "text/plain": [
       "                                cleaned_reviews.text  \\\n",
       "0  purchased black fridaypros great price even sa...   \n",
       "1  purchased two amazon echo plus two dot plus fo...   \n",
       "2  just average alexa option doe show thing scree...   \n",
       "3             good product exactly wanted good price   \n",
       "4  this 3rd one purchased bought one niece no cas...   \n",
       "\n",
       "                                        reviews.text  \n",
       "0  Purchased on Black FridayPros - Great Price (e...  \n",
       "1  I purchased two Amazon in Echo Plus and two do...  \n",
       "2  Just an average Alexa option. Does show a few ...  \n",
       "3  very good product. Exactly what I wanted, and ...  \n",
       "4  This is the 3rd one I've purchased. I've bough...  "
      ]
     },
     "execution_count": 6,
     "metadata": {},
     "output_type": "execute_result"
    }
   ],
   "source": [
    "train_data[['cleaned_reviews.text', 'reviews.text']].head()"
   ]
  },
  {
   "cell_type": "raw",
   "id": "37e0889d-765a-40b5-8ced-7bb2ed686b92",
   "metadata": {},
   "source": [
    "# remove terms with a length of 1\n",
    "train_data['extra_cleaned_reviews.text'] = train_data['cleaned_reviews.text']\\\n",
    ".apply(lambda x : ' '.join\\\n",
    " ([lemmatizer.lemmatize\\\n",
    "  (word.lower()) \\\n",
    "  for word in word_tokenize\\\n",
    "  (re.sub(r'\\b\\w{1}?\\b', ' ',\\\n",
    "   str(x)))]))\n",
    "train_data[['extra_cleaned_reviews.text', 'cleaned_reviews.text']].head()"
   ]
  },
  {
   "cell_type": "code",
   "execution_count": 7,
   "id": "f3d5362b-3e07-41b6-9937-8c9d6b80ece4",
   "metadata": {},
   "outputs": [
    {
     "data": {
      "text/html": [
       "<div>\n",
       "<style scoped>\n",
       "    .dataframe tbody tr th:only-of-type {\n",
       "        vertical-align: middle;\n",
       "    }\n",
       "\n",
       "    .dataframe tbody tr th {\n",
       "        vertical-align: top;\n",
       "    }\n",
       "\n",
       "    .dataframe thead th {\n",
       "        text-align: right;\n",
       "    }\n",
       "</style>\n",
       "<table border=\"1\" class=\"dataframe\">\n",
       "  <thead>\n",
       "    <tr style=\"text-align: right;\">\n",
       "      <th></th>\n",
       "      <th>00</th>\n",
       "      <th>10</th>\n",
       "      <th>100</th>\n",
       "      <th>11</th>\n",
       "      <th>11yr</th>\n",
       "      <th>12</th>\n",
       "      <th>13</th>\n",
       "      <th>14</th>\n",
       "      <th>15</th>\n",
       "      <th>16</th>\n",
       "      <th>...</th>\n",
       "      <th>yr</th>\n",
       "      <th>äôd</th>\n",
       "      <th>äôll</th>\n",
       "      <th>äôm</th>\n",
       "      <th>äôre</th>\n",
       "      <th>äôs</th>\n",
       "      <th>äôt</th>\n",
       "      <th>äôve</th>\n",
       "      <th>äù</th>\n",
       "      <th>äúalexa</th>\n",
       "    </tr>\n",
       "  </thead>\n",
       "  <tbody>\n",
       "    <tr>\n",
       "      <th>0</th>\n",
       "      <td>0.0</td>\n",
       "      <td>0.0</td>\n",
       "      <td>0.0</td>\n",
       "      <td>0.0</td>\n",
       "      <td>0.0</td>\n",
       "      <td>0.0</td>\n",
       "      <td>0.0</td>\n",
       "      <td>0.0</td>\n",
       "      <td>0.22441</td>\n",
       "      <td>0.0</td>\n",
       "      <td>...</td>\n",
       "      <td>0.0</td>\n",
       "      <td>0.0</td>\n",
       "      <td>0.0</td>\n",
       "      <td>0.000000</td>\n",
       "      <td>0.0</td>\n",
       "      <td>0.000000</td>\n",
       "      <td>0.0</td>\n",
       "      <td>0.0</td>\n",
       "      <td>0.0</td>\n",
       "      <td>0.0</td>\n",
       "    </tr>\n",
       "    <tr>\n",
       "      <th>1</th>\n",
       "      <td>0.0</td>\n",
       "      <td>0.0</td>\n",
       "      <td>0.0</td>\n",
       "      <td>0.0</td>\n",
       "      <td>0.0</td>\n",
       "      <td>0.0</td>\n",
       "      <td>0.0</td>\n",
       "      <td>0.0</td>\n",
       "      <td>0.00000</td>\n",
       "      <td>0.0</td>\n",
       "      <td>...</td>\n",
       "      <td>0.0</td>\n",
       "      <td>0.0</td>\n",
       "      <td>0.0</td>\n",
       "      <td>0.131346</td>\n",
       "      <td>0.0</td>\n",
       "      <td>0.111477</td>\n",
       "      <td>0.0</td>\n",
       "      <td>0.0</td>\n",
       "      <td>0.0</td>\n",
       "      <td>0.0</td>\n",
       "    </tr>\n",
       "    <tr>\n",
       "      <th>2</th>\n",
       "      <td>0.0</td>\n",
       "      <td>0.0</td>\n",
       "      <td>0.0</td>\n",
       "      <td>0.0</td>\n",
       "      <td>0.0</td>\n",
       "      <td>0.0</td>\n",
       "      <td>0.0</td>\n",
       "      <td>0.0</td>\n",
       "      <td>0.00000</td>\n",
       "      <td>0.0</td>\n",
       "      <td>...</td>\n",
       "      <td>0.0</td>\n",
       "      <td>0.0</td>\n",
       "      <td>0.0</td>\n",
       "      <td>0.000000</td>\n",
       "      <td>0.0</td>\n",
       "      <td>0.000000</td>\n",
       "      <td>0.0</td>\n",
       "      <td>0.0</td>\n",
       "      <td>0.0</td>\n",
       "      <td>0.0</td>\n",
       "    </tr>\n",
       "    <tr>\n",
       "      <th>3</th>\n",
       "      <td>0.0</td>\n",
       "      <td>0.0</td>\n",
       "      <td>0.0</td>\n",
       "      <td>0.0</td>\n",
       "      <td>0.0</td>\n",
       "      <td>0.0</td>\n",
       "      <td>0.0</td>\n",
       "      <td>0.0</td>\n",
       "      <td>0.00000</td>\n",
       "      <td>0.0</td>\n",
       "      <td>...</td>\n",
       "      <td>0.0</td>\n",
       "      <td>0.0</td>\n",
       "      <td>0.0</td>\n",
       "      <td>0.000000</td>\n",
       "      <td>0.0</td>\n",
       "      <td>0.000000</td>\n",
       "      <td>0.0</td>\n",
       "      <td>0.0</td>\n",
       "      <td>0.0</td>\n",
       "      <td>0.0</td>\n",
       "    </tr>\n",
       "    <tr>\n",
       "      <th>4</th>\n",
       "      <td>0.0</td>\n",
       "      <td>0.0</td>\n",
       "      <td>0.0</td>\n",
       "      <td>0.0</td>\n",
       "      <td>0.0</td>\n",
       "      <td>0.0</td>\n",
       "      <td>0.0</td>\n",
       "      <td>0.0</td>\n",
       "      <td>0.00000</td>\n",
       "      <td>0.0</td>\n",
       "      <td>...</td>\n",
       "      <td>0.0</td>\n",
       "      <td>0.0</td>\n",
       "      <td>0.0</td>\n",
       "      <td>0.000000</td>\n",
       "      <td>0.0</td>\n",
       "      <td>0.000000</td>\n",
       "      <td>0.0</td>\n",
       "      <td>0.0</td>\n",
       "      <td>0.0</td>\n",
       "      <td>0.0</td>\n",
       "    </tr>\n",
       "  </tbody>\n",
       "</table>\n",
       "<p>5 rows × 2000 columns</p>\n",
       "</div>"
      ],
      "text/plain": [
       "    00   10  100   11  11yr   12   13   14       15   16  ...   yr  äôd  äôll  \\\n",
       "0  0.0  0.0  0.0  0.0   0.0  0.0  0.0  0.0  0.22441  0.0  ...  0.0  0.0   0.0   \n",
       "1  0.0  0.0  0.0  0.0   0.0  0.0  0.0  0.0  0.00000  0.0  ...  0.0  0.0   0.0   \n",
       "2  0.0  0.0  0.0  0.0   0.0  0.0  0.0  0.0  0.00000  0.0  ...  0.0  0.0   0.0   \n",
       "3  0.0  0.0  0.0  0.0   0.0  0.0  0.0  0.0  0.00000  0.0  ...  0.0  0.0   0.0   \n",
       "4  0.0  0.0  0.0  0.0   0.0  0.0  0.0  0.0  0.00000  0.0  ...  0.0  0.0   0.0   \n",
       "\n",
       "        äôm  äôre       äôs  äôt  äôve   äù  äúalexa  \n",
       "0  0.000000   0.0  0.000000  0.0   0.0  0.0      0.0  \n",
       "1  0.131346   0.0  0.111477  0.0   0.0  0.0      0.0  \n",
       "2  0.000000   0.0  0.000000  0.0   0.0  0.0      0.0  \n",
       "3  0.000000   0.0  0.000000  0.0   0.0  0.0      0.0  \n",
       "4  0.000000   0.0  0.000000  0.0   0.0  0.0      0.0  \n",
       "\n",
       "[5 rows x 2000 columns]"
      ]
     },
     "execution_count": 7,
     "metadata": {},
     "output_type": "execute_result"
    }
   ],
   "source": [
    "# TFIDF vectorizer with 2000 max features\n",
    "from sklearn.feature_extraction.text import TfidfVectorizer\n",
    "tfidf_model = TfidfVectorizer(max_features=2000) # Test set max is 2513.\n",
    "tfidf_df = pd.DataFrame(tfidf_model.fit_transform(train_data['cleaned_reviews.text']).todense()) # todense() creates matrix\n",
    "tfidf_df.columns = sorted(tfidf_model.vocabulary_)\n",
    "tfidf_df.head()"
   ]
  },
  {
   "cell_type": "code",
   "execution_count": 8,
   "id": "2c47f662-0523-44fd-9d65-f711952a9303",
   "metadata": {},
   "outputs": [],
   "source": [
    "# clean test data reviews.text\n",
    "test_data['cleaned_reviews.text'] = test_data['reviews.text']\\\n",
    ".apply(lambda x : ' '.join\\\n",
    " ([lemmatizer.lemmatize\\\n",
    "  (word.lower()) \\\n",
    "  for word in word_tokenize\\\n",
    "  (re.sub(r'([^\\s\\w]|_)+', ' ',\\\n",
    "   str(x))) if word not in stop_words]))"
   ]
  },
  {
   "cell_type": "code",
   "execution_count": 9,
   "id": "d246ba19-e1fa-4069-a1b2-2d5622d285b9",
   "metadata": {},
   "outputs": [
    {
     "data": {
      "text/html": [
       "<div>\n",
       "<style scoped>\n",
       "    .dataframe tbody tr th:only-of-type {\n",
       "        vertical-align: middle;\n",
       "    }\n",
       "\n",
       "    .dataframe tbody tr th {\n",
       "        vertical-align: top;\n",
       "    }\n",
       "\n",
       "    .dataframe thead th {\n",
       "        text-align: right;\n",
       "    }\n",
       "</style>\n",
       "<table border=\"1\" class=\"dataframe\">\n",
       "  <thead>\n",
       "    <tr style=\"text-align: right;\">\n",
       "      <th></th>\n",
       "      <th>00</th>\n",
       "      <th>10</th>\n",
       "      <th>100</th>\n",
       "      <th>105</th>\n",
       "      <th>11</th>\n",
       "      <th>12</th>\n",
       "      <th>128</th>\n",
       "      <th>128gb</th>\n",
       "      <th>139</th>\n",
       "      <th>15</th>\n",
       "      <th>...</th>\n",
       "      <th>äôll</th>\n",
       "      <th>äôm</th>\n",
       "      <th>äôre</th>\n",
       "      <th>äôs</th>\n",
       "      <th>äôt</th>\n",
       "      <th>äôve</th>\n",
       "      <th>äù</th>\n",
       "      <th>äùcrestron</th>\n",
       "      <th>äú</th>\n",
       "      <th>äúalexa</th>\n",
       "    </tr>\n",
       "  </thead>\n",
       "  <tbody>\n",
       "    <tr>\n",
       "      <th>0</th>\n",
       "      <td>0.0</td>\n",
       "      <td>0.0</td>\n",
       "      <td>0.0</td>\n",
       "      <td>0.0</td>\n",
       "      <td>0.0</td>\n",
       "      <td>0.0</td>\n",
       "      <td>0.0</td>\n",
       "      <td>0.0</td>\n",
       "      <td>0.0</td>\n",
       "      <td>0.0</td>\n",
       "      <td>...</td>\n",
       "      <td>0.0</td>\n",
       "      <td>0.0</td>\n",
       "      <td>0.0</td>\n",
       "      <td>0.0</td>\n",
       "      <td>0.0</td>\n",
       "      <td>0.0</td>\n",
       "      <td>0.0</td>\n",
       "      <td>0.0</td>\n",
       "      <td>0.0</td>\n",
       "      <td>0.0</td>\n",
       "    </tr>\n",
       "    <tr>\n",
       "      <th>1</th>\n",
       "      <td>0.0</td>\n",
       "      <td>0.0</td>\n",
       "      <td>0.0</td>\n",
       "      <td>0.0</td>\n",
       "      <td>0.0</td>\n",
       "      <td>0.0</td>\n",
       "      <td>0.0</td>\n",
       "      <td>0.0</td>\n",
       "      <td>0.0</td>\n",
       "      <td>0.0</td>\n",
       "      <td>...</td>\n",
       "      <td>0.0</td>\n",
       "      <td>0.0</td>\n",
       "      <td>0.0</td>\n",
       "      <td>0.0</td>\n",
       "      <td>0.0</td>\n",
       "      <td>0.0</td>\n",
       "      <td>0.0</td>\n",
       "      <td>0.0</td>\n",
       "      <td>0.0</td>\n",
       "      <td>0.0</td>\n",
       "    </tr>\n",
       "    <tr>\n",
       "      <th>2</th>\n",
       "      <td>0.0</td>\n",
       "      <td>0.0</td>\n",
       "      <td>0.0</td>\n",
       "      <td>0.0</td>\n",
       "      <td>0.0</td>\n",
       "      <td>0.0</td>\n",
       "      <td>0.0</td>\n",
       "      <td>0.0</td>\n",
       "      <td>0.0</td>\n",
       "      <td>0.0</td>\n",
       "      <td>...</td>\n",
       "      <td>0.0</td>\n",
       "      <td>0.0</td>\n",
       "      <td>0.0</td>\n",
       "      <td>0.0</td>\n",
       "      <td>0.0</td>\n",
       "      <td>0.0</td>\n",
       "      <td>0.0</td>\n",
       "      <td>0.0</td>\n",
       "      <td>0.0</td>\n",
       "      <td>0.0</td>\n",
       "    </tr>\n",
       "    <tr>\n",
       "      <th>3</th>\n",
       "      <td>0.0</td>\n",
       "      <td>0.0</td>\n",
       "      <td>0.0</td>\n",
       "      <td>0.0</td>\n",
       "      <td>0.0</td>\n",
       "      <td>0.0</td>\n",
       "      <td>0.0</td>\n",
       "      <td>0.0</td>\n",
       "      <td>0.0</td>\n",
       "      <td>0.0</td>\n",
       "      <td>...</td>\n",
       "      <td>0.0</td>\n",
       "      <td>0.0</td>\n",
       "      <td>0.0</td>\n",
       "      <td>0.0</td>\n",
       "      <td>0.0</td>\n",
       "      <td>0.0</td>\n",
       "      <td>0.0</td>\n",
       "      <td>0.0</td>\n",
       "      <td>0.0</td>\n",
       "      <td>0.0</td>\n",
       "    </tr>\n",
       "    <tr>\n",
       "      <th>4</th>\n",
       "      <td>0.0</td>\n",
       "      <td>0.0</td>\n",
       "      <td>0.0</td>\n",
       "      <td>0.0</td>\n",
       "      <td>0.0</td>\n",
       "      <td>0.0</td>\n",
       "      <td>0.0</td>\n",
       "      <td>0.0</td>\n",
       "      <td>0.0</td>\n",
       "      <td>0.0</td>\n",
       "      <td>...</td>\n",
       "      <td>0.0</td>\n",
       "      <td>0.0</td>\n",
       "      <td>0.0</td>\n",
       "      <td>0.0</td>\n",
       "      <td>0.0</td>\n",
       "      <td>0.0</td>\n",
       "      <td>0.0</td>\n",
       "      <td>0.0</td>\n",
       "      <td>0.0</td>\n",
       "      <td>0.0</td>\n",
       "    </tr>\n",
       "  </tbody>\n",
       "</table>\n",
       "<p>5 rows × 2000 columns</p>\n",
       "</div>"
      ],
      "text/plain": [
       "    00   10  100  105   11   12  128  128gb  139   15  ...  äôll  äôm  äôre  \\\n",
       "0  0.0  0.0  0.0  0.0  0.0  0.0  0.0    0.0  0.0  0.0  ...   0.0  0.0   0.0   \n",
       "1  0.0  0.0  0.0  0.0  0.0  0.0  0.0    0.0  0.0  0.0  ...   0.0  0.0   0.0   \n",
       "2  0.0  0.0  0.0  0.0  0.0  0.0  0.0    0.0  0.0  0.0  ...   0.0  0.0   0.0   \n",
       "3  0.0  0.0  0.0  0.0  0.0  0.0  0.0    0.0  0.0  0.0  ...   0.0  0.0   0.0   \n",
       "4  0.0  0.0  0.0  0.0  0.0  0.0  0.0    0.0  0.0  0.0  ...   0.0  0.0   0.0   \n",
       "\n",
       "   äôs  äôt  äôve   äù  äùcrestron   äú  äúalexa  \n",
       "0  0.0  0.0   0.0  0.0         0.0  0.0      0.0  \n",
       "1  0.0  0.0   0.0  0.0         0.0  0.0      0.0  \n",
       "2  0.0  0.0   0.0  0.0         0.0  0.0      0.0  \n",
       "3  0.0  0.0   0.0  0.0         0.0  0.0      0.0  \n",
       "4  0.0  0.0   0.0  0.0         0.0  0.0      0.0  \n",
       "\n",
       "[5 rows x 2000 columns]"
      ]
     },
     "execution_count": 9,
     "metadata": {},
     "output_type": "execute_result"
    }
   ],
   "source": [
    "# TFIDF vectorizer with 2000 max features for test set\n",
    "from sklearn.feature_extraction.text import TfidfVectorizer\n",
    "#tfidf_model = TfidfVectorizer(max_features=2000) # Test set max is 2513.\n",
    "tfidf_df_test = pd.DataFrame(tfidf_model.fit_transform(test_data['cleaned_reviews.text']).todense()) # todense() creates matrix\n",
    "tfidf_df_test.columns = sorted(tfidf_model.vocabulary_)\n",
    "tfidf_df_test.head()"
   ]
  },
  {
   "cell_type": "markdown",
   "id": "d34c0145-bff4-49d1-8036-e85f977930d7",
   "metadata": {},
   "source": [
    "TFIDF representation of cleaned up 'reviews.text'."
   ]
  },
  {
   "cell_type": "raw",
   "id": "50ba27f6-c56a-4547-8de0-f1e67a19b58a",
   "metadata": {},
   "source": [
    "test_data['clean_reviews.text'] = cleanup_text(test_data, 'reviews.text')\n",
    "test_data['clean_reviews.text'].head()"
   ]
  },
  {
   "cell_type": "markdown",
   "id": "0a18e2c0-1a97-41f1-817b-a37d034bdd9b",
   "metadata": {},
   "source": [
    "###### Multinomial Naive Bayes Classifier\n",
    "Label encoding:\n",
    "\n",
    "0: Negative\n",
    "\n",
    "1: Neutral\n",
    "\n",
    "2: Positive"
   ]
  },
  {
   "cell_type": "code",
   "execution_count": 10,
   "id": "02bcaea5-6f2b-4699-8680-5e78b0343a80",
   "metadata": {},
   "outputs": [],
   "source": [
    "# label encode\n",
    "from sklearn.preprocessing import LabelEncoder\n",
    "train_data['encoded_labels'] = LabelEncoder().fit_transform(train_data['sentiment'])\n",
    "test_data['encoded_labels'] = LabelEncoder().fit_transform(test_data['sentiment'])"
   ]
  },
  {
   "cell_type": "code",
   "execution_count": 11,
   "id": "7a0b76e9-888f-4139-bc7b-918043c5adc7",
   "metadata": {},
   "outputs": [
    {
     "data": {
      "text/html": [
       "<div>\n",
       "<style scoped>\n",
       "    .dataframe tbody tr th:only-of-type {\n",
       "        vertical-align: middle;\n",
       "    }\n",
       "\n",
       "    .dataframe tbody tr th {\n",
       "        vertical-align: top;\n",
       "    }\n",
       "\n",
       "    .dataframe thead th {\n",
       "        text-align: right;\n",
       "    }\n",
       "</style>\n",
       "<table border=\"1\" class=\"dataframe\">\n",
       "  <thead>\n",
       "    <tr style=\"text-align: right;\">\n",
       "      <th></th>\n",
       "      <th>encoded_labels</th>\n",
       "      <th>sentiment</th>\n",
       "    </tr>\n",
       "  </thead>\n",
       "  <tbody>\n",
       "    <tr>\n",
       "      <th>0</th>\n",
       "      <td>2</td>\n",
       "      <td>Positive</td>\n",
       "    </tr>\n",
       "    <tr>\n",
       "      <th>1</th>\n",
       "      <td>2</td>\n",
       "      <td>Positive</td>\n",
       "    </tr>\n",
       "    <tr>\n",
       "      <th>2</th>\n",
       "      <td>1</td>\n",
       "      <td>Neutral</td>\n",
       "    </tr>\n",
       "    <tr>\n",
       "      <th>3</th>\n",
       "      <td>2</td>\n",
       "      <td>Positive</td>\n",
       "    </tr>\n",
       "    <tr>\n",
       "      <th>4</th>\n",
       "      <td>2</td>\n",
       "      <td>Positive</td>\n",
       "    </tr>\n",
       "    <tr>\n",
       "      <th>...</th>\n",
       "      <td>...</td>\n",
       "      <td>...</td>\n",
       "    </tr>\n",
       "    <tr>\n",
       "      <th>3995</th>\n",
       "      <td>2</td>\n",
       "      <td>Positive</td>\n",
       "    </tr>\n",
       "    <tr>\n",
       "      <th>3996</th>\n",
       "      <td>2</td>\n",
       "      <td>Positive</td>\n",
       "    </tr>\n",
       "    <tr>\n",
       "      <th>3997</th>\n",
       "      <td>2</td>\n",
       "      <td>Positive</td>\n",
       "    </tr>\n",
       "    <tr>\n",
       "      <th>3998</th>\n",
       "      <td>2</td>\n",
       "      <td>Positive</td>\n",
       "    </tr>\n",
       "    <tr>\n",
       "      <th>3999</th>\n",
       "      <td>2</td>\n",
       "      <td>Positive</td>\n",
       "    </tr>\n",
       "  </tbody>\n",
       "</table>\n",
       "<p>4000 rows × 2 columns</p>\n",
       "</div>"
      ],
      "text/plain": [
       "      encoded_labels sentiment\n",
       "0                  2  Positive\n",
       "1                  2  Positive\n",
       "2                  1   Neutral\n",
       "3                  2  Positive\n",
       "4                  2  Positive\n",
       "...              ...       ...\n",
       "3995               2  Positive\n",
       "3996               2  Positive\n",
       "3997               2  Positive\n",
       "3998               2  Positive\n",
       "3999               2  Positive\n",
       "\n",
       "[4000 rows x 2 columns]"
      ]
     },
     "execution_count": 11,
     "metadata": {},
     "output_type": "execute_result"
    }
   ],
   "source": [
    "train_data[['encoded_labels', 'sentiment']]"
   ]
  },
  {
   "cell_type": "code",
   "execution_count": 12,
   "id": "445d1b76-1f7b-4e12-9f32-00963fd06600",
   "metadata": {},
   "outputs": [],
   "source": [
    "# training and validation sets.\n",
    "X_train = tfidf_df # independent variables\n",
    "y_train = train_data['encoded_labels'] # labels \n",
    "X_valid = tfidf_df_test # independent variables for test\n",
    "y_valid = test_data['encoded_labels'] # labels"
   ]
  },
  {
   "cell_type": "code",
   "execution_count": 13,
   "id": "372796f5-4fd2-4728-92db-e881cbd73591",
   "metadata": {},
   "outputs": [
    {
     "data": {
      "text/plain": [
       "((4000, 2000), (4000,), (1000, 2000), (1000,))"
      ]
     },
     "execution_count": 13,
     "metadata": {},
     "output_type": "execute_result"
    }
   ],
   "source": [
    "X_train.shape, y_train.shape, X_valid.shape, y_valid.shape"
   ]
  },
  {
   "cell_type": "code",
   "execution_count": 14,
   "id": "0c711cc8-dbbe-438f-8949-b1baa1e2b951",
   "metadata": {},
   "outputs": [
    {
     "data": {
      "text/plain": [
       "encoded_labels\n",
       "2                 3749\n",
       "1                  158\n",
       "0                   93\n",
       "dtype: int64"
      ]
     },
     "execution_count": 14,
     "metadata": {},
     "output_type": "execute_result"
    }
   ],
   "source": [
    "#y_train_df = pd.DataFrame(y_train)\n",
    "#y_train_df.value_counts()\n",
    "pd.DataFrame(y_train).value_counts()"
   ]
  },
  {
   "cell_type": "code",
   "execution_count": 15,
   "id": "3afe8913-804e-4823-bd32-be862a8b46a8",
   "metadata": {},
   "outputs": [],
   "source": [
    "# Binarize labels in order to use ROC curve to calculate AUC.\n",
    "from sklearn.preprocessing import label_binarize\n",
    "from sklearn.multiclass import OneVsRestClassifier\n",
    "from itertools import cycle\n",
    "\n",
    "y_train_bin = label_binarize(y_train, classes=['0', '1', '2'])\n",
    "n_classes = 3\n",
    "\n",
    "y_valid_bin = label_binarize(y_valid, classes=['0', '1', '2'])"
   ]
  },
  {
   "cell_type": "code",
   "execution_count": 16,
   "id": "5e19e7f8-6ddf-49a2-a8d7-769c48b4c1b0",
   "metadata": {},
   "outputs": [],
   "source": [
    "# classifier method\n",
    "def clf_model(model_type, X_train, y_train, X_valid):\n",
    "    model = model_type.fit(X_train, y_train)\n",
    "    predicted_labels = model.predict(X_valid)\n",
    "    predicted_probab = model.predict_proba(X_valid)[:,1] # score\n",
    "    return [predicted_labels, predicted_probab, model]"
   ]
  },
  {
   "cell_type": "code",
   "execution_count": 17,
   "id": "ac1279c7-8cea-46d5-9001-99386dda068e",
   "metadata": {},
   "outputs": [],
   "source": [
    "# model evaluation method\n",
    "from sklearn.metrics import confusion_matrix, accuracy_score, classification_report\n",
    "from sklearn.metrics import precision_recall_curve, auc, roc_curve\n",
    "def model_evaluation(actual_values, predicted_values, predicted_probabilities):\n",
    "    # confusion matrix\n",
    "    cfn_mat = confusion_matrix(actual_values, predicted_values)\n",
    "    print(\"confusion matrix:\",cfn_mat)\n",
    "    print(\"\\naccuracy:\",accuracy_score(actual_values, predicted_values))\n",
    "    print(\"\\nclassification report:\",classification_report(actual_values, predicted_values))\n",
    "    \n",
    "    # ROC curve and AUC for each class\n",
    "    fpr = dict()\n",
    "    tpr = dict()\n",
    "    roc_auc = dict()\n",
    "    lw=2\n",
    "    for i in range(n_classes):\n",
    "        fpr[i], tpr[i], _ = roc_curve(y_valid, predicted_probabilities, pos_label=2) # true binary labels, probabilities of the positive class, label of positive class\n",
    "        roc_auc[i] = auc(fpr[i], tpr[i]) # auc score for each class\n",
    "        #colors = cycle(['blue', 'red', 'green'])\n",
    "    \n",
    "    # Mircro-average ROC curve and ROC area\n",
    "    fpr['micro'], tpr['micro'], _ = roc_curve(y_valid.ravel(), predicted_probabilities.ravel(), pos_label=2)\n",
    "    roc_auc['micro'] = auc(fpr['micro'], tpr['micro'])\n",
    "    \n",
    "    # Plot ROC curves for multiclass problem\n",
    "    # aggregate all false positve rates\n",
    "    all_fpr = np.unique(np.concatenate([fpr[i] for i in range(n_classes)]))\n",
    "    \n",
    "    # Interpolate all ROC curves\n",
    "    mean_tpr = np.zeros_like(all_fpr)\n",
    "    for i in range(n_classes):\n",
    "        mean_tpr += np.interp(all_fpr, fpr[i], tpr[i])\n",
    "    \n",
    "    # Average and compute AUC\n",
    "    mean_tpr /= n_classes\n",
    "    \n",
    "    fpr['macro'] = all_fpr\n",
    "    tpr['macro'] = mean_tpr\n",
    "    roc_auc['macro'] = auc(fpr['macro'], tpr['macro'])\n",
    "    \n",
    "    # Plot all ROC curves\n",
    "    plt.figure()\n",
    "    plt.plot(\n",
    "        fpr['micro'],\n",
    "        tpr['micro'],\n",
    "        label='micro-average ROC curve (area = {0:0.2f})'.format(roc_auc['micro']),\n",
    "        color='deeppink',\n",
    "        linestyle=':',\n",
    "        linewidth=4\n",
    "    )\n",
    "    \n",
    "    plt.plot(\n",
    "        fpr['macro'],\n",
    "        tpr['macro'],\n",
    "        label='macro-average ROC curve (area = {0:0.2f})'.format(roc_auc['macro']),\n",
    "        color='navy',\n",
    "        linestyle=':',\n",
    "        linewidth=4\n",
    "    )\n",
    "    \n",
    "    colors = cycle(['aqua', 'darkorange', 'cornflowerblue'])\n",
    "    for i, color in zip(range(n_classes), colors):\n",
    "        plt.plot(\n",
    "            fpr[i],\n",
    "            tpr[i],\n",
    "            color = color,\n",
    "            lw = lw,\n",
    "            label = 'ROC curve of class {0} (area = {1:0.2f})'.format(i, roc_auc[i])\n",
    "        )\n",
    "    \n",
    "    plt.plot([0, 1], [0, 1], 'k--', lw=lw)\n",
    "    plt.xlim([0.0, 1.0])\n",
    "    plt.ylim([0.0, 1.05])\n",
    "    plt.xlabel('False Positive Rate')\n",
    "    plt.ylabel('True Positive Rate')\n",
    "    plt.title('Receiver operating characteristic for multi-class data')\n",
    "    plt.legend(loc=\"lower right\")\n",
    "    plt.show()\n",
    "    \"\"\"\n",
    "    fpr,tpr,threshold = roc_curve(actual_values,predicted_probabilities)\n",
    "    print(\"\\nArea under ROC curve for validation set:\",auc(fpr,tpr))\n",
    "    fig, ax = plt.subplots(figsize=(6,6))\n",
    "    ax.plot(fpr,tpr,label='Validation set AUC')\n",
    "    plt.xlabel('False Positive Rate')\n",
    "    plt.ylabel('True Positive Rate')\n",
    "    ax.legend(loc='best')\n",
    "    plt.show()\n",
    "    \"\"\""
   ]
  },
  {
   "cell_type": "raw",
   "id": "73e6c6fe-cbad-473f-96eb-c0a794a52275",
   "metadata": {},
   "source": [
    "def model_evaluation_mnb(actual_values, predicted_values, predicted_probabilities):\n",
    "    # confusion matrix\n",
    "    cfn_mat = confusion_matrix(actual_values, predicted_values)\n",
    "    print(\"confusion matrix:\",cfn_mat)\n",
    "    print(\"\\naccuracy:\",accuracy_score(actual_values, predicted_values))\n",
    "    print(\"\\nclassification report:\",classification_report(actual_values, predicted_values))"
   ]
  },
  {
   "cell_type": "code",
   "execution_count": 18,
   "id": "81505146-d0b3-43f0-b200-8fbcdead3683",
   "metadata": {},
   "outputs": [],
   "source": [
    "# "
   ]
  },
  {
   "cell_type": "code",
   "execution_count": 19,
   "id": "389f9ced-c4c4-4527-b67b-f9c333cf7c17",
   "metadata": {},
   "outputs": [],
   "source": [
    "#  MultinomialNB model\n",
    "from sklearn.naive_bayes import MultinomialNB\n",
    "\n",
    "# Predict each class against each other\n",
    "clf = OneVsRestClassifier(MultinomialNB())\n",
    "multinomialNB_results = clf_model(clf, X_train, y_train, X_valid)"
   ]
  },
  {
   "cell_type": "code",
   "execution_count": 20,
   "id": "37b301c6-2ee1-4501-8f73-1e87955118c7",
   "metadata": {},
   "outputs": [
    {
     "name": "stdout",
     "output_type": "stream",
     "text": [
      "confusion matrix: [[  0   3  21]\n",
      " [  0   5  34]\n",
      " [ 14  78 845]]\n",
      "\n",
      "accuracy: 0.85\n",
      "\n",
      "classification report:               precision    recall  f1-score   support\n",
      "\n",
      "           0       0.00      0.00      0.00        24\n",
      "           1       0.06      0.13      0.08        39\n",
      "           2       0.94      0.90      0.92       937\n",
      "\n",
      "    accuracy                           0.85      1000\n",
      "   macro avg       0.33      0.34      0.33      1000\n",
      "weighted avg       0.88      0.85      0.87      1000\n",
      "\n"
     ]
    },
    {
     "data": {
      "image/png": "[encoded data removed]",
      "text/plain": [
       "<Figure size 432x288 with 1 Axes>"
      ]
     },
     "metadata": {
      "needs_background": "light"
     },
     "output_type": "display_data"
    }
   ],
   "source": [
    "# model evaluation\n",
    "# actual values, pred values, pred probab\n",
    "model_evaluation(y_valid, multinomialNB_results[0], multinomialNB_results[1])"
   ]
  },
  {
   "cell_type": "markdown",
   "id": "e60c89f3-df81-4497-b363-676a51be230f",
   "metadata": {
    "tags": []
   },
   "source": [
    "##### Tackling Class Imbalance Problem"
   ]
  },
  {
   "cell_type": "raw",
   "id": "4962edd0-6430-4887-8f7a-8eeab58250f6",
   "metadata": {},
   "source": [
    "\t1. Oversampling or undersampling can be used to tackle the class imbalance problem. \n",
    "\t2. In case of class imbalance criteria, use the following metrices for evaluating model performance: precision, recall, F1-score, AUC-ROC curve. Use F1-Score as the evaluation criteria for this project.\n",
    "\t3. Use Tree-based classifiers like Random Forest and XGBoost.\n",
    "Note: Tree-based classifiers work on two ideologies namely, Bagging or Boosting and have fine-tuning parameter which takes care of the imbalanced class."
   ]
  },
  {
   "cell_type": "raw",
   "id": "6b6af50c-e6c7-46b7-8579-8d4937e11ed1",
   "metadata": {},
   "source": [
    "Resource\n",
    "https://www.geeksforgeeks.org/ml-handling-imbalanced-data-with-smote-and-near-miss-algorithm-in-python/"
   ]
  },
  {
   "cell_type": "code",
   "execution_count": 21,
   "id": "08538927-2739-4985-bd38-fbc5e35e9787",
   "metadata": {},
   "outputs": [
    {
     "data": {
      "text/plain": [
       "2    3749\n",
       "1     158\n",
       "0      93\n",
       "Name: encoded_labels, dtype: int64"
      ]
     },
     "execution_count": 21,
     "metadata": {},
     "output_type": "execute_result"
    }
   ],
   "source": [
    "# value counts for classes.\n",
    "train_data['encoded_labels'].value_counts()"
   ]
  },
  {
   "cell_type": "raw",
   "id": "f001add7-16fb-41be-9849-7a4daeed95cc",
   "metadata": {},
   "source": [
    "train_data[['sentiment', 'sentiment_enc']]"
   ]
  },
  {
   "cell_type": "raw",
   "id": "49bf88a2-32da-4784-82e5-4193f0a9fcd0",
   "metadata": {},
   "source": [
    "X_train.shape, y_train.shape, X_valid.shape, y_valid.shape"
   ]
  },
  {
   "cell_type": "code",
   "execution_count": 22,
   "id": "3f648c19-e0a3-453b-aa0c-33eb92cf0bbc",
   "metadata": {},
   "outputs": [
    {
     "name": "stdout",
     "output_type": "stream",
     "text": [
      "train data features shape before (4000, 2000) and after sampling (11247, 2000)\n",
      "train data labels shape before (4000,) and after sampling (11247,)\n"
     ]
    }
   ],
   "source": [
    "# Instantiating the SMOTE class.\n",
    "from imblearn.over_sampling import SMOTE\n",
    "sm = SMOTE(random_state=2)\n",
    "\n",
    "# Creating new training set.\n",
    "X_train_os, y_train_os = sm.fit_resample(X_train, y_train)\n",
    "\n",
    "# Creating new validation set.\n",
    "#X_valid_os, y_valid_os = sm.fit_resample(X_valid, y_valid.ravel())\n",
    "\n",
    "# before and after oversampling (training set)\n",
    "print('train data features shape before {} and after sampling {}'.format(X_train.shape, X_train_os.shape))\n",
    "print('train data labels shape before {} and after sampling {}'.format(y_train.shape, y_train_os.shape))\n",
    "\n",
    "# before and after oversampling (validation set)\n",
    "#print('validatation data shape before and after sampling (features): {} {}'.format(X_valid.shape, X_valid_os.shape))\n",
    "#print('validatation data shape before and after sampling (labels): {} {}'.format(y_valid.shape, y_valid_os.shape))"
   ]
  },
  {
   "cell_type": "code",
   "execution_count": 23,
   "id": "2f024c08-7727-44bb-91d6-807a926e52a0",
   "metadata": {},
   "outputs": [
    {
     "data": {
      "text/plain": [
       "encoded_labels\n",
       "0                 3749\n",
       "1                 3749\n",
       "2                 3749\n",
       "dtype: int64"
      ]
     },
     "execution_count": 23,
     "metadata": {},
     "output_type": "execute_result"
    }
   ],
   "source": [
    "pd.DataFrame(y_train_os).value_counts()"
   ]
  },
  {
   "cell_type": "raw",
   "id": "dc5e3c7a-cb53-4a31-bed9-85fac6535ea1",
   "metadata": {},
   "source": [
    "y_valid_os_df = pd.DataFrame(y_valid_os)\n",
    "y_valid_os_df.value_counts()"
   ]
  },
  {
   "cell_type": "code",
   "execution_count": 24,
   "id": "5b89e682-ce1b-4fa2-9445-8c341c65440f",
   "metadata": {
    "tags": []
   },
   "outputs": [
    {
     "name": "stdout",
     "output_type": "stream",
     "text": [
      "Object `xgb_clf` not found.\n"
     ]
    }
   ],
   "source": [
    "?xgb_clf"
   ]
  },
  {
   "cell_type": "code",
   "execution_count": 25,
   "id": "827db451-2aad-4caa-a09e-a29815d64848",
   "metadata": {},
   "outputs": [],
   "source": [
    "# XGBOOST classifier.\n",
    "from xgboost import XGBClassifier\n",
    "xgb_clf = XGBClassifier(n_estimators=50,learning_rate=0.03,\\\n",
    "                         max_depth=5,subsample=0.6,\\\n",
    "                         colsample_bytree= 0.6,reg_alpha= 10,seed=42)"
   ]
  },
  {
   "cell_type": "code",
   "execution_count": 26,
   "id": "f9b1b3ac-54aa-4b8b-a53f-514d0a50650c",
   "metadata": {},
   "outputs": [],
   "source": [
    "# classifier method\n",
    "def xgb_clf_model(model_type, X_train, y_train, X_valid):\n",
    "    model = model_type.fit(X_train, y_train)\n",
    "    predicted_labels = model.predict(X_valid)\n",
    "    predicted_probab = model.predict_proba(X_valid)[:,1] # score\n",
    "    return [predicted_labels, predicted_probab, model]"
   ]
  },
  {
   "cell_type": "code",
   "execution_count": 27,
   "id": "286f9c4f-c55f-4d9b-8564-5501754b1496",
   "metadata": {},
   "outputs": [
    {
     "name": "stdout",
     "output_type": "stream",
     "text": [
      "traning time: 10.44 seconds\n"
     ]
    }
   ],
   "source": [
    "# Train XGB classifier with balanced dataset.\n",
    "import time\n",
    "t0 = time.time()\n",
    "xgb_clf_results = xgb_clf_model(xgb_clf, X_train_os, y_train_os, X_valid)\n",
    "t1 = time.time()\n",
    "print('traning time: {:.2f} seconds'.format(t1-t0))"
   ]
  },
  {
   "cell_type": "code",
   "execution_count": 28,
   "id": "ba406695-079e-4ac5-b1c5-a4af14438480",
   "metadata": {},
   "outputs": [],
   "source": [
    "# model evalutation for xgboost\n",
    "def model_evaluation_xgbclf(actual_values, predicted_values):\n",
    "    # confusion matrix\n",
    "    cfn_mat = confusion_matrix(actual_values, predicted_values)\n",
    "    print(\"confusion matrix:\",cfn_mat)\n",
    "    print(\"\\naccuracy:\",accuracy_score(actual_values, predicted_values))\n",
    "    print(\"\\nclassification report:\",classification_report(actual_values, predicted_values))"
   ]
  },
  {
   "cell_type": "raw",
   "id": "399e03f2-7afa-4b32-a76f-aea829f7dc6f",
   "metadata": {
    "jupyter": {
     "source_hidden": true
    },
    "tags": []
   },
   "source": [
    "# model evaluation method\n",
    "from sklearn.metrics import confusion_matrix, accuracy_score, classification_report\n",
    "from sklearn.metrics import precision_recall_curve, auc, roc_curve\n",
    "def model_evaluation(actual_values, predicted_values, predicted_probabilities):\n",
    "    # confusion matrix\n",
    "    cfn_mat = confusion_matrix(actual_values, predicted_values)\n",
    "    print(\"confusion matrix:\",cfn_mat)\n",
    "    print(\"\\naccuracy:\",accuracy_score(actual_values, predicted_values))\n",
    "    print(\"\\nclassification report:\",classification_report(actual_values, predicted_values))\n",
    "    \n",
    "    # ROC curve and AUC for each class\n",
    "    fpr = dict()\n",
    "    tpr = dict()\n",
    "    roc_auc = dict()\n",
    "    lw=2\n",
    "    for i in range(n_classes):\n",
    "        fpr[i], tpr[i], _ = roc_curve(y_valid, predicted_probabilities, pos_label='Positive')\n",
    "        roc_auc[i] = auc(fpr[i], tpr[i])\n",
    "        #colors = cycle(['blue', 'red', 'green'])\n",
    "    \n",
    "    # Mircro-average ROC curve and ROC area\n",
    "    fpr['micro'], tpr['micro'], _ = roc_curve(y_valid.ravel(), predicted_probabilities.ravel(), pos_label='Positive')\n",
    "    roc_auc['micro'] = auc(fpr['micro'], tpr['micro'])\n",
    "    \n",
    "    # Plot ROC curves for multiclass problem\n",
    "    # aggregate all false positve rates\n",
    "    all_fpr = np.unique(np.concatenate([fpr[i] for i in range(n_classes)]))\n",
    "    \n",
    "    # Interpolate all ROC curves\n",
    "    mean_tpr = np.zeros_like(all_fpr)\n",
    "    for i in range(n_classes):\n",
    "        mean_tpr += np.interp(all_fpr, fpr[i], tpr[i])\n",
    "    \n",
    "    # Average and compute AUC\n",
    "    mean_tpr /= n_classes\n",
    "    \n",
    "    fpr['macro'] = all_fpr\n",
    "    tpr['macro'] = mean_tpr\n",
    "    roc_auc['macro'] = auc(fpr['macro'], tpr['macro'])\n",
    "    \n",
    "    # Plot all ROC curves\n",
    "    plt.figure()\n",
    "    plt.plot(\n",
    "        fpr['micro'],\n",
    "        tpr['micro'],\n",
    "        label='micro-average ROC curve (area = {0:0.2f})'.format(roc_auc['micro']),\n",
    "        color='deeppink',\n",
    "        linestyle=':',\n",
    "        linewidth=4\n",
    "    )\n",
    "    \n",
    "    plt.plot(\n",
    "        fpr['macro'],\n",
    "        tpr['macro'],\n",
    "        label='macro-average ROC curve (area = {0:0.2f})'.format(roc_auc['macro']),\n",
    "        color='navy',\n",
    "        linestyle=':',\n",
    "        linewidth=4\n",
    "    )\n",
    "    \n",
    "    colors = cycle(['aqua', 'darkorange', 'cornflowerblue'])\n",
    "    for i, color in zip(range(n_classes), colors):\n",
    "        plt.plot(\n",
    "            fpr[i],\n",
    "            tpr[i],\n",
    "            color = color,\n",
    "            lw = lw,\n",
    "            label = 'ROC curve of class {0} (area = {1:0.2f})'.format(i, roc_auc[i])\n",
    "        )\n",
    "    \n",
    "    plt.plot([0, 1], [0, 1], 'k--', lw=lw)\n",
    "    plt.xlim([0.0, 1.0])\n",
    "    plt.ylim([0.0, 1.05])\n",
    "    plt.xlabel('False Positive Rate')\n",
    "    plt.ylabel('True Positive Rate')\n",
    "    plt.title('Receiver operating characteristic for multi-class data')\n",
    "    plt.legend(loc=\"lower right\")\n",
    "    plt.show()\n",
    "    \"\"\"\n",
    "    fpr,tpr,threshold = roc_curve(actual_values,predicted_probabilities)\n",
    "    print(\"\\nArea under ROC curve for validation set:\",auc(fpr,tpr))\n",
    "    fig, ax = plt.subplots(figsize=(6,6))\n",
    "    ax.plot(fpr,tpr,label='Validation set AUC')\n",
    "    plt.xlabel('False Positive Rate')\n",
    "    plt.ylabel('True Positive Rate')\n",
    "    ax.legend(loc='best')\n",
    "    plt.show()\n",
    "    \"\"\""
   ]
  },
  {
   "cell_type": "raw",
   "id": "26c8c74b-422e-4b30-b6c1-940568d5dfbc",
   "metadata": {
    "jupyter": {
     "source_hidden": true
    },
    "tags": []
   },
   "source": [
    "# classifier method\n",
    "def clf_model(model_type, X_train, y_train, X_valid):\n",
    "    model = model_type.fit(X_train, y_train)\n",
    "    predicted_labels = model.predict(X_valid)\n",
    "    predicted_probab = model.predict_proba(X_valid)[:,1] # score\n",
    "    return [predicted_labels, predicted_probab, model]"
   ]
  },
  {
   "cell_type": "code",
   "execution_count": 29,
   "id": "027aec7b-479c-4977-9cf4-e1ca3f89986b",
   "metadata": {
    "tags": []
   },
   "outputs": [
    {
     "name": "stdout",
     "output_type": "stream",
     "text": [
      "confusion matrix: [[  2   2  20]\n",
      " [  1   2  36]\n",
      " [ 67 109 761]]\n",
      "\n",
      "accuracy: 0.765\n",
      "\n",
      "classification report:               precision    recall  f1-score   support\n",
      "\n",
      "           0       0.03      0.08      0.04        24\n",
      "           1       0.02      0.05      0.03        39\n",
      "           2       0.93      0.81      0.87       937\n",
      "\n",
      "    accuracy                           0.77      1000\n",
      "   macro avg       0.33      0.32      0.31      1000\n",
      "weighted avg       0.87      0.77      0.82      1000\n",
      "\n"
     ]
    }
   ],
   "source": [
    "# model evaluation\n",
    "# actual values, pred values\n",
    "model_evaluation_xgbclf(y_valid, xgb_clf_results[0])"
   ]
  },
  {
   "cell_type": "markdown",
   "id": "a5767cd8-eea9-4734-acd3-50e84b507004",
   "metadata": {},
   "source": [
    "Oversampling the minority classes has improved genralization of the model. \n",
    "\n",
    "F1-scores using MNB classifier vs XGB\n",
    "\n",
    "Before | After\n",
    "\n",
    "0 (Negative) : 0 | 0.26\n",
    "\n",
    "1 (Neutral): 0.08 | 0.05\n",
    "\n",
    "2 (Positive): 0.92 | 0.50"
   ]
  },
  {
   "cell_type": "markdown",
   "id": "aec6a1fd-4cf4-48b6-b67c-8b2e1a2cafe2",
   "metadata": {
    "tags": []
   },
   "source": [
    "#### Project Task: Week 2"
   ]
  },
  {
   "cell_type": "markdown",
   "id": "2d34f0fa-6cf2-457c-8901-9d2785e4609c",
   "metadata": {
    "tags": []
   },
   "source": [
    "##### Model Selection\n",
    "\n",
    "1. Apply multi-class SVM’s and neural nets.\n",
    "2. Use possible ensemble techniques like: XGboost + oversampled_multinomial_NB.\n",
    "3. Assign a score to the sentence sentiment (engineer a feature called sentiment score). Use this engineered feature in the model and check for improvements. Draw insights on the same."
   ]
  },
  {
   "cell_type": "markdown",
   "id": "5b9abc73-4230-4135-afbc-c6a23cf25fa1",
   "metadata": {
    "tags": []
   },
   "source": [
    "###### Multi-class SVMs & Neural Nets.\n"
   ]
  },
  {
   "cell_type": "raw",
   "id": "40c66ab0-3e4f-4b5f-9392-9a07d066dcf2",
   "metadata": {},
   "source": [
    "# pipeline.\n",
    "from sklearn.pipeline import Pipeline"
   ]
  },
  {
   "cell_type": "raw",
   "id": "909e397b-89b4-441c-a7ca-72643661f3ad",
   "metadata": {},
   "source": [
    "# max_features\n",
    "n_features = X_train_os.shape[1]\n",
    "n_features"
   ]
  },
  {
   "cell_type": "code",
   "execution_count": 30,
   "id": "38580bdd-6a65-4064-9376-32a775decf04",
   "metadata": {},
   "outputs": [],
   "source": [
    "# SVM.\n",
    "from sklearn import svm, model_selection\n",
    "svm_clf = svm.SVC(gamma='scale', probability=True)"
   ]
  },
  {
   "cell_type": "code",
   "execution_count": 31,
   "id": "3c1e89c7-fc89-48d9-9ffc-ce51cc0d5455",
   "metadata": {},
   "outputs": [
    {
     "name": "stdout",
     "output_type": "stream",
     "text": [
      "training time: 219.27 seconds\n"
     ]
    }
   ],
   "source": [
    "# Train base SVM.\n",
    "t0 = time.time()\n",
    "svm_clf_results = clf_model(svm_clf, X_train_os, y_train_os, X_valid)\n",
    "t1 = time.time()\n",
    "print('training time: {:.2f} seconds'.format(t1-t0))"
   ]
  },
  {
   "cell_type": "code",
   "execution_count": 32,
   "id": "3e881651-af79-4d9d-a461-319d38ebf8e6",
   "metadata": {},
   "outputs": [
    {
     "name": "stdout",
     "output_type": "stream",
     "text": [
      "confusion matrix: [[  0   0  24]\n",
      " [  0   0  39]\n",
      " [  0   1 936]]\n",
      "\n",
      "accuracy: 0.936\n",
      "\n",
      "classification report:               precision    recall  f1-score   support\n",
      "\n",
      "           0       0.00      0.00      0.00        24\n",
      "           1       0.00      0.00      0.00        39\n",
      "           2       0.94      1.00      0.97       937\n",
      "\n",
      "    accuracy                           0.94      1000\n",
      "   macro avg       0.31      0.33      0.32      1000\n",
      "weighted avg       0.88      0.94      0.91      1000\n",
      "\n"
     ]
    },
    {
     "data": {
      "image/png": "[encoded data removed]",
      "text/plain": [
       "<Figure size 432x288 with 1 Axes>"
      ]
     },
     "metadata": {
      "needs_background": "light"
     },
     "output_type": "display_data"
    }
   ],
   "source": [
    "# SVM model perfomance evaluation.\n",
    "# change method name from model_evaluation_xgbclf to model_evaluation_clf.\n",
    "#model_evaluation_xgbclf(y_valid, svm_clf_results[0]) # svm_clf_results[0] = predicted values\n",
    "\n",
    "model_evaluation(y_valid, svm_clf_results[0], svm_clf_results[1]) # svm_clf_results[0] = predicted values"
   ]
  },
  {
   "cell_type": "markdown",
   "id": "c717ceb7-4764-4b99-a6e1-d6e92a407a87",
   "metadata": {
    "jp-MarkdownHeadingCollapsed": true,
    "tags": []
   },
   "source": [
    "##### Randomized GridSearchCV for SVC.\n",
    "\n",
    "Hyperparameters tuned: criterion and max_features.\n",
    "    - criterion refers to the way in which each split is evaluated from a class purity perspective (the purer the splits, the better).\n",
    "    - max_features is the maximum number of features the SVC can use when finding the best splits."
   ]
  },
  {
   "cell_type": "raw",
   "id": "f950864f-b66b-4d60-8b34-f68802bf4990",
   "metadata": {
    "tags": []
   },
   "source": [
    "from scipy import stats\n",
    "# alpha ~ gamma(1,1).\n",
    "param_dist = {'C': stats.uniform(2, 10),\\\n",
    "             'gamma': stats.uniform(0.1, 1)}\n",
    "\n",
    "# random search to sample 100 values and score on the accuracy\n",
    "rscv = model_selection.RandomizedSearchCV(\\\n",
    "                                         estimator=svm_clf,\\\n",
    "                                         param_distributions=param_dist,\\\n",
    "                                         n_iter=5,\\\n",
    "                                         scoring='accuracy',\\\n",
    "                                         cv=5)\n",
    "t0 = time.time()\n",
    "rscv.fit(X_train_os, y_train_os)\n",
    "t1 = time.time()\n",
    "print('training time: {:.2f} seconds'.format(t1-t0))"
   ]
  },
  {
   "cell_type": "raw",
   "id": "1e3bfe09-e74e-47d8-a955-2eeb7045da78",
   "metadata": {},
   "source": [
    "rscv.cv_results_"
   ]
  },
  {
   "cell_type": "code",
   "execution_count": 34,
   "id": "aab7ae3c-2d2b-4888-bf7c-236ce93c154d",
   "metadata": {},
   "outputs": [
    {
     "data": {
      "text/html": [
       "<div>\n",
       "<style scoped>\n",
       "    .dataframe tbody tr th:only-of-type {\n",
       "        vertical-align: middle;\n",
       "    }\n",
       "\n",
       "    .dataframe tbody tr th {\n",
       "        vertical-align: top;\n",
       "    }\n",
       "\n",
       "    .dataframe thead th {\n",
       "        text-align: right;\n",
       "    }\n",
       "</style>\n",
       "<table border=\"1\" class=\"dataframe\">\n",
       "  <thead>\n",
       "    <tr style=\"text-align: right;\">\n",
       "      <th></th>\n",
       "      <th>params</th>\n",
       "      <th>mean_test_score</th>\n",
       "    </tr>\n",
       "  </thead>\n",
       "  <tbody>\n",
       "    <tr>\n",
       "      <th>0</th>\n",
       "      <td>{'C': 8.476797857186243, 'gamma': 1.0613435571...</td>\n",
       "      <td>0.999733</td>\n",
       "    </tr>\n",
       "    <tr>\n",
       "      <th>3</th>\n",
       "      <td>{'C': 5.219821706822246, 'gamma': 0.8459226544...</td>\n",
       "      <td>0.999289</td>\n",
       "    </tr>\n",
       "    <tr>\n",
       "      <th>4</th>\n",
       "      <td>{'C': 4.214492443517372, 'gamma': 0.5912903819...</td>\n",
       "      <td>0.998844</td>\n",
       "    </tr>\n",
       "    <tr>\n",
       "      <th>1</th>\n",
       "      <td>{'C': 5.902128811260775, 'gamma': 0.4346517884...</td>\n",
       "      <td>0.998311</td>\n",
       "    </tr>\n",
       "    <tr>\n",
       "      <th>2</th>\n",
       "      <td>{'C': 8.109553724175276, 'gamma': 0.4476116293...</td>\n",
       "      <td>0.998311</td>\n",
       "    </tr>\n",
       "  </tbody>\n",
       "</table>\n",
       "</div>"
      ],
      "text/plain": [
       "                                              params  mean_test_score\n",
       "0  {'C': 8.476797857186243, 'gamma': 1.0613435571...         0.999733\n",
       "3  {'C': 5.219821706822246, 'gamma': 0.8459226544...         0.999289\n",
       "4  {'C': 4.214492443517372, 'gamma': 0.5912903819...         0.998844\n",
       "1  {'C': 5.902128811260775, 'gamma': 0.4346517884...         0.998311\n",
       "2  {'C': 8.109553724175276, 'gamma': 0.4476116293...         0.998311"
      ]
     },
     "execution_count": 34,
     "metadata": {},
     "output_type": "execute_result"
    }
   ],
   "source": [
    "import pickle\n",
    "\n",
    "from joblib import dump, load\n",
    "# Using loaded model from disk to memory.\n",
    "randomsearchcv_loaded_model = load('randomsearchcv_svm.joblib')\n",
    "\n",
    "\"\"\"\n",
    "## Run the code below if pre-trained model does not exist.\n",
    "\n",
    "# examine results by converting dictionary of results\n",
    "rscv_results = pd.DataFrame(rscv.cv_results_)\n",
    "\"\"\"\n",
    "\n",
    "# examine results by converting dictionary of results\n",
    "rscv_results = pd.DataFrame(randomsearchcv_loaded_model.cv_results_)\n",
    "\n",
    "# removing duplication\n",
    "rscv_distinct_results = rscv_results.loc[:,['params', 'mean_test_score']]\n",
    "\n",
    "# convert params dict to string data types\n",
    "rscv_distinct_results.loc[:, 'params'] = rscv_distinct_results.loc[:, 'params'].astype('str')\n",
    "\n",
    "# remove duplicates\n",
    "rscv_distinct_results.drop_duplicates(inplace=True)\n",
    "\n",
    "# top 5 best hyperparameters\n",
    "rscv_distinct_results.sort_values('mean_test_score', ascending=False).head(5)\n",
    "\n"
   ]
  },
  {
   "cell_type": "code",
   "execution_count": 35,
   "id": "c103bd63-a9ff-4da7-a308-7673c29028c4",
   "metadata": {},
   "outputs": [
    {
     "data": {
      "text/plain": [
       "<AxesSubplot:ylabel='params'>"
      ]
     },
     "execution_count": 35,
     "metadata": {},
     "output_type": "execute_result"
    },
    {
     "data": {
      "image/png": "[encoded data removed]",
      "text/plain": [
       "<Figure size 432x288 with 1 Axes>"
      ]
     },
     "metadata": {
      "needs_background": "light"
     },
     "output_type": "display_data"
    }
   ],
   "source": [
    "# top performing models\n",
    "rscv_distinct_results[rscv_distinct_results.mean_test_score > 0.9983].sort_values('mean_test_score').\\\n",
    "plot.barh(x='params', xlim=(0.95))"
   ]
  },
  {
   "cell_type": "raw",
   "id": "0d83aa90-59b4-4612-96fb-02338cd94f47",
   "metadata": {},
   "source": [
    "# save gridsearch model \n",
    "import pickle\n",
    "\n",
    "from joblib import dump, load\n",
    "\n",
    "# Save this TFIDF model on disk using joblib.\n",
    "dump(rscv, 'randomsearchcv_svm.joblib')\n",
    "\n",
    "# Load TFIDF model from disk to memory.\n",
    "#tfidf_model_loaded = load('tfidf_model.joblib')"
   ]
  },
  {
   "cell_type": "raw",
   "id": "4a2510d2-5bd9-4efe-a5fc-4850518d8bde",
   "metadata": {},
   "source": [
    "Run SVM model with {'C': 8.476797857186243, 'gamma': 1.061343557143012}"
   ]
  },
  {
   "cell_type": "code",
   "execution_count": 38,
   "id": "3de1715f-c277-4e16-8d8c-ddb892bcfe61",
   "metadata": {},
   "outputs": [
    {
     "name": "stdout",
     "output_type": "stream",
     "text": [
      "confusion matrix: [[  0   0  24]\n",
      " [  0   0  39]\n",
      " [  0   1 936]]\n",
      "\n",
      "accuracy: 0.936\n",
      "\n",
      "classification report:               precision    recall  f1-score   support\n",
      "\n",
      "           0       0.00      0.00      0.00        24\n",
      "           1       0.00      0.00      0.00        39\n",
      "           2       0.94      1.00      0.97       937\n",
      "\n",
      "    accuracy                           0.94      1000\n",
      "   macro avg       0.31      0.33      0.32      1000\n",
      "weighted avg       0.88      0.94      0.91      1000\n",
      "\n"
     ]
    },
    {
     "data": {
      "image/png": "[encoded data removed]",
      "text/plain": [
       "<Figure size 432x288 with 1 Axes>"
      ]
     },
     "metadata": {
      "needs_background": "light"
     },
     "output_type": "display_data"
    }
   ],
   "source": [
    "# Train hyperparameter tuned svm model.\n",
    "svm_clf_tuned = svm.SVC(C=8.476797857186243, gamma=1.061343557143012, probability=True)\n",
    "svm_clf_tuned_results = clf_model(svm_clf_tuned, X_train_os, y_train_os, X_valid)\n",
    "\n",
    "# Model evaluation\n",
    "model_evaluation(y_valid, svm_clf_tuned_results[0], svm_clf_tuned_results[1])"
   ]
  },
  {
   "cell_type": "markdown",
   "id": "fb92a78a-63d6-42ac-bd5a-51fa02b0c658",
   "metadata": {
    "tags": []
   },
   "source": [
    "##### Neural Nets"
   ]
  },
  {
   "cell_type": "raw",
   "id": "57b193fe-64b8-44c6-b7b5-54f0bb7b0249",
   "metadata": {},
   "source": [
    "Read the following chapter on Oreilly learning:\n",
    "https://learning.oreilly.com/library/view/the-deep-learning/9781839219856/B15385_05_Final_VK.xhtml#:-:text=5.%20Deep%20Learning%20for%20Sequences"
   ]
  },
  {
   "cell_type": "code",
   "execution_count": null,
   "id": "f9903489-37b9-4e87-9ac8-b3339177bee1",
   "metadata": {},
   "outputs": [],
   "source": []
  }
 ],
 "metadata": {
  "kernelspec": {
   "display_name": "Python 3 (ipykernel)",
   "language": "python",
   "name": "python3"
  },
  "language_info": {
   "codemirror_mode": {
    "name": "ipython",
    "version": 3
   },
   "file_extension": ".py",
   "mimetype": "text/x-python",
   "name": "python",
   "nbconvert_exporter": "python",
   "pygments_lexer": "ipython3",
   "version": "3.9.5"
  }
 },
 "nbformat": 4,
 "nbformat_minor": 5
}
